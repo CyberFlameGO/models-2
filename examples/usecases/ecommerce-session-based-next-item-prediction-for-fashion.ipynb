{
 "cells": [
  {
   "cell_type": "code",
   "execution_count": 1,
   "id": "cef5df96",
   "metadata": {},
   "outputs": [],
   "source": [
    "# Copyright 2021 NVIDIA Corporation. All Rights Reserved.\n",
    "#\n",
    "# Licensed under the Apache License, Version 2.0 (the \"License\");\n",
    "# you may not use this file except in compliance with the License.\n",
    "# You may obtain a copy of the License at\n",
    "#\n",
    "#     http://www.apache.org/licenses/LICENSE-2.0\n",
    "#\n",
    "# Unless required by applicable law or agreed to in writing, software\n",
    "# distributed under the License is distributed on an \"AS IS\" BASIS,\n",
    "# WITHOUT WARRANTIES OR CONDITIONS OF ANY KIND, either express or implied.\n",
    "# See the License for the specific language governing permissions and\n",
    "# limitations under the License.\n",
    "# =============================================================================="
   ]
  },
  {
   "cell_type": "markdown",
   "id": "854815b0",
   "metadata": {},
   "source": [
    "<img src=\"https://developer.download.nvidia.com/notebooks/dlsw-notebooks/merlin_models_ecommerce-session-based-next-item-prediction-for-fashion/nvidia_logo.png\" style=\"width: 90px; float: right;\">\n",
    "\n",
    "# Session-Based Next Item Prediction for Fashion E-Commerce\n",
    "\n",
    "This notebook is created using the latest stable [merlin-tensorflow](https://catalog.ngc.nvidia.com/orgs/nvidia/teams/merlin/containers/merlin-tensorflow/tags) container. \n",
    "\n",
    "## Overview\n",
    "\n",
    "NVIDIA-Merlin team participated in [Recsys2022 challenge](http://www.recsyschallenge.com/2022/index.html) and secured 3rd position. This notebook contains the various techniques used in the solution.\n",
    "\n",
    "### Learning Objective\n",
    "\n",
    "In this notebook, we will apply important concepts that improve recommender systems. We leveraged them for our RecSys solution:\n",
    "- MultiClass next item prediction head with Merlin Models\n",
    "- Sequential input features representing user sessions\n",
    "- Label Smoothing \n",
    "- Temperature Scaling\n",
    "- Weight Tying\n",
    "- Learning Rate Scheduler\n",
    "\n",
    "### Brief Description of the Concepts\n",
    "\n",
    "##### Label smoothing\n",
    "In recommender systems, we often have noisy datasets. A user cannot view all items to make the best decision. Noisy examples can result in high gradients and confuse the model. Label smoothing addresses the problem of noisy examples by smoothing the porbabilities to avoid high confident predictions.\n",
    "\n",
    "$$  \\begin{array}{l}\n",
    "y_{l} \\ =\\ ( 1\\ -\\ \\alpha \\ ) \\ *\\ y_{o} \\ +\\ ( \\alpha \\ /\\ L)\\\\\n",
    "\\alpha :\\ Label\\ smoothing\\ hyper-parameter\\ ( 0 \\leq \\alpha \\leq 1 ) \\\\\n",
    "L:\\ Total\\ number\\ of\\ label\\ classes\\\\\n",
    "y_{o} :\\ One-hot\\ encoded\\ label\\ vector\n",
    "\\end{array}\n",
    "$$\n",
    "\n",
    "When α is 0, we have the original one-hot encoded labels, and as α increases, we move towards smoothed labels. Read [this](https://arxiv.org/abs/1906.02629) paper to learn more about it.\n",
    "\n",
    "\n",
    "##### Temperature Scaling\n",
    "Similar to Label Smoothing, Temperature Scaling is done to reduce the overconfidence of a model. In this, we divide the logits (inputs to the softmax function) by a scalar parameter (T) . For more information on Temperature Scaling read [this](https://arxiv.org/pdf/1706.04599.pdf) paper.\n",
    "$$ softmax\\ =\\ \\frac{e\\ ^{( z_{i} \\ /\\ \\ T)}}{\\sum _{j} \\ e^{( z_{j} \\ /\\ T)} \\ } $$\n",
    "\n",
    "\n",
    "##### Weight Tying\n",
    "Weight Tying can be applied for Multi-Class Classification problems, when we try to predict items and have previous viewed items as an input. The final output layer (without activation function) is multiplied with the traversed item embeddings, resulting in a vector with a logit for each item id. The advantage is that the gradients flow to the item embeddings are short. For more information read [this](https://arxiv.org/pdf/1608.05859v3.pdf) paper."
   ]
  },
  {
   "cell_type": "markdown",
   "id": "af678b4c",
   "metadata": {},
   "source": [
    "## Downloading and preparing the dataset"
   ]
  },
  {
   "cell_type": "markdown",
   "id": "44ee802a",
   "metadata": {},
   "source": [
    "We will import the required libraries."
   ]
  },
  {
   "cell_type": "code",
   "execution_count": 1,
   "id": "cb0e1975",
   "metadata": {},
   "outputs": [
    {
     "name": "stderr",
     "output_type": "stream",
     "text": [
      "/usr/lib/python3/dist-packages/requests/__init__.py:89: RequestsDependencyWarning: urllib3 (1.26.12) or chardet (3.0.4) doesn't match a supported version!\n",
      "  warnings.warn(\"urllib3 ({}) or chardet ({}) doesn't match a supported \"\n",
      "2022-11-02 14:30:30.034489: I tensorflow/core/platform/cpu_feature_guard.cc:194] This TensorFlow binary is optimized with oneAPI Deep Neural Network Library (oneDNN) to use the following CPU instructions in performance-critical operations:  SSE3 SSE4.1 SSE4.2 AVX\n",
      "To enable them in other operations, rebuild TensorFlow with the appropriate compiler flags.\n",
      "2022-11-02 14:30:31.248034: I tensorflow/core/common_runtime/gpu/gpu_process_state.cc:222] Using CUDA malloc Async allocator for GPU: 0\n",
      "2022-11-02 14:30:31.248150: I tensorflow/core/common_runtime/gpu/gpu_device.cc:1532] Created device /job:localhost/replica:0/task:0/device:GPU:0 with 16249 MB memory:  -> device: 0, name: Quadro GV100, pci bus id: 0000:2d:00.0, compute capability: 7.0\n",
      "/usr/local/lib/python3.8/dist-packages/tqdm/auto.py:22: TqdmWarning: IProgress not found. Please update jupyter and ipywidgets. See https://ipywidgets.readthedocs.io/en/stable/user_install.html\n",
      "  from .autonotebook import tqdm as notebook_tqdm\n"
     ]
    }
   ],
   "source": [
    "import os\n",
    "import tensorflow as tf\n",
    "os.environ[\"TF_GPU_ALLOCATOR\"]=\"cuda_malloc_async\"\n",
    "import glob\n",
    "\n",
    "import nvtabular as nvt\n",
    "from merlin.io import Dataset\n",
    "from merlin.schema import Schema, Tags\n",
    "from nvtabular.ops import (\n",
    "    AddMetadata,\n",
    ")\n",
    "\n",
    "from tensorflow.keras import regularizers\n",
    "\n",
    "import merlin.models.tf as mm\n",
    "from merlin.models.tf import InputBlock\n",
    "from merlin.models.tf.models.base import Model\n",
    "from merlin.models.tf.transforms.bias import LogitsTemperatureScaler\n",
    "from merlin.models.tf.prediction_tasks.next_item import ItemsPredictionWeightTying\n",
    "\n",
    "from merlin.core.dispatch import get_lib"
   ]
  },
  {
   "cell_type": "markdown",
   "id": "af92ec55",
   "metadata": {},
   "source": [
    "###  Dressipi\n",
    "[Dressipi](http://www.recsyschallenge.com/2022/dataset.html) hosted the [Recsys2022 challenge](http://www.recsyschallenge.com/2022/index.html) and provided an anonymized dataset. It contains 1.1 M online retail sessions that resulted in a purchase. It provides details about items that were viewed in a session, the item purchased at the end of the session and numerous features of those items. The item features are categorical IDs and are not interpretable.\n",
    "\n",
    "The task of this competition was, given a sequence of items predict which item will be purchased at the end of a session.\n",
    "\n",
    "<img src=\"http://www.recsyschallenge.com/2022/images/session_purchase_data.jpeg\" alt=\"dressipi_dataset\" style=\"width: 400px; float: center;\">  \n"
   ]
  },
  {
   "cell_type": "markdown",
   "id": "7afab83f",
   "metadata": {},
   "source": [
    "### Dataset\n",
    "\n",
    "We provide a function `get_dressipi2022` which preprocess the dataset. Currently, we can't download this dataset automatically so this needs to be downloaded manually. To use this function, prepare the data by following these 3 steps:\n",
    "1. Sign up and download the data from [dressipi-recsys2022.com](https://www.dressipi-recsys2022.com/).\n",
    "2. Unzip the raw data to a directory.\n",
    "3. Define `DATA_FOLDER` to the directory\n",
    "\n",
    "In case you do not want to use this dataset to run our examples, you can also opt for synthetic data. Synthetic data can be generated by running::\n",
    "\n",
    "```python\n",
    "    from merlin.datasets.synthetic import generate_data\n",
    "    train, valid = generate_data(\"dressipi2022-preprocessed\", num_rows=10000, set_sizes=(0.8, 0.2))\n",
    "```"
   ]
  },
  {
   "cell_type": "code",
   "execution_count": 2,
   "id": "bd734f6b",
   "metadata": {},
   "outputs": [],
   "source": [
    "from merlin.datasets.ecommerce import get_dressipi2022\n",
    "\n",
    "DATA_FOLDER = os.environ.get(\n",
    "    \"DATA_FOLDER\", \n",
    "    '/workspace/data/dressipi_recsys2022'\n",
    ")\n",
    "\n",
    "train, valid = get_dressipi2022(DATA_FOLDER)"
   ]
  },
  {
   "cell_type": "markdown",
   "id": "6fb6edf8",
   "metadata": {},
   "source": [
    "The dataset contains:\n",
    "- `session_id`, id of a session, in which a user viewed and purchased an item. \n",
    "- `item_id` which was viewed at a given `timestamp` in a session\n",
    "- `purchase_id` which is the id of item bought at the end of the session \n",
    "\n",
    "In addition to `timestamp`, we have `day` and `date` features for representing the chronological order in which items were viewed.\n",
    "\n",
    "The items in the Dresspi dataset had a many features out of which we took 22 most important features, namely \n",
    "`f_3 ,f_4 ,f_5 ,f_7 ,f_17 ,f_24 ,f_30 ,f_45 ,f_46 ,f_47 ,f_50 ,f_53 ,f_55 ,f_56 ,f_58 ,f_61 ,f_63 ,f_65 ,f_68 ,f_69 ,f_72 ,f_73`."
   ]
  },
  {
   "cell_type": "code",
   "execution_count": 3,
   "id": "7e362d59",
   "metadata": {
    "scrolled": true
   },
   "outputs": [
    {
     "data": {
      "text/html": [
       "<div>\n",
       "<style scoped>\n",
       "    .dataframe tbody tr th:only-of-type {\n",
       "        vertical-align: middle;\n",
       "    }\n",
       "\n",
       "    .dataframe tbody tr th {\n",
       "        vertical-align: top;\n",
       "    }\n",
       "\n",
       "    .dataframe thead th {\n",
       "        text-align: right;\n",
       "    }\n",
       "</style>\n",
       "<table border=\"1\" class=\"dataframe\">\n",
       "  <thead>\n",
       "    <tr style=\"text-align: right;\">\n",
       "      <th></th>\n",
       "      <th>session_id</th>\n",
       "      <th>item_id</th>\n",
       "      <th>date</th>\n",
       "      <th>f_3</th>\n",
       "      <th>f_5</th>\n",
       "      <th>f_7</th>\n",
       "      <th>f_17</th>\n",
       "      <th>f_24</th>\n",
       "      <th>f_45</th>\n",
       "      <th>f_47</th>\n",
       "      <th>...</th>\n",
       "      <th>f_61</th>\n",
       "      <th>f_63</th>\n",
       "      <th>f_65</th>\n",
       "      <th>f_68</th>\n",
       "      <th>f_69</th>\n",
       "      <th>f_72</th>\n",
       "      <th>f_73</th>\n",
       "      <th>timestamp</th>\n",
       "      <th>day</th>\n",
       "      <th>purchase_id</th>\n",
       "    </tr>\n",
       "  </thead>\n",
       "  <tbody>\n",
       "    <tr>\n",
       "      <th>0</th>\n",
       "      <td>17395</td>\n",
       "      <td>23764</td>\n",
       "      <td>2021-04-04 19:43:08.697</td>\n",
       "      <td>-1</td>\n",
       "      <td>-1</td>\n",
       "      <td>394</td>\n",
       "      <td>-1</td>\n",
       "      <td>588</td>\n",
       "      <td>-1</td>\n",
       "      <td>123</td>\n",
       "      <td>...</td>\n",
       "      <td>462</td>\n",
       "      <td>861</td>\n",
       "      <td>-1</td>\n",
       "      <td>351</td>\n",
       "      <td>885</td>\n",
       "      <td>75</td>\n",
       "      <td>544</td>\n",
       "      <td>1617565388697</td>\n",
       "      <td>459</td>\n",
       "      <td>15566</td>\n",
       "    </tr>\n",
       "    <tr>\n",
       "      <th>1</th>\n",
       "      <td>17395</td>\n",
       "      <td>7545</td>\n",
       "      <td>2021-04-04 19:43:47.425</td>\n",
       "      <td>-1</td>\n",
       "      <td>-1</td>\n",
       "      <td>394</td>\n",
       "      <td>-1</td>\n",
       "      <td>588</td>\n",
       "      <td>-1</td>\n",
       "      <td>123</td>\n",
       "      <td>...</td>\n",
       "      <td>706</td>\n",
       "      <td>861</td>\n",
       "      <td>-1</td>\n",
       "      <td>531</td>\n",
       "      <td>885</td>\n",
       "      <td>75</td>\n",
       "      <td>544</td>\n",
       "      <td>1617565427425</td>\n",
       "      <td>459</td>\n",
       "      <td>15566</td>\n",
       "    </tr>\n",
       "    <tr>\n",
       "      <th>2</th>\n",
       "      <td>17395</td>\n",
       "      <td>20152</td>\n",
       "      <td>2021-04-04 19:43:55.411</td>\n",
       "      <td>-1</td>\n",
       "      <td>-1</td>\n",
       "      <td>394</td>\n",
       "      <td>-1</td>\n",
       "      <td>588</td>\n",
       "      <td>-1</td>\n",
       "      <td>123</td>\n",
       "      <td>...</td>\n",
       "      <td>462</td>\n",
       "      <td>861</td>\n",
       "      <td>-1</td>\n",
       "      <td>106</td>\n",
       "      <td>885</td>\n",
       "      <td>75</td>\n",
       "      <td>544</td>\n",
       "      <td>1617565435411</td>\n",
       "      <td>459</td>\n",
       "      <td>15566</td>\n",
       "    </tr>\n",
       "    <tr>\n",
       "      <th>3</th>\n",
       "      <td>17395</td>\n",
       "      <td>17479</td>\n",
       "      <td>2021-04-04 19:44:16.245</td>\n",
       "      <td>-1</td>\n",
       "      <td>-1</td>\n",
       "      <td>394</td>\n",
       "      <td>-1</td>\n",
       "      <td>588</td>\n",
       "      <td>-1</td>\n",
       "      <td>123</td>\n",
       "      <td>...</td>\n",
       "      <td>462</td>\n",
       "      <td>861</td>\n",
       "      <td>-1</td>\n",
       "      <td>744</td>\n",
       "      <td>499</td>\n",
       "      <td>75</td>\n",
       "      <td>544</td>\n",
       "      <td>1617565456245</td>\n",
       "      <td>459</td>\n",
       "      <td>15566</td>\n",
       "    </tr>\n",
       "    <tr>\n",
       "      <th>4</th>\n",
       "      <td>17395</td>\n",
       "      <td>8806</td>\n",
       "      <td>2021-04-04 19:44:32.168</td>\n",
       "      <td>-1</td>\n",
       "      <td>-1</td>\n",
       "      <td>394</td>\n",
       "      <td>-1</td>\n",
       "      <td>588</td>\n",
       "      <td>-1</td>\n",
       "      <td>123</td>\n",
       "      <td>...</td>\n",
       "      <td>462</td>\n",
       "      <td>861</td>\n",
       "      <td>-1</td>\n",
       "      <td>351</td>\n",
       "      <td>885</td>\n",
       "      <td>75</td>\n",
       "      <td>544</td>\n",
       "      <td>1617565472168</td>\n",
       "      <td>459</td>\n",
       "      <td>15566</td>\n",
       "    </tr>\n",
       "  </tbody>\n",
       "</table>\n",
       "<p>5 rows × 24 columns</p>\n",
       "</div>"
      ],
      "text/plain": [
       "   session_id  item_id                    date  f_3  f_5  f_7  f_17  f_24  \\\n",
       "0       17395    23764 2021-04-04 19:43:08.697   -1   -1  394    -1   588   \n",
       "1       17395     7545 2021-04-04 19:43:47.425   -1   -1  394    -1   588   \n",
       "2       17395    20152 2021-04-04 19:43:55.411   -1   -1  394    -1   588   \n",
       "3       17395    17479 2021-04-04 19:44:16.245   -1   -1  394    -1   588   \n",
       "4       17395     8806 2021-04-04 19:44:32.168   -1   -1  394    -1   588   \n",
       "\n",
       "   f_45  f_47  ...  f_61  f_63  f_65  f_68  f_69  f_72  f_73      timestamp  \\\n",
       "0    -1   123  ...   462   861    -1   351   885    75   544  1617565388697   \n",
       "1    -1   123  ...   706   861    -1   531   885    75   544  1617565427425   \n",
       "2    -1   123  ...   462   861    -1   106   885    75   544  1617565435411   \n",
       "3    -1   123  ...   462   861    -1   744   499    75   544  1617565456245   \n",
       "4    -1   123  ...   462   861    -1   351   885    75   544  1617565472168   \n",
       "\n",
       "   day  purchase_id  \n",
       "0  459        15566  \n",
       "1  459        15566  \n",
       "2  459        15566  \n",
       "3  459        15566  \n",
       "4  459        15566  \n",
       "\n",
       "[5 rows x 24 columns]"
      ]
     },
     "execution_count": 3,
     "metadata": {},
     "output_type": "execute_result"
    }
   ],
   "source": [
    "train.to_ddf().head()"
   ]
  },
  {
   "cell_type": "markdown",
   "id": "13a4235e",
   "metadata": {},
   "source": [
    "## Feature Engineering with NVTabular\n",
    "\n",
    "We use NVTabular for Feature Engineering. If you want to learn more about NVTabular, we recommend the [examples in the NVTabular GitHub Repository](https://github.com/NVIDIA-Merlin/NVTabular/tree/main/examples)."
   ]
  },
  {
   "cell_type": "markdown",
   "id": "89f5e2b7",
   "metadata": {},
   "source": [
    "### Categorify\n",
    "\n",
    "We want to use embedding layers for our categorical features. First, we need to Categorify them, that they are contiguous integers. \n",
    "\n",
    "The features `item_id` and `purchase_id` belongs to the same category. If `item_id` is 8432 and `purchase_id` is 8432, they are the same item. When we want to apply Categorify, we want to keep the connection. We can achieve this by encoding them jointly by providing them as a list in the list `[['item_id', 'purchase_id']]`."
   ]
  },
  {
   "cell_type": "markdown",
   "id": "1389a708",
   "metadata": {},
   "source": [
    "We will use only 2 of the categorical item features in this example."
   ]
  },
  {
   "cell_type": "code",
   "execution_count": 5,
   "id": "0f834311",
   "metadata": {},
   "outputs": [
    {
     "name": "stdout",
     "output_type": "stream",
     "text": [
      "CPU times: user 67 µs, sys: 26 µs, total: 93 µs\n",
      "Wall time: 96.8 µs\n"
     ]
    }
   ],
   "source": [
    "%%time\n",
    "item_features_names = ['f_' + str(col) for col in [47, 68]]\n",
    "cat_features = [['item_id', 'purchase_id']] + item_features_names >> nvt.ops.Categorify(start_index=1, dtype='int32')\n",
    "\n",
    "features = ['session_id', 'timestamp', 'date'] + cat_features"
   ]
  },
  {
   "cell_type": "markdown",
   "id": "fe10a791",
   "metadata": {},
   "source": [
    "### GroupBy the data by sessions.\n",
    "\n",
    "Currently, every row is a viewed item in the dataset. Our goal is to predict the item purchased after the last view in a session. Therefore, we groupby the dataset by `session_id` to have one row for each prediction.\n",
    "\n",
    "Each row will have a sequence of encoded items ids with which a user interacted. The last item of a session has special importance as it is closer to the user's intention. We will keep the viewed item as a separate feature.\n",
    "\n",
    "The NVTabular `GroupBy` op enables the transformation. \n",
    "\n",
    "First, we define how the different columns should be aggregates:\n",
    "- Keep the first occurrence of `date`\n",
    "- Keep the last item and concatenate all items to a list (results are 2 features)\n",
    "- Keep the first occurrence of `purchase_id` (purchase_id should be the same for all rows of one session)"
   ]
  },
  {
   "cell_type": "code",
   "execution_count": 6,
   "id": "de40cfc5",
   "metadata": {},
   "outputs": [],
   "source": [
    "to_aggregate = {}\n",
    "to_aggregate['date'] = [\"first\"]\n",
    "to_aggregate['item_id'] = [\"last\", \"list\"]\n",
    "to_aggregate['purchase_id'] = [\"first\"]   "
   ]
  },
  {
   "cell_type": "markdown",
   "id": "453abf34",
   "metadata": {},
   "source": [
    "In addition, we concatenate each item features to a list."
   ]
  },
  {
   "cell_type": "code",
   "execution_count": 7,
   "id": "7d6450e7",
   "metadata": {},
   "outputs": [],
   "source": [
    "for name in item_features_names: \n",
    "    to_aggregate[name] = ['list']"
   ]
  },
  {
   "cell_type": "code",
   "execution_count": 8,
   "id": "6963a0c0",
   "metadata": {},
   "outputs": [
    {
     "data": {
      "text/plain": [
       "{'date': ['first'],\n",
       " 'item_id': ['last', 'list'],\n",
       " 'purchase_id': ['first'],\n",
       " 'f_47': ['list'],\n",
       " 'f_68': ['list']}"
      ]
     },
     "execution_count": 8,
     "metadata": {},
     "output_type": "execute_result"
    }
   ],
   "source": [
    "to_aggregate"
   ]
  },
  {
   "cell_type": "markdown",
   "id": "caead45e",
   "metadata": {},
   "source": [
    "We want to sort the dataframe by `date` and groupby the columns by `session_id`."
   ]
  },
  {
   "cell_type": "code",
   "execution_count": 9,
   "id": "ad84c3af",
   "metadata": {},
   "outputs": [],
   "source": [
    "groupby_features = features >> nvt.ops.Groupby(\n",
    "    groupby_cols=[\"session_id\"], \n",
    "    sort_cols=[\"date\"],\n",
    "    aggs= to_aggregate,\n",
    "    name_sep=\"_\")"
   ]
  },
  {
   "cell_type": "markdown",
   "id": "a375e1d5",
   "metadata": {},
   "source": [
    "Merlin Models can infer the neural network architecture from the dataset schema. We will Tag the columns accordingly based on the type of each column. If you want to learn more, we recommend our [Dataset Schema Example](https://github.com/NVIDIA-Merlin/models/blob/main/examples/02-Merlin-Models-and-NVTabular-integration.ipynb)."
   ]
  },
  {
   "cell_type": "code",
   "execution_count": 10,
   "id": "8732e63c",
   "metadata": {},
   "outputs": [],
   "source": [
    "item_last = (\n",
    "    groupby_features['item_id_last'] >> \n",
    "    AddMetadata(tags=[Tags.ITEM, Tags.ITEM_ID])\n",
    ")\n",
    "item_list = (\n",
    "    groupby_features['item_id_list'] >> \n",
    "    AddMetadata(\n",
    "        tags=[Tags.ITEM, Tags.ITEM_ID, Tags.LIST, Tags.SEQUENCE]\n",
    "    )\n",
    ")\n",
    "feature_list = (\n",
    "    groupby_features[[name+'_list' for name in item_features_names]] >> \n",
    "    AddMetadata(\n",
    "        tags=[Tags.SEQUENCE, Tags.ITEM, Tags.LIST]\n",
    "    )\n",
    ")\n",
    "target_feature = (\n",
    "    groupby_features['purchase_id_first'] >> \n",
    "    AddMetadata(tags=[Tags.TARGET])\n",
    ")\n",
    "other_features = groupby_features['session_id', 'date_first']\n",
    "\n",
    "groupby_features = item_last + item_list + feature_list + other_features + target_feature\n"
   ]
  },
  {
   "cell_type": "markdown",
   "id": "2e9a9832",
   "metadata": {},
   "source": [
    "### Truncate and Padding for a Maximum Sequence Length\n",
    "\n",
    "We want to truncate and pad the sequential features. We define the columns, which are sequential features and the non-sequential ones. We truncate the sequence by keeping the last 3 elements."
   ]
  },
  {
   "cell_type": "code",
   "execution_count": 11,
   "id": "0e65dbe4",
   "metadata": {},
   "outputs": [],
   "source": [
    "list_features = [name+'_list' for name in item_features_names] + ['item_id_list']\n",
    "nonlist_features = ['session_id', 'date_first', 'item_id_last', 'purchase_id_first']"
   ]
  },
  {
   "cell_type": "code",
   "execution_count": 12,
   "id": "d0d338d0",
   "metadata": {},
   "outputs": [],
   "source": [
    "SESSIONS_MAX_LENGTH = 3\n",
    "truncated_features = groupby_features[list_features] >> nvt.ops.ListSlice(-SESSIONS_MAX_LENGTH, pad=True) >> nvt.ops.Rename(postfix = '_seq')\n",
    "\n",
    "final_features = groupby_features[nonlist_features] + truncated_features"
   ]
  },
  {
   "cell_type": "markdown",
   "id": "cdb2caa1",
   "metadata": {},
   "source": [
    "We initialize our NVTabular workflow."
   ]
  },
  {
   "cell_type": "code",
   "execution_count": 13,
   "id": "74b030ef",
   "metadata": {},
   "outputs": [],
   "source": [
    "workflow = nvt.Workflow(final_features)"
   ]
  },
  {
   "cell_type": "markdown",
   "id": "c6954007",
   "metadata": {},
   "source": [
    "We call fit and transform similar to the scikit learn API.\n",
    "\n",
    "Categorify will map item_ids (and purchase_ids), which does not occur in the train dataset, to a special category `0` in the validation dataset. This can bias the validation metrics. In our example, almost all item_ids in validation are available in train and we neglect it."
   ]
  },
  {
   "cell_type": "code",
   "execution_count": 14,
   "id": "65f5c222",
   "metadata": {},
   "outputs": [
    {
     "name": "stderr",
     "output_type": "stream",
     "text": [
      "/usr/local/lib/python3.8/dist-packages/merlin/schema/tags.py:148: UserWarning: Compound tags like Tags.ITEM_ID have been deprecated and will be removed in a future version. Please use the atomic versions of these tags, like [<Tags.ITEM: 'item'>, <Tags.ID: 'id'>].\n",
      "  warnings.warn(\n",
      "/usr/local/lib/python3.8/dist-packages/merlin/schema/tags.py:148: UserWarning: Compound tags like Tags.ITEM_ID have been deprecated and will be removed in a future version. Please use the atomic versions of these tags, like [<Tags.ITEM: 'item'>, <Tags.ID: 'id'>].\n",
      "  warnings.warn(\n"
     ]
    }
   ],
   "source": [
    "# fit data\n",
    "workflow.fit(train)\n",
    "\n",
    "# transform and save data\n",
    "workflow.transform(train).to_parquet(os.path.join(DATA_FOLDER, \"train/\"), output_files=10)\n",
    "workflow.transform(valid).to_parquet(os.path.join(DATA_FOLDER, \"valid/\"), output_files=1)"
   ]
  },
  {
   "cell_type": "markdown",
   "id": "0d222c0e",
   "metadata": {},
   "source": [
    "### Sort the Training Dataset by Time\n",
    "\n",
    "The train dataset contains the data from Jan 2020 to April 2021 and the validation dataset is May 2021. As the data is split by time, we noticed that we achieve higher validation scores, when we sort the training data by time and do not apply shuffling."
   ]
  },
  {
   "cell_type": "code",
   "execution_count": 15,
   "id": "5ba81642",
   "metadata": {},
   "outputs": [],
   "source": [
    "df = get_lib().read_parquet(\n",
    "    glob.glob(\n",
    "        os.path.join(DATA_FOLDER, \"train/*.parquet\")\n",
    "    )\n",
    ")\n",
    "df = df.sort_values('date_first').reset_index(drop=True)\n",
    "df.to_parquet(os.path.join(DATA_FOLDER, \"train_sorted.parquet\"))"
   ]
  },
  {
   "cell_type": "markdown",
   "id": "f58c04dc",
   "metadata": {},
   "source": [
    "Let's review the transformed dataset."
   ]
  },
  {
   "cell_type": "code",
   "execution_count": 16,
   "id": "03de5beb",
   "metadata": {},
   "outputs": [
    {
     "data": {
      "text/html": [
       "<div>\n",
       "<style scoped>\n",
       "    .dataframe tbody tr th:only-of-type {\n",
       "        vertical-align: middle;\n",
       "    }\n",
       "\n",
       "    .dataframe tbody tr th {\n",
       "        vertical-align: top;\n",
       "    }\n",
       "\n",
       "    .dataframe thead th {\n",
       "        text-align: right;\n",
       "    }\n",
       "</style>\n",
       "<table border=\"1\" class=\"dataframe\">\n",
       "  <thead>\n",
       "    <tr style=\"text-align: right;\">\n",
       "      <th></th>\n",
       "      <th>session_id</th>\n",
       "      <th>date_first</th>\n",
       "      <th>item_id_last</th>\n",
       "      <th>purchase_id_first</th>\n",
       "      <th>f_47_list_seq</th>\n",
       "      <th>f_68_list_seq</th>\n",
       "      <th>item_id_list_seq</th>\n",
       "    </tr>\n",
       "  </thead>\n",
       "  <tbody>\n",
       "    <tr>\n",
       "      <th>0</th>\n",
       "      <td>3747794</td>\n",
       "      <td>2020-01-01 00:00:01.359</td>\n",
       "      <td>7920</td>\n",
       "      <td>13757</td>\n",
       "      <td>[3, 6, 14]</td>\n",
       "      <td>[2, 10, 8]</td>\n",
       "      <td>[538, 4177, 7920]</td>\n",
       "    </tr>\n",
       "    <tr>\n",
       "      <th>1</th>\n",
       "      <td>3458777</td>\n",
       "      <td>2020-01-01 00:00:21.440</td>\n",
       "      <td>11594</td>\n",
       "      <td>17900</td>\n",
       "      <td>[2, 2, 2]</td>\n",
       "      <td>[10, 45, 7]</td>\n",
       "      <td>[14809, 7840, 11594]</td>\n",
       "    </tr>\n",
       "    <tr>\n",
       "      <th>2</th>\n",
       "      <td>4350716</td>\n",
       "      <td>2020-01-01 00:00:48.505</td>\n",
       "      <td>5192</td>\n",
       "      <td>14217</td>\n",
       "      <td>[14, 0, 0]</td>\n",
       "      <td>[9, 0, 0]</td>\n",
       "      <td>[5192, 0, 0]</td>\n",
       "    </tr>\n",
       "    <tr>\n",
       "      <th>3</th>\n",
       "      <td>2579761</td>\n",
       "      <td>2020-01-01 00:06:37.801</td>\n",
       "      <td>9675</td>\n",
       "      <td>12251</td>\n",
       "      <td>[9, 8, 9]</td>\n",
       "      <td>[15, 4, 4]</td>\n",
       "      <td>[19431, 16369, 9675]</td>\n",
       "    </tr>\n",
       "    <tr>\n",
       "      <th>4</th>\n",
       "      <td>2048031</td>\n",
       "      <td>2020-01-01 00:08:19.297</td>\n",
       "      <td>14877</td>\n",
       "      <td>12751</td>\n",
       "      <td>[2, 6, 2]</td>\n",
       "      <td>[6, 2, 10]</td>\n",
       "      <td>[779, 15326, 14877]</td>\n",
       "    </tr>\n",
       "  </tbody>\n",
       "</table>\n",
       "</div>"
      ],
      "text/plain": [
       "   session_id              date_first  item_id_last  purchase_id_first  \\\n",
       "0     3747794 2020-01-01 00:00:01.359          7920              13757   \n",
       "1     3458777 2020-01-01 00:00:21.440         11594              17900   \n",
       "2     4350716 2020-01-01 00:00:48.505          5192              14217   \n",
       "3     2579761 2020-01-01 00:06:37.801          9675              12251   \n",
       "4     2048031 2020-01-01 00:08:19.297         14877              12751   \n",
       "\n",
       "  f_47_list_seq f_68_list_seq      item_id_list_seq  \n",
       "0    [3, 6, 14]    [2, 10, 8]     [538, 4177, 7920]  \n",
       "1     [2, 2, 2]   [10, 45, 7]  [14809, 7840, 11594]  \n",
       "2    [14, 0, 0]     [9, 0, 0]          [5192, 0, 0]  \n",
       "3     [9, 8, 9]    [15, 4, 4]  [19431, 16369, 9675]  \n",
       "4     [2, 6, 2]    [6, 2, 10]   [779, 15326, 14877]  "
      ]
     },
     "execution_count": 16,
     "metadata": {},
     "output_type": "execute_result"
    }
   ],
   "source": [
    "df.head()"
   ]
  },
  {
   "cell_type": "code",
   "execution_count": 17,
   "id": "3e4cb388",
   "metadata": {},
   "outputs": [],
   "source": [
    "del df"
   ]
  },
  {
   "cell_type": "markdown",
   "id": "04948a31",
   "metadata": {},
   "source": [
    "## Training an MLP with sequential input with Merlin Models\n",
    "\n",
    "We train a Sequential-Multi-Layer Perceptron model, which averages the sequential input features (e.g. `item_id_list_seq`) and concatenate the resulting embeddings with the categorical embeddings (e.g. `item_id_last`). We visualize the architecture in the figure below.\n",
    "\n",
    "<img src=\"../images/mlp_ecommerce.png\"  width=\"30%\">"
   ]
  },
  {
   "cell_type": "markdown",
   "id": "da6d6a7d",
   "metadata": {},
   "source": [
    "### Dataloader\n",
    "\n",
    "We initialize the dataloaders to train the neural network models. First, we define NVTabular dataset."
   ]
  },
  {
   "cell_type": "code",
   "execution_count": 3,
   "id": "7f673e06",
   "metadata": {},
   "outputs": [
    {
     "name": "stderr",
     "output_type": "stream",
     "text": [
      "/usr/local/lib/python3.8/dist-packages/merlin/schema/tags.py:148: UserWarning: Compound tags like Tags.ITEM_ID have been deprecated and will be removed in a future version. Please use the atomic versions of these tags, like [<Tags.ITEM: 'item'>, <Tags.ID: 'id'>].\n",
      "  warnings.warn(\n"
     ]
    }
   ],
   "source": [
    "train = Dataset(os.path.join(DATA_FOLDER, 'train_sorted.parquet'))\n",
    "valid = Dataset(os.path.join(DATA_FOLDER, 'valid/*.parquet'))"
   ]
  },
  {
   "cell_type": "markdown",
   "id": "5546df60",
   "metadata": {},
   "source": [
    "As we loaded, sorted and saved the train dataset without using NVTabular, the parquet file doesn't contain a schema, anymore. We can copy the schema from valid to train."
   ]
  },
  {
   "cell_type": "code",
   "execution_count": 4,
   "id": "4f89a79a",
   "metadata": {},
   "outputs": [],
   "source": [
    "train.schema = valid.schema\n",
    "schema_model = train.schema"
   ]
  },
  {
   "cell_type": "markdown",
   "id": "92782bbb-5715-49b6-9750-fda93fb36a5d",
   "metadata": {},
   "source": [
    "#### Hyperparameters\n",
    "\n",
    "We use the following hyperparameters, we found during experimentations."
   ]
  },
  {
   "cell_type": "code",
   "execution_count": 5,
   "id": "45d40de0-138c-4410-83df-cda5a34867c3",
   "metadata": {},
   "outputs": [],
   "source": [
    "EPOCHS = int(os.environ.get(\n",
    "    \"EPOCHS\", \n",
    "    '5'\n",
    "))\n",
    "BATCH_SIZE = 512\n",
    "LEARNING_RATE = 0.2\n",
    "DROPOUT = 0.2 \n",
    "LABEL_SMOOTHING = 0.2\n",
    "TEMPERATURE_SCALING = 2"
   ]
  },
  {
   "cell_type": "markdown",
   "id": "c23313f7",
   "metadata": {},
   "source": [
    "The default dataloader does shuffle by default. We will initialize the Loader `Loader` for the training dataset."
   ]
  },
  {
   "cell_type": "code",
   "execution_count": 6,
   "id": "f0ddad65",
   "metadata": {},
   "outputs": [],
   "source": [
    "train_dl = mm.Loader(\n",
    "    train,\n",
    "    batch_size = BATCH_SIZE,\n",
    "    shuffle = False \n",
    ")"
   ]
  },
  {
   "cell_type": "markdown",
   "id": "5e197311",
   "metadata": {},
   "source": [
    "### Build the Sequential MLP with Merlin Models\n",
    "\n",
    "Now we will create an InputBlock which takes sequential features, concatenate them and return the sequence of interaction embeddings."
   ]
  },
  {
   "cell_type": "markdown",
   "id": "838ea63b",
   "metadata": {},
   "source": [
    "We define the embedding dimensions, manually.\n",
    "\n"
   ]
  },
  {
   "cell_type": "code",
   "execution_count": 23,
   "id": "f4dce190",
   "metadata": {},
   "outputs": [],
   "source": [
    "manual_dims = {\n",
    "    'item_id_list_seq': 256, \n",
    "    'item_id_last': 256,\n",
    "    'f_47_list_seq': 16,\n",
    "    'f_68_list_seq': 16\n",
    "}\n",
    "\n",
    "emb_options = mm.EmbeddingOptions(\n",
    "        embedding_dims=manual_dims,\n",
    "        infer_embedding_sizes=False,\n",
    ")"
   ]
  },
  {
   "cell_type": "code",
   "execution_count": 24,
   "id": "4e6990cc",
   "metadata": {},
   "outputs": [],
   "source": [
    "input_block = InputBlock(\n",
    "    schema_model.select_by_name(\n",
    "        ['item_id_list_seq', 'item_id_last', 'f_47_list_seq', 'f_68_list_seq']\n",
    "    ), \n",
    "    aggregation='concat',\n",
    "    embedding_options = emb_options\n",
    ")"
   ]
  },
  {
   "cell_type": "markdown",
   "id": "a5241379",
   "metadata": {},
   "source": [
    "Next, we define the prediction task. Our objective is multi-class classification - which is the item purchased at the end of the session. Therefore, we use the `MultiClassClassificationTask` task. \n",
    "\n",
    "Before the loss is calculated, we want to transform the model output:\n",
    "1. We apply L2 norm to the model logits.\n",
    "2. We apply Weight Tying (see in the beginning) and multiply the model output with the embedding weights from ITEM_ID.  The embedding dimensions and the model output dimensions have to be the same (256 in our example).\n",
    "3. We transform the ground truth into OneHot representation\n",
    "4. We apply Temperature Scaling\n",
    "\n",
    "The pipeline is called `prediction_call` and we add it as the `pre` parameter to `MultiClassClassificationTask`. The pipeline is executed before the loss is calculated."
   ]
  },
  {
   "cell_type": "code",
   "execution_count": 25,
   "id": "0b053041",
   "metadata": {},
   "outputs": [],
   "source": [
    "prediction_call = mm.L2Norm().connect(\n",
    "    ItemsPredictionWeightTying(schema_model), \n",
    "    mm.ToOneHot(),\n",
    "    LogitsTemperatureScaler(temperature=TEMPERATURE_SCALING)\n",
    ")\n",
    "\n",
    "prediction_task = mm.MultiClassClassificationTask(\n",
    "    target_name=\"purchase_id_first\",\n",
    "    pre=prediction_call,\n",
    ")"
   ]
  },
  {
   "cell_type": "markdown",
   "id": "badda542",
   "metadata": {},
   "source": [
    "Now, we will build a model with a 2-layer MLPBlock, using `input_block` as the input and `prediction_task` as the task."
   ]
  },
  {
   "cell_type": "code",
   "execution_count": 26,
   "id": "bf487950",
   "metadata": {},
   "outputs": [],
   "source": [
    "model_mlp = mm.Model.from_block(\n",
    "    mm.MLPBlock(\n",
    "        [128,256], \n",
    "        no_activation_last_layer=True, \n",
    "        dropout=0.2\n",
    "    ),\n",
    "    schema_model, \n",
    "    input_block=input_block,\n",
    "    prediction_tasks=prediction_task\n",
    ")"
   ]
  },
  {
   "cell_type": "markdown",
   "id": "54efec72",
   "metadata": {},
   "source": [
    "### Fit the Model\n",
    "\n",
    "We initialize the optimizer with `ExponentialDecay` learning rate scheduler and compile the model - similar to other TensorFlow Keras API. The competition was evaluated based on MRR@100."
   ]
  },
  {
   "cell_type": "code",
   "execution_count": 27,
   "id": "4b893377",
   "metadata": {},
   "outputs": [],
   "source": [
    "initial_learning_rate = LEARNING_RATE\n",
    "\n",
    "exp_decay_lr_scheduler = tf.keras.optimizers.schedules.ExponentialDecay(\n",
    "    initial_learning_rate,\n",
    "    decay_steps=100000,\n",
    "    decay_rate=0.96,\n",
    "    staircase=True)"
   ]
  },
  {
   "cell_type": "code",
   "execution_count": 28,
   "id": "2cd66c98",
   "metadata": {},
   "outputs": [],
   "source": [
    "optimizer = tf.keras.optimizers.Adam(\n",
    "    learning_rate=exp_decay_lr_scheduler,\n",
    ")\n",
    "\n",
    "model_mlp.compile(\n",
    "    optimizer=optimizer,\n",
    "    run_eagerly=True,\n",
    "    loss=tf.keras.losses.CategoricalCrossentropy(\n",
    "        from_logits=True, \n",
    "        label_smoothing=LABEL_SMOOTHING\n",
    "    ),\n",
    "    metrics=mm.TopKMetricsAggregator.default_metrics(top_ks=[100])\n",
    ")"
   ]
  },
  {
   "cell_type": "markdown",
   "id": "68e82bee",
   "metadata": {},
   "source": [
    "We call `.fit` to train the model."
   ]
  },
  {
   "cell_type": "code",
   "execution_count": 29,
   "id": "3f6deb23",
   "metadata": {},
   "outputs": [
    {
     "name": "stdout",
     "output_type": "stream",
     "text": [
      "Epoch 1/5\n",
      "1799/1799 [==============================] - 212s 114ms/step - loss: 7.7823 - recall_at_100: 0.3829 - mrr_at_100: 0.0808 - ndcg_at_100: 0.1377 - map_at_100: 0.0808 - precision_at_100: 0.0038 - regularization_loss: 0.0000e+00 - val_loss: 7.8075 - val_recall_at_100: 0.4960 - val_mrr_at_100: 0.1168 - val_ndcg_at_100: 0.1900 - val_map_at_100: 0.1168 - val_precision_at_100: 0.0050 - val_regularization_loss: 0.0000e+00\n",
      "Epoch 2/5\n",
      "1799/1799 [==============================] - 215s 118ms/step - loss: 7.4948 - recall_at_100: 0.4761 - mrr_at_100: 0.1202 - ndcg_at_100: 0.1889 - map_at_100: 0.1202 - precision_at_100: 0.0048 - regularization_loss: 0.0000e+00 - val_loss: 7.7824 - val_recall_at_100: 0.5073 - val_mrr_at_100: 0.1290 - val_ndcg_at_100: 0.2022 - val_map_at_100: 0.1290 - val_precision_at_100: 0.0051 - val_regularization_loss: 0.0000e+00\n",
      "Epoch 3/5\n",
      "1799/1799 [==============================] - 210s 115ms/step - loss: 7.3563 - recall_at_100: 0.5215 - mrr_at_100: 0.1400 - ndcg_at_100: 0.2140 - map_at_100: 0.1400 - precision_at_100: 0.0052 - regularization_loss: 0.0000e+00 - val_loss: 7.7939 - val_recall_at_100: 0.5068 - val_mrr_at_100: 0.1354 - val_ndcg_at_100: 0.2073 - val_map_at_100: 0.1354 - val_precision_at_100: 0.0051 - val_regularization_loss: 0.0000e+00\n",
      "Epoch 4/5\n",
      "1799/1799 [==============================] - 214s 117ms/step - loss: 7.2600 - recall_at_100: 0.5494 - mrr_at_100: 0.1549 - ndcg_at_100: 0.2316 - map_at_100: 0.1549 - precision_at_100: 0.0055 - regularization_loss: 0.0000e+00 - val_loss: 7.8074 - val_recall_at_100: 0.5065 - val_mrr_at_100: 0.1392 - val_ndcg_at_100: 0.2105 - val_map_at_100: 0.1392 - val_precision_at_100: 0.0051 - val_regularization_loss: 0.0000e+00\n",
      "Epoch 5/5\n",
      "1799/1799 [==============================] - 215s 118ms/step - loss: 7.1810 - recall_at_100: 0.5728 - mrr_at_100: 0.1676 - ndcg_at_100: 0.2465 - map_at_100: 0.1676 - precision_at_100: 0.0057 - regularization_loss: 0.0000e+00 - val_loss: 7.8233 - val_recall_at_100: 0.5056 - val_mrr_at_100: 0.1423 - val_ndcg_at_100: 0.2129 - val_map_at_100: 0.1423 - val_precision_at_100: 0.0051 - val_regularization_loss: 0.0000e+00\n",
      "CPU times: user 18min 18s, sys: 46.8 s, total: 19min 5s\n",
      "Wall time: 17min 48s\n"
     ]
    }
   ],
   "source": [
    "%%time\n",
    "history = model_mlp.fit(\n",
    "    train_dl,\n",
    "    validation_data=valid,\n",
    "    batch_size=BATCH_SIZE,\n",
    "    epochs=EPOCHS,\n",
    "    schema=schema_model,\n",
    ")"
   ]
  },
  {
   "cell_type": "markdown",
   "id": "0160f023",
   "metadata": {},
   "source": [
    "We can evaluate the model."
   ]
  },
  {
   "cell_type": "code",
   "execution_count": 30,
   "id": "4f114178",
   "metadata": {},
   "outputs": [
    {
     "name": "stdout",
     "output_type": "stream",
     "text": [
      "155/155 [==============================] - 29s 181ms/step - loss: 7.8234 - recall_at_100: 0.5050 - mrr_at_100: 0.1430 - ndcg_at_100: 0.2132 - map_at_100: 0.1430 - precision_at_100: 0.0050 - regularization_loss: 0.0000e+00\n"
     ]
    },
    {
     "data": {
      "text/plain": [
       "0.14233627915382385"
      ]
     },
     "execution_count": 30,
     "metadata": {},
     "output_type": "execute_result"
    }
   ],
   "source": [
    "metrics_mlp = model_mlp.evaluate(valid, batch_size=BATCH_SIZE, return_dict=True)\n",
    "metrics_mlp['mrr_at_100']"
   ]
  },
  {
   "cell_type": "markdown",
   "id": "b9d8dbe8",
   "metadata": {
    "tags": []
   },
   "source": [
    "## Training a Bi-LSTM with Merlin Models\n",
    "\n",
    "\n",
    "In this section, we train a Bi-LSTM model, which concatenates the embedding vectors for all sequential features (`item_id_list_seq`, `f_47_list_seq`, `f_68_list_seq`) per step (e.g. here 3). The concatenated vectors are processed by a BiLSTM. The hidden state of the BiLSTM is concatenated with the embedding vectors of the categorical features (`item_id_last`). Then we connect it with a Multi-Layer Perceptron Block. We visualize the architecture in the figure below.\n",
    "\n",
    "<img src=\"../images/bi-lstm_ecommerce.png\"  width=\"30%\">"
   ]
  },
  {
   "cell_type": "markdown",
   "id": "081cf607",
   "metadata": {},
   "source": [
    "### Build the Sequential MLP with Merlin Models\n",
    "Now we will create two InputBlock which takes sequential and categorical features, concatenate them and return the interaction embeddings.\n",
    "\n",
    "#### Hyperparameters\n",
    "We only updated the `LEARNING_RATE`, as in our experimentations we found Bi-LSTM gave better results with lower learning rate.\n"
   ]
  },
  {
   "cell_type": "code",
   "execution_count": 6,
   "id": "9d74c292-22c9-4870-b225-3d41e7526152",
   "metadata": {},
   "outputs": [],
   "source": [
    "LEARNING_RATE = 0.005"
   ]
  },
  {
   "cell_type": "markdown",
   "id": "70108db8-235a-496f-9787-f41d6193318d",
   "metadata": {},
   "source": [
    "We define the embedding dimensions, manually."
   ]
  },
  {
   "cell_type": "code",
   "execution_count": 8,
   "id": "9275b012",
   "metadata": {},
   "outputs": [],
   "source": [
    "manual_dims = {\n",
    "    'item_id_list_seq': 256, \n",
    "    'item_id_last': 256,\n",
    "    'f_47_list_seq': 16,\n",
    "    'f_68_list_seq': 16\n",
    "}\n",
    "\n",
    "seq_inputs = InputBlock(\n",
    "        schema_model.select_by_name(\n",
    "            ['item_id_list_seq', 'f_47_list_seq', 'f_68_list_seq']\n",
    "        ),\n",
    "        aggregation='concat',\n",
    "        seq=True,\n",
    "        max_seq_length=3,\n",
    "        embedding_options=mm.EmbeddingOptions(\n",
    "            embedding_dims=manual_dims,\n",
    "            infer_embedding_sizes=False\n",
    "        ),\n",
    "        split_sparse=True,\n",
    ")\n",
    "\n",
    "cat_inputs = InputBlock(\n",
    "        schema_model.select_by_name(\n",
    "            ['item_id_last']\n",
    "        ),\n",
    "        aggregation='concat',\n",
    "        embedding_options=mm.EmbeddingOptions(\n",
    "            embedding_dims=manual_dims,\n",
    "            infer_embedding_sizes=False\n",
    "        )\n",
    ")"
   ]
  },
  {
   "cell_type": "markdown",
   "id": "5672fae7",
   "metadata": {},
   "source": [
    "### Build Bi-LSTM model\n",
    "\n",
    "Now we will create a Bi-LSTM model by defining a custom layer of type mm.Block. It will take sequential interaction embeddings as an input. We connect the `InputBlock` for sequential features with `Bi-LSTM` Block."
   ]
  },
  {
   "cell_type": "code",
   "execution_count": 9,
   "id": "33820698-9303-44bc-8798-b74e753e6a8c",
   "metadata": {},
   "outputs": [],
   "source": [
    "dense_block =seq_inputs.connect(tf.keras.layers.Bidirectional(\n",
    "    tf.keras.layers.LSTM(64,\n",
    "        return_sequences=False, \n",
    "        dropout=0.05,\n",
    "        kernel_regularizer=regularizers.l2(1e-4),\n",
    "    )\n",
    "))"
   ]
  },
  {
   "cell_type": "markdown",
   "id": "280055cb",
   "metadata": {},
   "source": [
    "Now, we combine `Bi-LSTM` block with `InputBlock` of categorical features by concatenating them"
   ]
  },
  {
   "cell_type": "code",
   "execution_count": 11,
   "id": "fcd660b5",
   "metadata": {},
   "outputs": [],
   "source": [
    "concats = mm.ParallelBlock(\n",
    "    {'dense_block': dense_block, \n",
    "     'cat_inputs': cat_inputs},\n",
    "    aggregation='concat'\n",
    ")"
   ]
  },
  {
   "cell_type": "markdown",
   "id": "4380ca59",
   "metadata": {},
   "source": [
    "Next, we will build a 2-layer MLPBlock"
   ]
  },
  {
   "cell_type": "code",
   "execution_count": 12,
   "id": "deea812a",
   "metadata": {},
   "outputs": [],
   "source": [
    "mlp_block = mm.MLPBlock(\n",
    "                [128,256],\n",
    "                activation='relu',\n",
    "                no_activation_last_layer=True,\n",
    "                dropout=DROPOUT,\n",
    "            )"
   ]
  },
  {
   "cell_type": "markdown",
   "id": "6ef2de27",
   "metadata": {},
   "source": [
    "Now, we define the prediction task. As we saw above in our MLP implementation, our objective is multi-class classification.\n",
    "\n",
    "Before the loss is calculated, we want to transform the model output:\n",
    "\n",
    "- We apply Weight Tying (see in the beginning) and multiply the model output with the embedding weights from ITEM_ID. The embedding dimensions and the model output dimensions have to be the same (256 in our example).\n",
    "- We transform the ground truth into OneHot representation\n",
    "- We apply Temperature Scaling\n",
    "\n",
    "Here we don't apply L2 norm to the model logits because it was detrimental to the Bi-LSTM model.\n",
    "\n",
    "Again same as above, the pipeline is called prediction_call and we add it as the pre parameter to MultiClassClassificationTask. The pipeline is executed before the loss is calculated."
   ]
  },
  {
   "cell_type": "code",
   "execution_count": 13,
   "id": "7fa8d645",
   "metadata": {},
   "outputs": [],
   "source": [
    "prediction_call = ItemsPredictionWeightTying(schema_model).connect(\n",
    "    mm.ToOneHot(),\n",
    "    LogitsTemperatureScaler(temperature=TEMPERATURE_SCALING)\n",
    ")\n",
    "\n",
    "prediction_task = mm.MultiClassClassificationTask(\n",
    "    target_name=\"purchase_id_first\",\n",
    "    pre=prediction_call,\n",
    ")"
   ]
  },
  {
   "cell_type": "markdown",
   "id": "05106839",
   "metadata": {},
   "source": [
    "Now, we will build a model by chaining the `concats`, the `mlp_block` and the `prediction_task`"
   ]
  },
  {
   "cell_type": "code",
   "execution_count": 14,
   "id": "17e9c24e",
   "metadata": {},
   "outputs": [],
   "source": [
    "model_bi_lstm = Model(concats, mlp_block, prediction_task)"
   ]
  },
  {
   "cell_type": "markdown",
   "id": "741e6adf",
   "metadata": {},
   "source": [
    "### Fit the Model\n",
    "We initialize the optimizer and compile the model - similar to other TensorFlow Keras API. The competition was evaluated based on MRR@100."
   ]
  },
  {
   "cell_type": "code",
   "execution_count": 15,
   "id": "7673905c",
   "metadata": {},
   "outputs": [],
   "source": [
    "optimizer = tf.keras.optimizers.Adam(\n",
    "    learning_rate=LEARNING_RATE\n",
    ")\n",
    "\n",
    "model_bi_lstm.compile(\n",
    "    optimizer=optimizer,\n",
    "    run_eagerly=True,\n",
    "    loss=tf.keras.losses.CategoricalCrossentropy(\n",
    "        from_logits=True, \n",
    "        label_smoothing=LABEL_SMOOTHING\n",
    "    ),\n",
    "    metrics=mm.TopKMetricsAggregator.default_metrics(top_ks=[100])\n",
    ")"
   ]
  },
  {
   "cell_type": "markdown",
   "id": "d845114e",
   "metadata": {},
   "source": [
    "Now, we train the model"
   ]
  },
  {
   "cell_type": "code",
   "execution_count": 16,
   "id": "7dfa4858-d87c-43db-a6fa-c02a55e83941",
   "metadata": {},
   "outputs": [
    {
     "name": "stderr",
     "output_type": "stream",
     "text": [
      "2022-10-31 19:53:18.777469: I tensorflow/stream_executor/cuda/cuda_dnn.cc:424] Loaded cuDNN version 8500\n"
     ]
    },
    {
     "name": "stdout",
     "output_type": "stream",
     "text": [
      "Epoch 1/5\n",
      "1799/1799 [==============================] - 243s 132ms/step - loss: 7.8629 - recall_at_100: 0.3757 - mrr_at_100: 0.0837 - ndcg_at_100: 0.1387 - map_at_100: 0.0837 - precision_at_100: 0.0038 - regularization_loss: 0.0144 - val_loss: 7.8377 - val_recall_at_100: 0.5040 - val_mrr_at_100: 0.1210 - val_ndcg_at_100: 0.1946 - val_map_at_100: 0.1210 - val_precision_at_100: 0.0050 - val_regularization_loss: 0.0161\n",
      "Epoch 2/5\n",
      "1799/1799 [==============================] - 242s 133ms/step - loss: 7.4681 - recall_at_100: 0.4975 - mrr_at_100: 0.1233 - ndcg_at_100: 0.1950 - map_at_100: 0.1233 - precision_at_100: 0.0050 - regularization_loss: 0.0188 - val_loss: 7.8781 - val_recall_at_100: 0.4938 - val_mrr_at_100: 0.1201 - val_ndcg_at_100: 0.1921 - val_map_at_100: 0.1201 - val_precision_at_100: 0.0049 - val_regularization_loss: 0.0199\n",
      "Epoch 3/5\n",
      "1799/1799 [==============================] - 239s 131ms/step - loss: 7.3290 - recall_at_100: 0.5482 - mrr_at_100: 0.1412 - ndcg_at_100: 0.2195 - map_at_100: 0.1412 - precision_at_100: 0.0055 - regularization_loss: 0.0247 - val_loss: 7.9353 - val_recall_at_100: 0.4880 - val_mrr_at_100: 0.1219 - val_ndcg_at_100: 0.1921 - val_map_at_100: 0.1219 - val_precision_at_100: 0.0049 - val_regularization_loss: 0.0246\n",
      "Epoch 4/5\n",
      "1799/1799 [==============================] - 240s 131ms/step - loss: 7.2440 - recall_at_100: 0.5790 - mrr_at_100: 0.1528 - ndcg_at_100: 0.2350 - map_at_100: 0.1528 - precision_at_100: 0.0058 - regularization_loss: 0.0305 - val_loss: 8.0043 - val_recall_at_100: 0.4776 - val_mrr_at_100: 0.1221 - val_ndcg_at_100: 0.1905 - val_map_at_100: 0.1221 - val_precision_at_100: 0.0048 - val_regularization_loss: 0.0288\n",
      "Epoch 5/5\n",
      "1799/1799 [==============================] - 250s 137ms/step - loss: 7.1775 - recall_at_100: 0.6049 - mrr_at_100: 0.1635 - ndcg_at_100: 0.2488 - map_at_100: 0.1635 - precision_at_100: 0.0060 - regularization_loss: 0.0351 - val_loss: 8.0467 - val_recall_at_100: 0.4754 - val_mrr_at_100: 0.1223 - val_ndcg_at_100: 0.1902 - val_map_at_100: 0.1223 - val_precision_at_100: 0.0048 - val_regularization_loss: 0.0328\n"
     ]
    }
   ],
   "source": [
    "history = model_bi_lstm.fit(\n",
    "    train_dl,\n",
    "    validation_data=valid,\n",
    "    batch_size=BATCH_SIZE,\n",
    "    epochs=EPOCHS,\n",
    "    schema=schema_model,\n",
    ")"
   ]
  },
  {
   "cell_type": "markdown",
   "id": "59bb684f",
   "metadata": {},
   "source": [
    "We can evaluate the model"
   ]
  },
  {
   "cell_type": "code",
   "execution_count": 17,
   "id": "2676f668",
   "metadata": {},
   "outputs": [
    {
     "name": "stdout",
     "output_type": "stream",
     "text": [
      "155/155 [==============================] - 31s 199ms/step - loss: 8.0467 - recall_at_100: 0.4747 - mrr_at_100: 0.1223 - ndcg_at_100: 0.1900 - map_at_100: 0.1223 - precision_at_100: 0.0047 - regularization_loss: 0.0328\n"
     ]
    },
    {
     "data": {
      "text/plain": [
       "0.12232296913862228"
      ]
     },
     "execution_count": 17,
     "metadata": {},
     "output_type": "execute_result"
    }
   ],
   "source": [
    "metrics_bi_lstm = model_bi_lstm.evaluate(valid, batch_size=BATCH_SIZE, return_dict=True)\n",
    "metrics_bi_lstm['mrr_at_100']"
   ]
  },
  {
   "cell_type": "markdown",
   "id": "77c9a164-df68-417f-a634-c2966abe52a0",
   "metadata": {},
   "source": [
    "Note that final score `mrr_at_100` we printed out above is the average over all steps, whereas the value we get from progress bar shows the score of the last n_steps (by default =1)."
   ]
  },
  {
   "cell_type": "markdown",
   "id": "e525cdc3",
   "metadata": {},
   "source": [
    "## Training a Transformer-based Model\n",
    "\n",
    "\n",
    "We train an `XLNet` model, which concatenates the embedding vectors for all sequential features (`item_id_list_seq`, `f_47_list_seq`, `f_68_list_seq`) per step."
   ]
  },
  {
   "cell_type": "code",
   "execution_count": 7,
   "id": "e8e4a82f-bd2b-43c4-8dec-06dceab3acb6",
   "metadata": {},
   "outputs": [],
   "source": [
    "def classification_loader(sequence_testing_data: Dataset, batch_size = 128):\n",
    "    def _target_to_onehot(inputs, targets):\n",
    "        targets = tf.squeeze(tf.one_hot(targets, 23272))\n",
    "        return inputs, targets\n",
    "\n",
    "    dataloader = mm.Loader(sequence_testing_data, batch_size=batch_size, transform=_target_to_onehot)\n",
    "    return dataloader"
   ]
  },
  {
   "cell_type": "code",
   "execution_count": 9,
   "id": "c259b702-51ef-48c8-888b-c8e3505a68b8",
   "metadata": {},
   "outputs": [
    {
     "data": {
      "text/html": [
       "<div>\n",
       "<style scoped>\n",
       "    .dataframe tbody tr th:only-of-type {\n",
       "        vertical-align: middle;\n",
       "    }\n",
       "\n",
       "    .dataframe tbody tr th {\n",
       "        vertical-align: top;\n",
       "    }\n",
       "\n",
       "    .dataframe thead th {\n",
       "        text-align: right;\n",
       "    }\n",
       "</style>\n",
       "<table border=\"1\" class=\"dataframe\">\n",
       "  <thead>\n",
       "    <tr style=\"text-align: right;\">\n",
       "      <th></th>\n",
       "      <th>name</th>\n",
       "      <th>tags</th>\n",
       "      <th>dtype</th>\n",
       "      <th>is_list</th>\n",
       "      <th>is_ragged</th>\n",
       "      <th>properties.num_buckets</th>\n",
       "      <th>properties.freq_threshold</th>\n",
       "      <th>properties.max_size</th>\n",
       "      <th>properties.start_index</th>\n",
       "      <th>properties.cat_path</th>\n",
       "      <th>properties.embedding_sizes.cardinality</th>\n",
       "      <th>properties.embedding_sizes.dimension</th>\n",
       "      <th>properties.domain.min</th>\n",
       "      <th>properties.domain.max</th>\n",
       "      <th>properties.domain.name</th>\n",
       "    </tr>\n",
       "  </thead>\n",
       "  <tbody>\n",
       "    <tr>\n",
       "      <th>0</th>\n",
       "      <td>purchase_id_first</td>\n",
       "      <td>(Tags.TARGET, Tags.CATEGORICAL)</td>\n",
       "      <td>int32</td>\n",
       "      <td>False</td>\n",
       "      <td>False</td>\n",
       "      <td>None</td>\n",
       "      <td>0.0</td>\n",
       "      <td>0.0</td>\n",
       "      <td>1.0</td>\n",
       "      <td>.//categories/unique.item_id_purchase_id.parquet</td>\n",
       "      <td>23272.0</td>\n",
       "      <td>446.0</td>\n",
       "      <td>0</td>\n",
       "      <td>23271</td>\n",
       "      <td>item_id_purchase_id</td>\n",
       "    </tr>\n",
       "    <tr>\n",
       "      <th>1</th>\n",
       "      <td>f_47_list_seq</td>\n",
       "      <td>(Tags.ITEM, Tags.SEQUENCE, Tags.CATEGORICAL, T...</td>\n",
       "      <td>int32</td>\n",
       "      <td>True</td>\n",
       "      <td>False</td>\n",
       "      <td>None</td>\n",
       "      <td>0.0</td>\n",
       "      <td>0.0</td>\n",
       "      <td>1.0</td>\n",
       "      <td>.//categories/unique.f_47.parquet</td>\n",
       "      <td>19.0</td>\n",
       "      <td>16.0</td>\n",
       "      <td>0</td>\n",
       "      <td>18</td>\n",
       "      <td>f_47</td>\n",
       "    </tr>\n",
       "    <tr>\n",
       "      <th>2</th>\n",
       "      <td>f_68_list_seq</td>\n",
       "      <td>(Tags.ITEM, Tags.SEQUENCE, Tags.CATEGORICAL, T...</td>\n",
       "      <td>int32</td>\n",
       "      <td>True</td>\n",
       "      <td>False</td>\n",
       "      <td>None</td>\n",
       "      <td>0.0</td>\n",
       "      <td>0.0</td>\n",
       "      <td>1.0</td>\n",
       "      <td>.//categories/unique.f_68.parquet</td>\n",
       "      <td>51.0</td>\n",
       "      <td>16.0</td>\n",
       "      <td>0</td>\n",
       "      <td>50</td>\n",
       "      <td>f_68</td>\n",
       "    </tr>\n",
       "    <tr>\n",
       "      <th>3</th>\n",
       "      <td>item_id_list_seq</td>\n",
       "      <td>(Tags.ITEM_ID, Tags.ID, Tags.SEQUENCE, Tags.IT...</td>\n",
       "      <td>int32</td>\n",
       "      <td>True</td>\n",
       "      <td>False</td>\n",
       "      <td>None</td>\n",
       "      <td>0.0</td>\n",
       "      <td>0.0</td>\n",
       "      <td>1.0</td>\n",
       "      <td>.//categories/unique.item_id_purchase_id.parquet</td>\n",
       "      <td>23272.0</td>\n",
       "      <td>446.0</td>\n",
       "      <td>0</td>\n",
       "      <td>23271</td>\n",
       "      <td>item_id_purchase_id</td>\n",
       "    </tr>\n",
       "  </tbody>\n",
       "</table>\n",
       "</div>"
      ],
      "text/plain": [
       "[{'name': 'purchase_id_first', 'tags': {<Tags.TARGET: 'target'>, <Tags.CATEGORICAL: 'categorical'>}, 'properties': {'num_buckets': None, 'freq_threshold': 0.0, 'max_size': 0.0, 'start_index': 1.0, 'cat_path': './/categories/unique.item_id_purchase_id.parquet', 'embedding_sizes': {'cardinality': 23272.0, 'dimension': 446.0}, 'domain': {'min': 0, 'max': 23271, 'name': 'item_id_purchase_id'}}, 'dtype': dtype('int32'), 'is_list': False, 'is_ragged': False}, {'name': 'f_47_list_seq', 'tags': {<Tags.ITEM: 'item'>, <Tags.SEQUENCE: 'sequence'>, <Tags.CATEGORICAL: 'categorical'>, <Tags.LIST: 'list'>}, 'properties': {'num_buckets': None, 'freq_threshold': 0.0, 'max_size': 0.0, 'start_index': 1.0, 'cat_path': './/categories/unique.f_47.parquet', 'embedding_sizes': {'cardinality': 19.0, 'dimension': 16.0}, 'domain': {'min': 0, 'max': 18, 'name': 'f_47'}}, 'dtype': dtype('int32'), 'is_list': True, 'is_ragged': False}, {'name': 'f_68_list_seq', 'tags': {<Tags.ITEM: 'item'>, <Tags.SEQUENCE: 'sequence'>, <Tags.CATEGORICAL: 'categorical'>, <Tags.LIST: 'list'>}, 'properties': {'num_buckets': None, 'freq_threshold': 0.0, 'max_size': 0.0, 'start_index': 1.0, 'cat_path': './/categories/unique.f_68.parquet', 'embedding_sizes': {'cardinality': 51.0, 'dimension': 16.0}, 'domain': {'min': 0, 'max': 50, 'name': 'f_68'}}, 'dtype': dtype('int32'), 'is_list': True, 'is_ragged': False}, {'name': 'item_id_list_seq', 'tags': {<Tags.ITEM_ID: 'item_id'>, <Tags.ID: 'id'>, <Tags.SEQUENCE: 'sequence'>, <Tags.ITEM: 'item'>, <Tags.CATEGORICAL: 'categorical'>, <Tags.LIST: 'list'>}, 'properties': {'num_buckets': None, 'freq_threshold': 0.0, 'max_size': 0.0, 'start_index': 1.0, 'cat_path': './/categories/unique.item_id_purchase_id.parquet', 'embedding_sizes': {'cardinality': 23272.0, 'dimension': 446.0}, 'domain': {'min': 0, 'max': 23271, 'name': 'item_id_purchase_id'}}, 'dtype': dtype('int32'), 'is_list': True, 'is_ragged': False}]"
      ]
     },
     "execution_count": 9,
     "metadata": {},
     "output_type": "execute_result"
    }
   ],
   "source": [
    "schema = train.schema.without(['session_id', 'date_first', 'item_id_last'])\n",
    "train.schema = schema\n",
    "schema"
   ]
  },
  {
   "cell_type": "code",
   "execution_count": 11,
   "id": "466845ea-049f-47f3-90e6-407f36d19a0d",
   "metadata": {},
   "outputs": [
    {
     "data": {
      "text/plain": [
       "'item_id_purchase_id'"
      ]
     },
     "execution_count": 11,
     "metadata": {},
     "output_type": "execute_result"
    }
   ],
   "source": [
    "item_id_name = schema.select_by_tag(Tags.ITEM_ID).first.properties['domain']['name']\n",
    "item_id_name"
   ]
  },
  {
   "cell_type": "code",
   "execution_count": 12,
   "id": "19d1d918-fc3b-45f0-aee0-876b30897bcd",
   "metadata": {},
   "outputs": [],
   "source": [
    "EMBED_DIM = 32\n",
    "embeds = {'item_id_purchase_id':32}\n",
    "\n",
    "inputs = mm.InputBlockV2(\n",
    "        schema,\n",
    "        embeddings=mm.Embeddings(schema, sequence_combiner=None, dim =embeds)\n",
    "    )\n",
    "\n",
    "model = mm.Model(\n",
    "    inputs,\n",
    "    mm.MLPBlock([EMBED_DIM]),  # we need an MLP projection due to residual connection in the Transformer Model\n",
    "    mm.XLNetBlock(\n",
    "        d_model=EMBED_DIM,\n",
    "        n_head=8,\n",
    "        n_layer=2,\n",
    "        post='sequence_mean',\n",
    "    ),\n",
    "    mm.CategoricalOutput(\n",
    "        to_call=inputs[\"categorical\"][item_id_name]\n",
    "    ),\n",
    ")\n",
    "\n",
    "loader = classification_loader(train,  batch_size=1024)"
   ]
  },
  {
   "cell_type": "markdown",
   "id": "fc474897-1fe4-46cb-9c15-dd45f2ea7d22",
   "metadata": {},
   "source": [
    "We train the model"
   ]
  },
  {
   "cell_type": "code",
   "execution_count": 13,
   "id": "337e6653-38a7-4a9e-b300-46bd0213b30e",
   "metadata": {},
   "outputs": [
    {
     "name": "stdout",
     "output_type": "stream",
     "text": [
      "Epoch 1/2\n"
     ]
    },
    {
     "name": "stderr",
     "output_type": "stream",
     "text": [
      "2022-11-02 14:31:31.122892: I tensorflow/stream_executor/cuda/cuda_dnn.cc:424] Loaded cuDNN version 8500\n"
     ]
    },
    {
     "name": "stdout",
     "output_type": "stream",
     "text": [
      "WARNING:tensorflow:Gradients do not exist for variables ['model/embeddings:0', 'model/embeddings:0', 'model/mask_emb:0', 'transformer/layer_._0/rel_attn/r_s_bias:0', 'transformer/layer_._0/rel_attn/seg_embed:0', 'transformer/layer_._1/rel_attn/r_s_bias:0', 'transformer/layer_._1/rel_attn/seg_embed:0'] when minimizing the loss. If you're using `model.compile()`, did you forget to provide a `loss`argument?\n"
     ]
    },
    {
     "name": "stderr",
     "output_type": "stream",
     "text": [
      "/usr/local/lib/python3.8/dist-packages/tensorflow/python/framework/indexed_slices.py:444: UserWarning: Converting sparse IndexedSlices(IndexedSlices(indices=Tensor(\"gradient_tape/model/xl_net_block/prepare_transformer_inputs_4/RaggedToTensor/boolean_mask_1/GatherV2:0\", shape=(None,), dtype=int32), values=Tensor(\"gradient_tape/model/xl_net_block/prepare_transformer_inputs_4/RaggedToTensor/boolean_mask/GatherV2:0\", shape=(None, 32), dtype=float32), dense_shape=Tensor(\"gradient_tape/model/xl_net_block/prepare_transformer_inputs_4/RaggedToTensor/Shape:0\", shape=(2,), dtype=int32))) to a dense Tensor of unknown shape. This may consume a large amount of memory.\n",
      "  warnings.warn(\n"
     ]
    },
    {
     "name": "stdout",
     "output_type": "stream",
     "text": [
      "WARNING:tensorflow:Gradients do not exist for variables ['model/embeddings:0', 'model/embeddings:0', 'model/mask_emb:0', 'transformer/layer_._0/rel_attn/r_s_bias:0', 'transformer/layer_._0/rel_attn/seg_embed:0', 'transformer/layer_._1/rel_attn/r_s_bias:0', 'transformer/layer_._1/rel_attn/seg_embed:0'] when minimizing the loss. If you're using `model.compile()`, did you forget to provide a `loss`argument?\n",
      "900/900 [==============================] - 117s 118ms/step - loss: 8.5810 - recall_at_10: 0.0507 - mrr_at_10: 0.0212 - ndcg_at_10: 0.0280 - map_at_10: 0.0212 - precision_at_10: 0.0051 - regularization_loss: 0.0000e+00\n",
      "Epoch 2/2\n",
      "900/900 [==============================] - 107s 117ms/step - loss: 7.8536 - recall_at_10: 0.0868 - mrr_at_10: 0.0359 - ndcg_at_10: 0.0477 - map_at_10: 0.0359 - precision_at_10: 0.0087 - regularization_loss: 0.0000e+00\n"
     ]
    },
    {
     "data": {
      "text/plain": [
       "<keras.callbacks.History at 0x7fe394bcef10>"
      ]
     },
     "execution_count": 13,
     "metadata": {},
     "output_type": "execute_result"
    }
   ],
   "source": [
    "optimizer = tf.keras.optimizers.Adam(\n",
    "    learning_rate=LEARNING_RATE\n",
    ")\n",
    "model.compile(run_eagerly=False, optimizer=optimizer)\n",
    "model.fit(loader, epochs=2)"
   ]
  },
  {
   "cell_type": "markdown",
   "id": "1ad2bf6e-5bfe-4831-bc07-0b1f460b313f",
   "metadata": {},
   "source": [
    "We can evaluate the model"
   ]
  },
  {
   "cell_type": "code",
   "execution_count": 14,
   "id": "50accf80-8509-4455-9de5-f56333884754",
   "metadata": {},
   "outputs": [],
   "source": [
    "valid.schema = schema"
   ]
  },
  {
   "cell_type": "code",
   "execution_count": 15,
   "id": "f9edc817-3d25-4c4c-9429-8a36e5bdedb8",
   "metadata": {},
   "outputs": [
    {
     "name": "stdout",
     "output_type": "stream",
     "text": [
      "1/1 [==============================] - 3s 3s/step - loss: 8.3085 - recall_at_10: 0.0986 - mrr_at_10: 0.0481 - ndcg_at_10: 0.0600 - map_at_10: 0.0481 - precision_at_10: 0.0099 - regularization_loss: 0.0000e+00\n"
     ]
    }
   ],
   "source": [
    "loader_valid = classification_loader(valid, batch_size=1024)\n",
    "\n",
    "metrics = model.evaluate(loader_valid, steps=1, return_dict=True)"
   ]
  },
  {
   "cell_type": "markdown",
   "id": "49643076-dc75-41f0-bae8-678b2fe68fbd",
   "metadata": {},
   "source": [
    "## Summary"
   ]
  },
  {
   "cell_type": "markdown",
   "id": "e2b1c6ea-4576-4bd4-86e7-f4972ebce380",
   "metadata": {},
   "source": [
    "In this example, we focused on concepts which are relevant for a broad range of recommender system use cases. If you compare the MRR to the competition, you will notice, that the MRR can be much higher. Following additional techniques can be applied to improve the MRR:\n",
    "- Data Augmentations - we used a lot of different techniques to increase the training dataset. The techniques are specific to the dataset and we did not include it in the example/\n",
    "- Additional item features - we focused on only a few item features\n",
    "- Stacking - we stacked 17 models with a two-step approach\n",
    "- Ensemble - we ensembled 3 different stacked models\n",
    "- Hyperparameter Search - we ran multiple HPO jobs to find the best hyperparameters\n",
    "- etc.\n",
    "\n",
    "In addition, the MRR on the June month (test data) was in general higher than in May (validation)"
   ]
  }
 ],
 "metadata": {
  "kernelspec": {
   "display_name": "Python 3 (ipykernel)",
   "language": "python",
   "name": "python3"
  },
  "language_info": {
   "codemirror_mode": {
    "name": "ipython",
    "version": 3
   },
   "file_extension": ".py",
   "mimetype": "text/x-python",
   "name": "python",
   "nbconvert_exporter": "python",
   "pygments_lexer": "ipython3",
   "version": "3.8.10"
  },
  "vscode": {
   "interpreter": {
    "hash": "ab403bb43341787581f43b51cdd291d61392c89ddb0f92179de653921d4e05db"
   }
  }
 },
 "nbformat": 4,
 "nbformat_minor": 5
}

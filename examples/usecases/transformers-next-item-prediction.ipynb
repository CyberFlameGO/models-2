{
 "cells": [
  {
   "cell_type": "code",
   "execution_count": 1,
   "id": "a556f660",
   "metadata": {},
   "outputs": [],
   "source": [
    "# Copyright 2022 NVIDIA Corporation. All Rights Reserved.\n",
    "#\n",
    "# Licensed under the Apache License, Version 2.0 (the \"License\");\n",
    "# you may not use this file except in compliance with the License.\n",
    "# You may obtain a copy of the License at\n",
    "#\n",
    "#     http://www.apache.org/licenses/LICENSE-2.0\n",
    "#\n",
    "# Unless required by applicable law or agreed to in writing, software\n",
    "# distributed under the License is distributed on an \"AS IS\" BASIS,\n",
    "# WITHOUT WARRANTIES OR CONDITIONS OF ANY KIND, either express or implied.\n",
    "# See the License for the specific language governing permissions anda\n",
    "# limitations under the License.\n",
    "# =============================================================================="
   ]
  },
  {
   "cell_type": "markdown",
   "id": "697d1452",
   "metadata": {},
   "source": [
    "<img src=\"https://developer.download.nvidia.com/notebooks/dlsw-notebooks/merlin_models_entertainment-with-pretrained-embeddings/nvidia_logo.png\" style=\"width: 90px; float: right;\">\n",
    "\n",
    "# Transformer-based architecture for next-item prediction task\n",
    "\n",
    "## Overview\n",
    "\n",
    "In this use case we will train a Transformer-based architecture for next-item prediction task.\n",
    "\n",
    "We will use the [booking.com dataset](https://github.com/bookingcom/ml-dataset-mdt) to train a session-based model. The dataset contains 1,166,835 of anonymized hotel reservations in the train set and 378,667 in the test set. Each reservation is a part of a customer's trip (identified by `utrip_id`) which includes consecutive reservations.\n",
    "\n",
    "We will reshape the data to organize it into 'sessions'. Each session will be a full customer itinerary in chronological order. The goal will be to predict the city_id of the final reservation of each trip.\n",
    "\n",
    "\n",
    "### Learning objectives\n",
    "\n",
    "- Training a Transformer-based architecture for next-item prediction task"
   ]
  },
  {
   "cell_type": "markdown",
   "id": "1cccd005",
   "metadata": {},
   "source": [
    "## Downloading and preparing the dataset"
   ]
  },
  {
   "cell_type": "markdown",
   "id": "1234c6ea",
   "metadata": {},
   "source": [
    "You can download the full dataset from GitHub [here](https://github.com/bookingcom/ml-dataset-mdt). Please place it alognside this notebook (or alternatively, change the `DATAPATH` to point to where it is located)."
   ]
  },
  {
   "cell_type": "code",
   "execution_count": 1,
   "id": "4ac37b6b",
   "metadata": {},
   "outputs": [],
   "source": [
    "from merlin.core.dispatch import get_lib\n",
    "import numpy as np\n",
    "\n",
    "DATAPATH = 'ml-dataset-mdt'\n",
    "\n",
    "itineraries = get_lib().read_csv(f'{DATAPATH}/train_set.csv', parse_dates=['checkin'])"
   ]
  },
  {
   "cell_type": "code",
   "execution_count": 2,
   "id": "97b7138a",
   "metadata": {},
   "outputs": [],
   "source": [
    "itineraries = itineraries.sort_values(['utrip_id', 'checkout'])"
   ]
  },
  {
   "cell_type": "code",
   "execution_count": 10,
   "id": "3b622319",
   "metadata": {},
   "outputs": [
    {
     "data": {
      "text/plain": [
       "217686"
      ]
     },
     "execution_count": 10,
     "metadata": {},
     "output_type": "execute_result"
    }
   ],
   "source": [
    "utrip_ids = itineraries.utrip_id.unique().sample(frac=1)\n",
    "len(utrip_ids)"
   ]
  },
  {
   "cell_type": "code",
   "execution_count": 15,
   "id": "3aaf7a68",
   "metadata": {},
   "outputs": [],
   "source": [
    "train_set_utrip_ids = utrip_ids[:160_000]\n",
    "validation_set_utrip_ids = utrip_ids[160_000:]"
   ]
  },
  {
   "cell_type": "code",
   "execution_count": 31,
   "id": "25c4fe8a",
   "metadata": {},
   "outputs": [],
   "source": [
    "train_set = itineraries[itineraries.utrip_id.isin(train_set_utrip_ids)]\n",
    "validation_set = itineraries[itineraries.utrip_id.isin(validation_set_utrip_ids)]"
   ]
  },
  {
   "cell_type": "code",
   "execution_count": 32,
   "id": "34207664",
   "metadata": {},
   "outputs": [],
   "source": [
    "from nvtabular import *\n",
    "from nvtabular import ops"
   ]
  },
  {
   "cell_type": "code",
   "execution_count": 68,
   "id": "ef5cd248",
   "metadata": {},
   "outputs": [],
   "source": [
    "train_set_dataset = Dataset(train_set)\n",
    "validation_set_dataset = Dataset(validation_set)"
   ]
  },
  {
   "cell_type": "code",
   "execution_count": 59,
   "id": "24f31824",
   "metadata": {},
   "outputs": [
    {
     "data": {
      "text/plain": [
       "0.9712246079215016"
      ]
     },
     "execution_count": 59,
     "metadata": {},
     "output_type": "execute_result"
    }
   ],
   "source": [
    "(itineraries.groupby('utrip_id')['user_id'].count() < 11).mean()"
   ]
  },
  {
   "cell_type": "code",
   "execution_count": 58,
   "id": "2badb1df",
   "metadata": {},
   "outputs": [
    {
     "data": {
      "text/plain": [
       "0.0013184127596630008"
      ]
     },
     "execution_count": 58,
     "metadata": {},
     "output_type": "execute_result"
    }
   ],
   "source": [
    "(itineraries.groupby('utrip_id')['user_id'].count() < 3).mean()"
   ]
  },
  {
   "cell_type": "code",
   "execution_count": 70,
   "id": "f5acd4d3",
   "metadata": {},
   "outputs": [],
   "source": [
    "# Truncate sequence features to first interacted 20 items \n",
    "MAX_TRIP_LENGTH = 10\n",
    "MIN_TRIP_LENGTH = 2"
   ]
  },
  {
   "cell_type": "code",
   "execution_count": 71,
   "id": "b3699f84",
   "metadata": {},
   "outputs": [],
   "source": [
    "groupby_features = train_set.columns >> ops.Groupby(\n",
    "    groupby_cols=['utrip_id'],\n",
    "    sort_cols=['checkin'],\n",
    "    aggs={\n",
    "        'city_id': ['list']\n",
    "    }\n",
    ")"
   ]
  },
  {
   "cell_type": "code",
   "execution_count": 99,
   "id": "2d305e2d",
   "metadata": {},
   "outputs": [],
   "source": [
    "groupby_features_truncated = groupby_features['city_id_list'] >> ops.ListSlice(0, MAX_TRIP_LENGTH, pad=True)"
   ]
  },
  {
   "cell_type": "code",
   "execution_count": 100,
   "id": "387935a7",
   "metadata": {},
   "outputs": [],
   "source": [
    "wf = Workflow(groupby_features_truncated)"
   ]
  },
  {
   "cell_type": "code",
   "execution_count": 101,
   "id": "7db62e0e",
   "metadata": {},
   "outputs": [],
   "source": [
    "train_set_processed = wf.fit_transform(train_set_dataset)\n",
    "validation_set_processed = wf.fit_transform(validation_set_dataset)"
   ]
  },
  {
   "cell_type": "code",
   "execution_count": 102,
   "id": "c2829916",
   "metadata": {},
   "outputs": [
    {
     "data": {
      "text/html": [
       "<div>\n",
       "<style scoped>\n",
       "    .dataframe tbody tr th:only-of-type {\n",
       "        vertical-align: middle;\n",
       "    }\n",
       "\n",
       "    .dataframe tbody tr th {\n",
       "        vertical-align: top;\n",
       "    }\n",
       "\n",
       "    .dataframe thead th {\n",
       "        text-align: right;\n",
       "    }\n",
       "</style>\n",
       "<table border=\"1\" class=\"dataframe\">\n",
       "  <thead>\n",
       "    <tr style=\"text-align: right;\">\n",
       "      <th></th>\n",
       "      <th>city_id_list</th>\n",
       "    </tr>\n",
       "  </thead>\n",
       "  <tbody>\n",
       "    <tr>\n",
       "      <th>0</th>\n",
       "      <td>[8183, 15626, 60902, 30628, 0, 0, 0, 0, 0, 0]</td>\n",
       "    </tr>\n",
       "    <tr>\n",
       "      <th>1</th>\n",
       "      <td>[38677, 52089, 21328, 27485, 38677, 0, 0, 0, 0...</td>\n",
       "    </tr>\n",
       "    <tr>\n",
       "      <th>2</th>\n",
       "      <td>[64876, 55128, 9608, 31817, 36170, 58178, 3606...</td>\n",
       "    </tr>\n",
       "    <tr>\n",
       "      <th>3</th>\n",
       "      <td>[17127, 31088, 40521, 55128, 21033, 6306, 6788...</td>\n",
       "    </tr>\n",
       "    <tr>\n",
       "      <th>4</th>\n",
       "      <td>[62541, 42482, 20345, 33540, 32627, 0, 0, 0, 0...</td>\n",
       "    </tr>\n",
       "    <tr>\n",
       "      <th>...</th>\n",
       "      <td>...</td>\n",
       "    </tr>\n",
       "    <tr>\n",
       "      <th>159995</th>\n",
       "      <td>[64876, 1766, 50797, 1766, 0, 0, 0, 0, 0, 0]</td>\n",
       "    </tr>\n",
       "    <tr>\n",
       "      <th>159996</th>\n",
       "      <td>[36063, 43306, 11481, 15626, 36063, 0, 0, 0, 0...</td>\n",
       "    </tr>\n",
       "    <tr>\n",
       "      <th>159997</th>\n",
       "      <td>[17775, 66634, 17775, 17775, 0, 0, 0, 0, 0, 0]</td>\n",
       "    </tr>\n",
       "    <tr>\n",
       "      <th>159998</th>\n",
       "      <td>[382, 38509, 18930, 38509, 51145, 11179, 61881...</td>\n",
       "    </tr>\n",
       "    <tr>\n",
       "      <th>159999</th>\n",
       "      <td>[17944, 47075, 228, 62930, 0, 0, 0, 0, 0, 0]</td>\n",
       "    </tr>\n",
       "  </tbody>\n",
       "</table>\n",
       "<p>160000 rows × 1 columns</p>\n",
       "</div>"
      ],
      "text/plain": [
       "                                             city_id_list\n",
       "0           [8183, 15626, 60902, 30628, 0, 0, 0, 0, 0, 0]\n",
       "1       [38677, 52089, 21328, 27485, 38677, 0, 0, 0, 0...\n",
       "2       [64876, 55128, 9608, 31817, 36170, 58178, 3606...\n",
       "3       [17127, 31088, 40521, 55128, 21033, 6306, 6788...\n",
       "4       [62541, 42482, 20345, 33540, 32627, 0, 0, 0, 0...\n",
       "...                                                   ...\n",
       "159995       [64876, 1766, 50797, 1766, 0, 0, 0, 0, 0, 0]\n",
       "159996  [36063, 43306, 11481, 15626, 36063, 0, 0, 0, 0...\n",
       "159997     [17775, 66634, 17775, 17775, 0, 0, 0, 0, 0, 0]\n",
       "159998  [382, 38509, 18930, 38509, 51145, 11179, 61881...\n",
       "159999       [17944, 47075, 228, 62930, 0, 0, 0, 0, 0, 0]\n",
       "\n",
       "[160000 rows x 1 columns]"
      ]
     },
     "execution_count": 102,
     "metadata": {},
     "output_type": "execute_result"
    }
   ],
   "source": [
    "train_set_processed.compute()"
   ]
  }
 ],
 "metadata": {
  "kernelspec": {
   "display_name": "Python 3 (ipykernel)",
   "language": "python",
   "name": "python3"
  },
  "language_info": {
   "codemirror_mode": {
    "name": "ipython",
    "version": 3
   },
   "file_extension": ".py",
   "mimetype": "text/x-python",
   "name": "python",
   "nbconvert_exporter": "python",
   "pygments_lexer": "ipython3",
   "version": "3.8.10"
  }
 },
 "nbformat": 4,
 "nbformat_minor": 5
}

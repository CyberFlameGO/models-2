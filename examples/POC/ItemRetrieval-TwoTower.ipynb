{
 "cells": [
  {
   "cell_type": "code",
   "execution_count": null,
   "id": "d06c02a1",
   "metadata": {},
   "outputs": [],
   "source": [
    "# Copyright 2021 NVIDIA Corporation. All Rights Reserved.\n",
    "#\n",
    "# Licensed under the Apache License, Version 2.0 (the \"License\");\n",
    "# you may not use this file except in compliance with the License.\n",
    "# You may obtain a copy of the License at\n",
    "#\n",
    "#     http://www.apache.org/licenses/LICENSE-2.0\n",
    "#\n",
    "# Unless required by applicable law or agreed to in writing, software\n",
    "# distributed under the License is distributed on an \"AS IS\" BASIS,\n",
    "# WITHOUT WARRANTIES OR CONDITIONS OF ANY KIND, either express or implied.\n",
    "# See the License for the specific language governing permissions and\n",
    "# limitations under the License.\n",
    "# ================================"
   ]
  },
  {
   "cell_type": "markdown",
   "id": "3b7bbdda",
   "metadata": {},
   "source": [
    "## Building Recommender Systems Easily with Merlin Models\n",
    "\n",
    "In this notebook, we are building a Two-Tower model for Item Retrieval task.\n",
    "\n",
    "### Learning objectives\n",
    "- Preparing the data with NVTabular\n",
    "- Training and evaluating Two-Tower model with Merlin Models"
   ]
  },
  {
   "cell_type": "markdown",
   "id": "a0b507d6",
   "metadata": {},
   "source": [
    "### Feature Engineering with NVTabular"
   ]
  },
  {
   "cell_type": "code",
   "execution_count": 2,
   "id": "d435491b",
   "metadata": {},
   "outputs": [
    {
     "name": "stderr",
     "output_type": "stream",
     "text": [
      "2022-03-16 19:41:40.198723: I tensorflow/core/common_runtime/gpu/gpu_process_state.cc:214] Using CUDA malloc Async allocator for GPU: 0\n",
      "2022-03-16 19:41:40.198866: I tensorflow/core/common_runtime/gpu/gpu_device.cc:1525] Created device /job:localhost/replica:0/task:0/device:GPU:0 with 16254 MB memory:  -> device: 0, name: Quadro GV100, pci bus id: 0000:15:00.0, compute capability: 7.0\n"
     ]
    }
   ],
   "source": [
    "import os\n",
    "os.environ[\"TF_GPU_ALLOCATOR\"]=\"cuda_malloc_async\"\n",
    "import cudf\n",
    "import glob\n",
    "import gc\n",
    "\n",
    "import nvtabular as nvt\n",
    "from nvtabular.ops import *\n",
    "from example_utils import workflow_fit_transform\n",
    "\n",
    "from merlin.schema.tags import Tags\n",
    "from merlin.schema import Schema\n",
    "\n",
    "import merlin.models.tf as mm\n",
    "import merlin.models.tf.dataset as tf_dataloader\n",
    "\n",
    "from merlin.io.dataset import Dataset\n",
    "from merlin.schema.io.tensorflow_metadata import TensorflowMetadata\n",
    "from merlin.models.tf.blocks.core.aggregation import CosineSimilarity\n",
    "\n",
    "import tensorflow as tf"
   ]
  },
  {
   "cell_type": "markdown",
   "id": "0e016c1c",
   "metadata": {},
   "source": [
    "First, we define our input and output paths."
   ]
  },
  {
   "cell_type": "code",
   "execution_count": 3,
   "id": "e971ab82",
   "metadata": {},
   "outputs": [],
   "source": [
    "train_path = '/workspace/data/train/*.parquet'\n",
    "test_path = '/workspace/data/test/*.parquet'\n",
    "output_path = '/workspace/retrieval/processed/'"
   ]
  },
  {
   "cell_type": "markdown",
   "id": "6476e176",
   "metadata": {},
   "source": [
    "ETL Workflow"
   ]
  },
  {
   "cell_type": "markdown",
   "id": "339e75e8",
   "metadata": {},
   "source": [
    "We select only positive interaction rows therefore we remove rows where `click==0` from the dataset with `Filter()` op."
   ]
  },
  {
   "cell_type": "code",
   "execution_count": 4,
   "id": "4c4937fe",
   "metadata": {},
   "outputs": [
    {
     "name": "stderr",
     "output_type": "stream",
     "text": [
      "/usr/local/lib/python3.8/dist-packages/cudf/core/dataframe.py:1253: UserWarning: The deep parameter is ignored and is only included for pandas compatibility.\n",
      "  warnings.warn(\n"
     ]
    }
   ],
   "source": [
    "inputs = [\"user_id\", \"item_id\", \"item_category\", \"item_shop\", \"item_brand\",\n",
    "          'user_shops', 'user_profile', 'user_group',\n",
    "          'user_gender', 'user_age', 'user_consumption_2', 'user_is_occupied',\n",
    "          'user_geography', 'user_intentions', 'user_brands', 'user_categories', 'click'] \\\n",
    "         >> Filter(f=lambda df: df[\"click\"] == 1)\n",
    "\n",
    "user_id = inputs[\"user_id\"] >> AddMetadata(tags=[Tags.USER_ID, Tags.USER]) >> Categorify()\n",
    "item_id = inputs[\"item_id\"] >> AddMetadata(tags=[Tags.ITEM_ID, Tags.ITEM]) >> Categorify()\n",
    "\n",
    "item_features = inputs[\"item_category\", \"item_shop\", \"item_brand\"] \\\n",
    "     >> AddMetadata(tags=[Tags.ITEM]) >> nvt.ops.Categorify()\n",
    "\n",
    "user_features = inputs['user_shops', 'user_profile', 'user_group', \n",
    "       'user_gender', 'user_age', 'user_consumption_2', 'user_is_occupied',\n",
    "       'user_geography', 'user_intentions', 'user_brands', 'user_categories'] \\\n",
    "    >> AddMetadata(tags=[Tags.USER]) >> nvt.ops.Categorify()\n",
    "\n",
    "outputs = user_id+item_id+item_features+user_features\n",
    "\n",
    "\n",
    "workflow_fit_transform(outputs, train_path, test_path, output_path, 'workflow_retrieval')"
   ]
  },
  {
   "cell_type": "markdown",
   "id": "86a65830",
   "metadata": {
    "tags": []
   },
   "source": [
    "## Building Two-Tower Model"
   ]
  },
  {
   "cell_type": "markdown",
   "id": "7e2b6949",
   "metadata": {},
   "source": [
    "We will use Two-Tower Model for Item retrieval task. Real-world large scale recommender systems have hundreds of millions of items (products) and users. It is Thus, these systems are often composed of two stages: candidate generation (retrieval) and ranking (scoring the retrieved items). You can read more about two stage Recommender Systems [here](https://static.googleusercontent.com/media/research.google.com/en//pubs/archive/45530.pdf). In this example, we're going to focus on the retrieval stage.\n",
    "\n",
    "A Two-Tower Model consists of item (candidate) and user (query) encoder towers. With two towers, the model can learn representations (embeddings) for queries and candidates separately. \n",
    "\n",
    "<img src=\"./images/Two-tower.png\"  width=\"30%\">\n",
    "\n",
    "Image Adapted from: [Off-policy Learning in Two-stage Recommender Systems](https://dl.acm.org/doi/abs/10.1145/3366423.3380130)\n"
   ]
  },
  {
   "cell_type": "markdown",
   "id": "e8287b28",
   "metadata": {},
   "source": [
    "We use the `schema` object to define our model."
   ]
  },
  {
   "cell_type": "code",
   "execution_count": 5,
   "id": "017b7701",
   "metadata": {},
   "outputs": [],
   "source": [
    "schema = TensorflowMetadata.from_proto_text_file('/workspace/retrieval/processed/train/').to_merlin_schema()"
   ]
  },
  {
   "cell_type": "code",
   "execution_count": 6,
   "id": "4db3376b",
   "metadata": {},
   "outputs": [],
   "source": [
    "schema = schema.select_by_tag([Tags.ITEM_ID, Tags.USER_ID, Tags.ITEM, Tags.USER])"
   ]
  },
  {
   "cell_type": "code",
   "execution_count": 7,
   "id": "74ad5b79",
   "metadata": {},
   "outputs": [
    {
     "data": {
      "text/plain": [
       "['user_id',\n",
       " 'item_id',\n",
       " 'item_category',\n",
       " 'item_shop',\n",
       " 'item_brand',\n",
       " 'user_shops',\n",
       " 'user_profile',\n",
       " 'user_group',\n",
       " 'user_gender',\n",
       " 'user_age',\n",
       " 'user_consumption_2',\n",
       " 'user_is_occupied',\n",
       " 'user_geography',\n",
       " 'user_intentions',\n",
       " 'user_brands',\n",
       " 'user_categories']"
      ]
     },
     "execution_count": 7,
     "metadata": {},
     "output_type": "execute_result"
    }
   ],
   "source": [
    "schema.column_names"
   ]
  },
  {
   "cell_type": "markdown",
   "id": "54b16c19",
   "metadata": {},
   "source": [
    "We expect the label names to be empty."
   ]
  },
  {
   "cell_type": "markdown",
   "id": "11ec9bbe",
   "metadata": {},
   "source": [
    "Now, let's build our Two-Tower model. In a nutshell, we aggregate all user features to feed in user tower and feed the item features to the item tower. Then we compute the positive score by multiplying the user embedding with the item embedding and sample negative items (read more about negative sampling [here](https://openreview.net/pdf?id=824xC-SgWgU) and [here](https://medium.com/mlearning-ai/overview-negative-sampling-on-recommendation-systems-230a051c6cd7)), whose item embeddings are also multiplied by the user embedding. Then we apply the loss function on top of the positive and negative scores."
   ]
  },
  {
   "cell_type": "code",
   "execution_count": 8,
   "id": "2efa6c73",
   "metadata": {},
   "outputs": [],
   "source": [
    "model = mm.TwoTowerModel(\n",
    "    schema,\n",
    "    query_tower=mm.MLPBlock([128, 64], no_activation_last_layer=True),        \n",
    "    loss=\"categorical_crossentropy\",  \n",
    "    samplers=[mm.InBatchSampler()],\n",
    "    embedding_options = mm.EmbeddingOptions(infer_embedding_sizes=True),\n",
    "    metrics=[mm.RecallAt(10), mm.NDCGAt(10)]\n",
    ")"
   ]
  },
  {
   "cell_type": "markdown",
   "id": "b2b53bbd",
   "metadata": {},
   "source": [
    "Let's explain the parameters in the TwoTowerModel():\n",
    "- no_activation_last_layer: when set True, no activation is used for top hidden layer. Learn more [here](https://storage.googleapis.com/pub-tools-public-publication-data/pdf/b9f4e78a8830fe5afcf2f0452862fb3c0d6584ea.pdf).\n",
    "- infer_embedding_sizes: when set True, automatically defines the embedding dimension from the feature cardinality in the schema\n",
    "\n",
    "**Metrics:**\n",
    "\n",
    "The following information retrieval metrics are used to compute the Top-10 accuracy of recommendation lists containing all items:\n",
    "\n",
    "- **Normalized Discounted Cumulative Gain (NDCG@10)**: NDCG accounts for rank of the relevant item in the recommendation list and is a more fine-grained metric than HR, which only verifies whether the relevant item is among the top-k items.\n",
    "\n",
    "- **Recall@10**: Also known as HitRate@n when there is only one relevant item in the recommendation list. Recall just verifies whether the relevant item is among the top-n items."
   ]
  },
  {
   "cell_type": "markdown",
   "id": "502a3d47",
   "metadata": {},
   "source": [
    "We need to initialize the dataloaders."
   ]
  },
  {
   "cell_type": "code",
   "execution_count": 9,
   "id": "736458ef",
   "metadata": {},
   "outputs": [
    {
     "data": {
      "text/plain": [
       "'/workspace/retrieval/processed//train/*.parquet'"
      ]
     },
     "execution_count": 9,
     "metadata": {},
     "output_type": "execute_result"
    }
   ],
   "source": [
    "output_path + '/train/*.parquet'"
   ]
  },
  {
   "cell_type": "code",
   "execution_count": 10,
   "id": "7ac51964",
   "metadata": {},
   "outputs": [],
   "source": [
    "batch_size = 4096\n",
    "\n",
    "train_dl = tf_dataloader.BatchedDataset(\n",
    "    Dataset(output_path + 'train/*.parquet', part_size=\"500MB\", schema=schema),\n",
    "    batch_size = batch_size,\n",
    "    shuffle= True, \n",
    ")\n",
    "\n",
    "test_dl = tf_dataloader.BatchedDataset(\n",
    "    Dataset(output_path + 'valid/*.parquet', part_size=\"500MB\", schema=schema),\n",
    "    batch_size = batch_size,\n",
    "    shuffle = False,\n",
    ")"
   ]
  },
  {
   "cell_type": "code",
   "execution_count": 11,
   "id": "bf91cd73",
   "metadata": {},
   "outputs": [
    {
     "name": "stderr",
     "output_type": "stream",
     "text": [
      "2022-03-16 19:41:58.771434: W tensorflow/python/util/util.cc:368] Sets are not currently considered sequences, but this may change in the future, so consider avoiding using them.\n"
     ]
    },
    {
     "name": "stdout",
     "output_type": "stream",
     "text": [
      "Epoch 1/2\n",
      "WARNING:tensorflow:AutoGraph could not transform <bound method Socket.send of <zmq.Socket(zmq.PUSH) at 0x7f20d247eee0>> and will run it as-is.\n",
      "Please report this to the TensorFlow team. When filing the bug, set the verbosity to 10 (on Linux, `export AUTOGRAPH_VERBOSITY=10`) and attach the full output.\n",
      "Cause: module, class, method, function, traceback, frame, or code object was expected, got cython_function_or_method\n",
      "To silence this warning, decorate the function with @tf.autograph.experimental.do_not_convert\n",
      "WARNING: AutoGraph could not transform <bound method Socket.send of <zmq.Socket(zmq.PUSH) at 0x7f20d247eee0>> and will run it as-is.\n",
      "Please report this to the TensorFlow team. When filing the bug, set the verbosity to 10 (on Linux, `export AUTOGRAPH_VERBOSITY=10`) and attach the full output.\n",
      "Cause: module, class, method, function, traceback, frame, or code object was expected, got cython_function_or_method\n",
      "To silence this warning, decorate the function with @tf.autograph.experimental.do_not_convert\n"
     ]
    },
    {
     "name": "stderr",
     "output_type": "stream",
     "text": [
      "The sampler InBatchSampler returned no samples for this batch.\n"
     ]
    },
    {
     "name": "stdout",
     "output_type": "stream",
     "text": [
      "382/384 [============================>.] - ETA: 0s - recall_at_10: 0.0025 - ndcg_10: 0.0011 - loss: 8.3230 - regularization_loss: 0.0000e+00 - total_loss: 8.3230"
     ]
    },
    {
     "name": "stderr",
     "output_type": "stream",
     "text": [
      "2022-03-16 19:42:18.646812: W tensorflow/core/grappler/optimizers/loop_optimizer.cc:907] Skipping loop optimization for Merge node with control input: cond/then/_0/cond/cond/branch_executed/_168\n"
     ]
    },
    {
     "name": "stdout",
     "output_type": "stream",
     "text": [
      "384/384 [==============================] - 25s 42ms/step - recall_at_10: 0.0025 - ndcg_10: 0.0011 - loss: 8.3200 - regularization_loss: 0.0000e+00 - total_loss: 8.3200 - val_recall_at_10: 0.0029 - val_ndcg_10: 0.0013 - val_loss: 7.3644 - val_regularization_loss: 0.0000e+00 - val_total_loss: 7.3644\n",
      "Epoch 2/2\n",
      "384/384 [==============================] - 14s 36ms/step - recall_at_10: 0.0025 - ndcg_10: 0.0011 - loss: 8.3192 - regularization_loss: 0.0000e+00 - total_loss: 8.3192 - val_recall_at_10: 0.0030 - val_ndcg_10: 0.0014 - val_loss: 7.3634 - val_regularization_loss: 0.0000e+00 - val_total_loss: 7.3634\n"
     ]
    },
    {
     "data": {
      "text/plain": [
       "<keras.callbacks.History at 0x7f1f580394c0>"
      ]
     },
     "execution_count": 11,
     "metadata": {},
     "output_type": "execute_result"
    }
   ],
   "source": [
    "opt = tf.keras.optimizers.Adagrad(learning_rate=0.003)\n",
    "model.compile(opt, run_eagerly=False)\n",
    "\n",
    "model.fit(train_dl, epochs=2, validation_data=test_dl)"
   ]
  },
  {
   "cell_type": "markdown",
   "id": "0e66bdf5",
   "metadata": {},
   "source": [
    "#### Save user tower"
   ]
  },
  {
   "cell_type": "code",
   "execution_count": 12,
   "id": "9d555c4f",
   "metadata": {},
   "outputs": [
    {
     "name": "stderr",
     "output_type": "stream",
     "text": [
      "WARNING:absl:Found untraced functions such as block_context_layer_call_fn, block_context_layer_call_and_return_conditional_losses, block_context_layer_call_fn, block_context_layer_call_and_return_conditional_losses, block_context_layer_call_and_return_conditional_losses while saving (showing 5 of 65). These functions will not be directly callable after loading.\n"
     ]
    },
    {
     "name": "stdout",
     "output_type": "stream",
     "text": [
      "INFO:tensorflow:Assets written to: query_tower/assets\n"
     ]
    },
    {
     "name": "stderr",
     "output_type": "stream",
     "text": [
      "INFO:tensorflow:Assets written to: query_tower/assets\n"
     ]
    }
   ],
   "source": [
    "query_tower = model.retrieval_block.query_block()\n",
    "query_tower.save('query_tower')"
   ]
  },
  {
   "cell_type": "markdown",
   "id": "2e5aa24b",
   "metadata": {},
   "source": [
    "#### Extract and save user features"
   ]
  },
  {
   "cell_type": "code",
   "execution_count": 13,
   "id": "d29102f4",
   "metadata": {},
   "outputs": [],
   "source": [
    "# we are using ranking processed parquet file because it has more rows including both clicks ==0 and 1 (positives and negatives)"
   ]
  },
  {
   "cell_type": "code",
   "execution_count": 14,
   "id": "e8d068ea",
   "metadata": {},
   "outputs": [
    {
     "name": "stderr",
     "output_type": "stream",
     "text": [
      "/usr/local/lib/python3.8/dist-packages/cudf/core/dataframe.py:1253: UserWarning: The deep parameter is ignored and is only included for pandas compatibility.\n",
      "  warnings.warn(\n"
     ]
    }
   ],
   "source": [
    "user_features = model._ensure_unique(Dataset('/workspace/ranking/processed/train/*.parquet', schema=schema), tag=Tags.USER, id_tag=Tags.USER_ID).compute()"
   ]
  },
  {
   "cell_type": "code",
   "execution_count": 15,
   "id": "3af42437",
   "metadata": {},
   "outputs": [
    {
     "data": {
      "text/html": [
       "<div>\n",
       "<style scoped>\n",
       "    .dataframe tbody tr th:only-of-type {\n",
       "        vertical-align: middle;\n",
       "    }\n",
       "\n",
       "    .dataframe tbody tr th {\n",
       "        vertical-align: top;\n",
       "    }\n",
       "\n",
       "    .dataframe thead th {\n",
       "        text-align: right;\n",
       "    }\n",
       "</style>\n",
       "<table border=\"1\" class=\"dataframe\">\n",
       "  <thead>\n",
       "    <tr style=\"text-align: right;\">\n",
       "      <th></th>\n",
       "      <th>user_id</th>\n",
       "      <th>user_shops</th>\n",
       "      <th>user_profile</th>\n",
       "      <th>user_group</th>\n",
       "      <th>user_gender</th>\n",
       "      <th>user_age</th>\n",
       "      <th>user_consumption_2</th>\n",
       "      <th>user_is_occupied</th>\n",
       "      <th>user_geography</th>\n",
       "      <th>user_intentions</th>\n",
       "      <th>user_brands</th>\n",
       "      <th>user_categories</th>\n",
       "    </tr>\n",
       "  </thead>\n",
       "  <tbody>\n",
       "    <tr>\n",
       "      <th>0</th>\n",
       "      <td>0</td>\n",
       "      <td>0</td>\n",
       "      <td>1</td>\n",
       "      <td>5</td>\n",
       "      <td>2</td>\n",
       "      <td>2</td>\n",
       "      <td>2</td>\n",
       "      <td>1</td>\n",
       "      <td>0</td>\n",
       "      <td>0</td>\n",
       "      <td>0</td>\n",
       "      <td>0</td>\n",
       "    </tr>\n",
       "    <tr>\n",
       "      <th>1</th>\n",
       "      <td>1</td>\n",
       "      <td>109</td>\n",
       "      <td>0</td>\n",
       "      <td>0</td>\n",
       "      <td>0</td>\n",
       "      <td>0</td>\n",
       "      <td>0</td>\n",
       "      <td>0</td>\n",
       "      <td>0</td>\n",
       "      <td>69</td>\n",
       "      <td>131</td>\n",
       "      <td>9</td>\n",
       "    </tr>\n",
       "    <tr>\n",
       "      <th>2</th>\n",
       "      <td>2</td>\n",
       "      <td>301</td>\n",
       "      <td>1</td>\n",
       "      <td>1</td>\n",
       "      <td>1</td>\n",
       "      <td>1</td>\n",
       "      <td>1</td>\n",
       "      <td>1</td>\n",
       "      <td>2</td>\n",
       "      <td>57</td>\n",
       "      <td>4709</td>\n",
       "      <td>57</td>\n",
       "    </tr>\n",
       "    <tr>\n",
       "      <th>3</th>\n",
       "      <td>3</td>\n",
       "      <td>1876</td>\n",
       "      <td>23</td>\n",
       "      <td>7</td>\n",
       "      <td>2</td>\n",
       "      <td>3</td>\n",
       "      <td>1</td>\n",
       "      <td>1</td>\n",
       "      <td>1</td>\n",
       "      <td>5</td>\n",
       "      <td>63</td>\n",
       "      <td>3</td>\n",
       "    </tr>\n",
       "    <tr>\n",
       "      <th>4</th>\n",
       "      <td>4</td>\n",
       "      <td>534</td>\n",
       "      <td>1</td>\n",
       "      <td>2</td>\n",
       "      <td>1</td>\n",
       "      <td>2</td>\n",
       "      <td>1</td>\n",
       "      <td>1</td>\n",
       "      <td>0</td>\n",
       "      <td>40</td>\n",
       "      <td>22</td>\n",
       "      <td>108</td>\n",
       "    </tr>\n",
       "  </tbody>\n",
       "</table>\n",
       "</div>"
      ],
      "text/plain": [
       "   user_id  user_shops  user_profile  user_group  user_gender  user_age  \\\n",
       "0        0           0             1           5            2         2   \n",
       "1        1         109             0           0            0         0   \n",
       "2        2         301             1           1            1         1   \n",
       "3        3        1876            23           7            2         3   \n",
       "4        4         534             1           2            1         2   \n",
       "\n",
       "   user_consumption_2  user_is_occupied  user_geography  user_intentions  \\\n",
       "0                   2                 1               0                0   \n",
       "1                   0                 0               0               69   \n",
       "2                   1                 1               2               57   \n",
       "3                   1                 1               1                5   \n",
       "4                   1                 1               0               40   \n",
       "\n",
       "   user_brands  user_categories  \n",
       "0            0                0  \n",
       "1          131                9  \n",
       "2         4709               57  \n",
       "3           63                3  \n",
       "4           22              108  "
      ]
     },
     "execution_count": 15,
     "metadata": {},
     "output_type": "execute_result"
    }
   ],
   "source": [
    "user_features.head()"
   ]
  },
  {
   "cell_type": "code",
   "execution_count": 16,
   "id": "595996ba",
   "metadata": {},
   "outputs": [
    {
     "data": {
      "text/plain": [
       "(294736, 12)"
      ]
     },
     "execution_count": 16,
     "metadata": {},
     "output_type": "execute_result"
    }
   ],
   "source": [
    "user_features.shape"
   ]
  },
  {
   "cell_type": "code",
   "execution_count": 17,
   "id": "e6392e76",
   "metadata": {},
   "outputs": [],
   "source": [
    "#user_features.to_parquet('user_features.parquet')"
   ]
  },
  {
   "cell_type": "markdown",
   "id": "4168d7d5",
   "metadata": {},
   "source": [
    "#### Extract and save item features"
   ]
  },
  {
   "cell_type": "code",
   "execution_count": 18,
   "id": "0204f371",
   "metadata": {},
   "outputs": [
    {
     "name": "stderr",
     "output_type": "stream",
     "text": [
      "/usr/local/lib/python3.8/dist-packages/cudf/core/dataframe.py:1253: UserWarning: The deep parameter is ignored and is only included for pandas compatibility.\n",
      "  warnings.warn(\n"
     ]
    }
   ],
   "source": [
    "# train path should be the path for the processed parquet files.\n",
    "item_features = model._ensure_unique(Dataset('/workspace/ranking/processed/train/*.parquet', schema=schema), tag=Tags.ITEM, id_tag=Tags.ITEM_ID).compute()"
   ]
  },
  {
   "cell_type": "code",
   "execution_count": 19,
   "id": "6d7808c3",
   "metadata": {},
   "outputs": [
    {
     "data": {
      "text/html": [
       "<div>\n",
       "<style scoped>\n",
       "    .dataframe tbody tr th:only-of-type {\n",
       "        vertical-align: middle;\n",
       "    }\n",
       "\n",
       "    .dataframe tbody tr th {\n",
       "        vertical-align: top;\n",
       "    }\n",
       "\n",
       "    .dataframe thead th {\n",
       "        text-align: right;\n",
       "    }\n",
       "</style>\n",
       "<table border=\"1\" class=\"dataframe\">\n",
       "  <thead>\n",
       "    <tr style=\"text-align: right;\">\n",
       "      <th></th>\n",
       "      <th>item_id</th>\n",
       "      <th>item_category</th>\n",
       "      <th>item_shop</th>\n",
       "      <th>item_brand</th>\n",
       "    </tr>\n",
       "  </thead>\n",
       "  <tbody>\n",
       "    <tr>\n",
       "      <th>0</th>\n",
       "      <td>0</td>\n",
       "      <td>0</td>\n",
       "      <td>0</td>\n",
       "      <td>0</td>\n",
       "    </tr>\n",
       "    <tr>\n",
       "      <th>1</th>\n",
       "      <td>1</td>\n",
       "      <td>441</td>\n",
       "      <td>432</td>\n",
       "      <td>474</td>\n",
       "    </tr>\n",
       "    <tr>\n",
       "      <th>2</th>\n",
       "      <td>2</td>\n",
       "      <td>193</td>\n",
       "      <td>1159</td>\n",
       "      <td>125</td>\n",
       "    </tr>\n",
       "    <tr>\n",
       "      <th>3</th>\n",
       "      <td>3</td>\n",
       "      <td>3</td>\n",
       "      <td>1463</td>\n",
       "      <td>872</td>\n",
       "    </tr>\n",
       "    <tr>\n",
       "      <th>4</th>\n",
       "      <td>4</td>\n",
       "      <td>282</td>\n",
       "      <td>2479</td>\n",
       "      <td>555</td>\n",
       "    </tr>\n",
       "  </tbody>\n",
       "</table>\n",
       "</div>"
      ],
      "text/plain": [
       "   item_id  item_category  item_shop  item_brand\n",
       "0        0              0          0           0\n",
       "1        1            441        432         474\n",
       "2        2            193       1159         125\n",
       "3        3              3       1463         872\n",
       "4        4            282       2479         555"
      ]
     },
     "execution_count": 19,
     "metadata": {},
     "output_type": "execute_result"
    }
   ],
   "source": [
    "item_features.head()"
   ]
  },
  {
   "cell_type": "code",
   "execution_count": 20,
   "id": "d47ae6fb",
   "metadata": {},
   "outputs": [
    {
     "data": {
      "text/plain": [
       "(3078306, 4)"
      ]
     },
     "execution_count": 20,
     "metadata": {},
     "output_type": "execute_result"
    }
   ],
   "source": [
    "item_features.shape"
   ]
  },
  {
   "cell_type": "code",
   "execution_count": 21,
   "id": "caae637d",
   "metadata": {},
   "outputs": [],
   "source": [
    "#item_features.to_parquet('item_features.parquet')"
   ]
  },
  {
   "cell_type": "markdown",
   "id": "76b4e68a",
   "metadata": {},
   "source": [
    "#### Extract and save item embeddings"
   ]
  },
  {
   "cell_type": "code",
   "execution_count": 22,
   "id": "ab82caf7",
   "metadata": {},
   "outputs": [
    {
     "name": "stderr",
     "output_type": "stream",
     "text": [
      "WARNING:absl:Found untraced functions such as block_context_layer_call_fn, block_context_layer_call_and_return_conditional_losses, block_context_layer_call_fn, block_context_layer_call_and_return_conditional_losses, block_context_layer_call_and_return_conditional_losses while saving (showing 5 of 65). These functions will not be directly callable after loading.\n"
     ]
    },
    {
     "name": "stdout",
     "output_type": "stream",
     "text": [
      "INFO:tensorflow:Assets written to: /tmp/tmp91c6hze1/assets\n"
     ]
    },
    {
     "name": "stderr",
     "output_type": "stream",
     "text": [
      "INFO:tensorflow:Assets written to: /tmp/tmp91c6hze1/assets\n"
     ]
    },
    {
     "name": "stdout",
     "output_type": "stream",
     "text": [
      "WARNING:tensorflow:No training configuration found in save file, so the model was *not* compiled. Compile it manually.\n"
     ]
    },
    {
     "name": "stderr",
     "output_type": "stream",
     "text": [
      "WARNING:tensorflow:No training configuration found in save file, so the model was *not* compiled. Compile it manually.\n"
     ]
    }
   ],
   "source": [
    "item_embs = model.item_embeddings(Dataset(item_features, schema=schema), batch_size=1024)\n",
    "item_embs_df = item_embs.compute(scheduler=\"synchronous\")"
   ]
  },
  {
   "cell_type": "code",
   "execution_count": 23,
   "id": "fe3befdc",
   "metadata": {},
   "outputs": [
    {
     "data": {
      "text/html": [
       "<div>\n",
       "<style scoped>\n",
       "    .dataframe tbody tr th:only-of-type {\n",
       "        vertical-align: middle;\n",
       "    }\n",
       "\n",
       "    .dataframe tbody tr th {\n",
       "        vertical-align: top;\n",
       "    }\n",
       "\n",
       "    .dataframe thead th {\n",
       "        text-align: right;\n",
       "    }\n",
       "</style>\n",
       "<table border=\"1\" class=\"dataframe\">\n",
       "  <thead>\n",
       "    <tr style=\"text-align: right;\">\n",
       "      <th></th>\n",
       "      <th>item_id</th>\n",
       "      <th>item_category</th>\n",
       "      <th>item_shop</th>\n",
       "      <th>item_brand</th>\n",
       "      <th>0</th>\n",
       "      <th>1</th>\n",
       "      <th>2</th>\n",
       "      <th>3</th>\n",
       "      <th>4</th>\n",
       "      <th>5</th>\n",
       "      <th>...</th>\n",
       "      <th>54</th>\n",
       "      <th>55</th>\n",
       "      <th>56</th>\n",
       "      <th>57</th>\n",
       "      <th>58</th>\n",
       "      <th>59</th>\n",
       "      <th>60</th>\n",
       "      <th>61</th>\n",
       "      <th>62</th>\n",
       "      <th>63</th>\n",
       "    </tr>\n",
       "  </thead>\n",
       "  <tbody>\n",
       "    <tr>\n",
       "      <th>0</th>\n",
       "      <td>0</td>\n",
       "      <td>0</td>\n",
       "      <td>0</td>\n",
       "      <td>0</td>\n",
       "      <td>0.045441</td>\n",
       "      <td>0.059819</td>\n",
       "      <td>0.129809</td>\n",
       "      <td>-0.108830</td>\n",
       "      <td>-0.082256</td>\n",
       "      <td>-0.084359</td>\n",
       "      <td>...</td>\n",
       "      <td>0.137708</td>\n",
       "      <td>0.153404</td>\n",
       "      <td>0.070102</td>\n",
       "      <td>0.032150</td>\n",
       "      <td>-0.020099</td>\n",
       "      <td>0.059464</td>\n",
       "      <td>-0.155438</td>\n",
       "      <td>0.052263</td>\n",
       "      <td>-0.249170</td>\n",
       "      <td>0.128384</td>\n",
       "    </tr>\n",
       "    <tr>\n",
       "      <th>1</th>\n",
       "      <td>1</td>\n",
       "      <td>441</td>\n",
       "      <td>432</td>\n",
       "      <td>474</td>\n",
       "      <td>-0.062309</td>\n",
       "      <td>-0.175517</td>\n",
       "      <td>-0.118690</td>\n",
       "      <td>-0.251775</td>\n",
       "      <td>-0.009162</td>\n",
       "      <td>0.116605</td>\n",
       "      <td>...</td>\n",
       "      <td>-0.134853</td>\n",
       "      <td>0.039249</td>\n",
       "      <td>-0.058282</td>\n",
       "      <td>-0.070432</td>\n",
       "      <td>0.029771</td>\n",
       "      <td>0.018966</td>\n",
       "      <td>-0.180021</td>\n",
       "      <td>0.113205</td>\n",
       "      <td>-0.029373</td>\n",
       "      <td>0.245459</td>\n",
       "    </tr>\n",
       "    <tr>\n",
       "      <th>2</th>\n",
       "      <td>2</td>\n",
       "      <td>193</td>\n",
       "      <td>1159</td>\n",
       "      <td>125</td>\n",
       "      <td>0.054750</td>\n",
       "      <td>-0.138316</td>\n",
       "      <td>0.152897</td>\n",
       "      <td>0.015473</td>\n",
       "      <td>-0.073939</td>\n",
       "      <td>-0.012988</td>\n",
       "      <td>...</td>\n",
       "      <td>0.012525</td>\n",
       "      <td>-0.043029</td>\n",
       "      <td>0.075899</td>\n",
       "      <td>0.020771</td>\n",
       "      <td>0.127448</td>\n",
       "      <td>0.031545</td>\n",
       "      <td>-0.030108</td>\n",
       "      <td>-0.019186</td>\n",
       "      <td>-0.153289</td>\n",
       "      <td>0.185170</td>\n",
       "    </tr>\n",
       "    <tr>\n",
       "      <th>3</th>\n",
       "      <td>3</td>\n",
       "      <td>3</td>\n",
       "      <td>1463</td>\n",
       "      <td>872</td>\n",
       "      <td>-0.052466</td>\n",
       "      <td>-0.033155</td>\n",
       "      <td>0.109827</td>\n",
       "      <td>-0.064776</td>\n",
       "      <td>0.064255</td>\n",
       "      <td>0.123888</td>\n",
       "      <td>...</td>\n",
       "      <td>0.077336</td>\n",
       "      <td>-0.061820</td>\n",
       "      <td>0.053175</td>\n",
       "      <td>-0.014500</td>\n",
       "      <td>0.048533</td>\n",
       "      <td>0.173381</td>\n",
       "      <td>0.027293</td>\n",
       "      <td>-0.044810</td>\n",
       "      <td>0.018886</td>\n",
       "      <td>0.145906</td>\n",
       "    </tr>\n",
       "    <tr>\n",
       "      <th>4</th>\n",
       "      <td>4</td>\n",
       "      <td>282</td>\n",
       "      <td>2479</td>\n",
       "      <td>555</td>\n",
       "      <td>-0.104201</td>\n",
       "      <td>-0.153385</td>\n",
       "      <td>0.098410</td>\n",
       "      <td>-0.190748</td>\n",
       "      <td>-0.135593</td>\n",
       "      <td>0.215999</td>\n",
       "      <td>...</td>\n",
       "      <td>0.182969</td>\n",
       "      <td>-0.001762</td>\n",
       "      <td>0.004312</td>\n",
       "      <td>-0.048311</td>\n",
       "      <td>-0.001306</td>\n",
       "      <td>-0.010827</td>\n",
       "      <td>0.019868</td>\n",
       "      <td>0.079796</td>\n",
       "      <td>-0.360648</td>\n",
       "      <td>0.206935</td>\n",
       "    </tr>\n",
       "    <tr>\n",
       "      <th>...</th>\n",
       "      <td>...</td>\n",
       "      <td>...</td>\n",
       "      <td>...</td>\n",
       "      <td>...</td>\n",
       "      <td>...</td>\n",
       "      <td>...</td>\n",
       "      <td>...</td>\n",
       "      <td>...</td>\n",
       "      <td>...</td>\n",
       "      <td>...</td>\n",
       "      <td>...</td>\n",
       "      <td>...</td>\n",
       "      <td>...</td>\n",
       "      <td>...</td>\n",
       "      <td>...</td>\n",
       "      <td>...</td>\n",
       "      <td>...</td>\n",
       "      <td>...</td>\n",
       "      <td>...</td>\n",
       "      <td>...</td>\n",
       "      <td>...</td>\n",
       "    </tr>\n",
       "    <tr>\n",
       "      <th>3078301</th>\n",
       "      <td>3078301</td>\n",
       "      <td>2378</td>\n",
       "      <td>75198</td>\n",
       "      <td>24666</td>\n",
       "      <td>0.005531</td>\n",
       "      <td>0.091458</td>\n",
       "      <td>0.001629</td>\n",
       "      <td>-0.168319</td>\n",
       "      <td>0.054186</td>\n",
       "      <td>-0.121674</td>\n",
       "      <td>...</td>\n",
       "      <td>-0.039214</td>\n",
       "      <td>-0.016966</td>\n",
       "      <td>0.181637</td>\n",
       "      <td>-0.019679</td>\n",
       "      <td>-0.059735</td>\n",
       "      <td>-0.024524</td>\n",
       "      <td>-0.017943</td>\n",
       "      <td>0.012964</td>\n",
       "      <td>-0.200432</td>\n",
       "      <td>0.177761</td>\n",
       "    </tr>\n",
       "    <tr>\n",
       "      <th>3078302</th>\n",
       "      <td>3078302</td>\n",
       "      <td>1604</td>\n",
       "      <td>366075</td>\n",
       "      <td>175177</td>\n",
       "      <td>0.036174</td>\n",
       "      <td>-0.090309</td>\n",
       "      <td>0.062095</td>\n",
       "      <td>0.003157</td>\n",
       "      <td>0.132412</td>\n",
       "      <td>0.111471</td>\n",
       "      <td>...</td>\n",
       "      <td>0.014639</td>\n",
       "      <td>0.056640</td>\n",
       "      <td>0.085006</td>\n",
       "      <td>0.060594</td>\n",
       "      <td>0.059827</td>\n",
       "      <td>0.025134</td>\n",
       "      <td>0.135456</td>\n",
       "      <td>0.080058</td>\n",
       "      <td>-0.003671</td>\n",
       "      <td>0.096373</td>\n",
       "    </tr>\n",
       "    <tr>\n",
       "      <th>3078303</th>\n",
       "      <td>3078303</td>\n",
       "      <td>253</td>\n",
       "      <td>206410</td>\n",
       "      <td>0</td>\n",
       "      <td>0.048918</td>\n",
       "      <td>-0.165730</td>\n",
       "      <td>0.042044</td>\n",
       "      <td>-0.066073</td>\n",
       "      <td>-0.123633</td>\n",
       "      <td>0.108967</td>\n",
       "      <td>...</td>\n",
       "      <td>-0.016723</td>\n",
       "      <td>-0.210796</td>\n",
       "      <td>0.117924</td>\n",
       "      <td>-0.006236</td>\n",
       "      <td>-0.106710</td>\n",
       "      <td>0.037314</td>\n",
       "      <td>-0.014166</td>\n",
       "      <td>-0.073964</td>\n",
       "      <td>-0.218900</td>\n",
       "      <td>0.067258</td>\n",
       "    </tr>\n",
       "    <tr>\n",
       "      <th>3078304</th>\n",
       "      <td>3078304</td>\n",
       "      <td>475</td>\n",
       "      <td>255840</td>\n",
       "      <td>335</td>\n",
       "      <td>-0.107561</td>\n",
       "      <td>-0.069512</td>\n",
       "      <td>0.126090</td>\n",
       "      <td>-0.283694</td>\n",
       "      <td>-0.005332</td>\n",
       "      <td>-0.080390</td>\n",
       "      <td>...</td>\n",
       "      <td>0.075199</td>\n",
       "      <td>0.189646</td>\n",
       "      <td>-0.063537</td>\n",
       "      <td>-0.027494</td>\n",
       "      <td>0.009694</td>\n",
       "      <td>0.104136</td>\n",
       "      <td>-0.179885</td>\n",
       "      <td>0.033065</td>\n",
       "      <td>-0.201278</td>\n",
       "      <td>0.072276</td>\n",
       "    </tr>\n",
       "    <tr>\n",
       "      <th>3078305</th>\n",
       "      <td>3078305</td>\n",
       "      <td>2441</td>\n",
       "      <td>266751</td>\n",
       "      <td>67717</td>\n",
       "      <td>0.115489</td>\n",
       "      <td>-0.164657</td>\n",
       "      <td>-0.009443</td>\n",
       "      <td>-0.007146</td>\n",
       "      <td>-0.055453</td>\n",
       "      <td>0.040687</td>\n",
       "      <td>...</td>\n",
       "      <td>-0.002892</td>\n",
       "      <td>0.021788</td>\n",
       "      <td>0.107767</td>\n",
       "      <td>-0.082364</td>\n",
       "      <td>0.022917</td>\n",
       "      <td>-0.012502</td>\n",
       "      <td>-0.098018</td>\n",
       "      <td>0.099576</td>\n",
       "      <td>0.150565</td>\n",
       "      <td>0.282281</td>\n",
       "    </tr>\n",
       "  </tbody>\n",
       "</table>\n",
       "<p>3078306 rows × 68 columns</p>\n",
       "</div>"
      ],
      "text/plain": [
       "         item_id  item_category  item_shop  item_brand         0         1  \\\n",
       "0              0              0          0           0  0.045441  0.059819   \n",
       "1              1            441        432         474 -0.062309 -0.175517   \n",
       "2              2            193       1159         125  0.054750 -0.138316   \n",
       "3              3              3       1463         872 -0.052466 -0.033155   \n",
       "4              4            282       2479         555 -0.104201 -0.153385   \n",
       "...          ...            ...        ...         ...       ...       ...   \n",
       "3078301  3078301           2378      75198       24666  0.005531  0.091458   \n",
       "3078302  3078302           1604     366075      175177  0.036174 -0.090309   \n",
       "3078303  3078303            253     206410           0  0.048918 -0.165730   \n",
       "3078304  3078304            475     255840         335 -0.107561 -0.069512   \n",
       "3078305  3078305           2441     266751       67717  0.115489 -0.164657   \n",
       "\n",
       "                2         3         4         5  ...        54        55  \\\n",
       "0        0.129809 -0.108830 -0.082256 -0.084359  ...  0.137708  0.153404   \n",
       "1       -0.118690 -0.251775 -0.009162  0.116605  ... -0.134853  0.039249   \n",
       "2        0.152897  0.015473 -0.073939 -0.012988  ...  0.012525 -0.043029   \n",
       "3        0.109827 -0.064776  0.064255  0.123888  ...  0.077336 -0.061820   \n",
       "4        0.098410 -0.190748 -0.135593  0.215999  ...  0.182969 -0.001762   \n",
       "...           ...       ...       ...       ...  ...       ...       ...   \n",
       "3078301  0.001629 -0.168319  0.054186 -0.121674  ... -0.039214 -0.016966   \n",
       "3078302  0.062095  0.003157  0.132412  0.111471  ...  0.014639  0.056640   \n",
       "3078303  0.042044 -0.066073 -0.123633  0.108967  ... -0.016723 -0.210796   \n",
       "3078304  0.126090 -0.283694 -0.005332 -0.080390  ...  0.075199  0.189646   \n",
       "3078305 -0.009443 -0.007146 -0.055453  0.040687  ... -0.002892  0.021788   \n",
       "\n",
       "               56        57        58        59        60        61        62  \\\n",
       "0        0.070102  0.032150 -0.020099  0.059464 -0.155438  0.052263 -0.249170   \n",
       "1       -0.058282 -0.070432  0.029771  0.018966 -0.180021  0.113205 -0.029373   \n",
       "2        0.075899  0.020771  0.127448  0.031545 -0.030108 -0.019186 -0.153289   \n",
       "3        0.053175 -0.014500  0.048533  0.173381  0.027293 -0.044810  0.018886   \n",
       "4        0.004312 -0.048311 -0.001306 -0.010827  0.019868  0.079796 -0.360648   \n",
       "...           ...       ...       ...       ...       ...       ...       ...   \n",
       "3078301  0.181637 -0.019679 -0.059735 -0.024524 -0.017943  0.012964 -0.200432   \n",
       "3078302  0.085006  0.060594  0.059827  0.025134  0.135456  0.080058 -0.003671   \n",
       "3078303  0.117924 -0.006236 -0.106710  0.037314 -0.014166 -0.073964 -0.218900   \n",
       "3078304 -0.063537 -0.027494  0.009694  0.104136 -0.179885  0.033065 -0.201278   \n",
       "3078305  0.107767 -0.082364  0.022917 -0.012502 -0.098018  0.099576  0.150565   \n",
       "\n",
       "               63  \n",
       "0        0.128384  \n",
       "1        0.245459  \n",
       "2        0.185170  \n",
       "3        0.145906  \n",
       "4        0.206935  \n",
       "...           ...  \n",
       "3078301  0.177761  \n",
       "3078302  0.096373  \n",
       "3078303  0.067258  \n",
       "3078304  0.072276  \n",
       "3078305  0.282281  \n",
       "\n",
       "[3078306 rows x 68 columns]"
      ]
     },
     "execution_count": 23,
     "metadata": {},
     "output_type": "execute_result"
    }
   ],
   "source": [
    "item_embs_df"
   ]
  },
  {
   "cell_type": "code",
   "execution_count": 26,
   "id": "cc4428ed",
   "metadata": {},
   "outputs": [],
   "source": [
    "item_embeddings = item_embs_df.iloc[:, 4:]"
   ]
  },
  {
   "cell_type": "code",
   "execution_count": 27,
   "id": "7f4e94fc",
   "metadata": {},
   "outputs": [
    {
     "data": {
      "text/html": [
       "<div>\n",
       "<style scoped>\n",
       "    .dataframe tbody tr th:only-of-type {\n",
       "        vertical-align: middle;\n",
       "    }\n",
       "\n",
       "    .dataframe tbody tr th {\n",
       "        vertical-align: top;\n",
       "    }\n",
       "\n",
       "    .dataframe thead th {\n",
       "        text-align: right;\n",
       "    }\n",
       "</style>\n",
       "<table border=\"1\" class=\"dataframe\">\n",
       "  <thead>\n",
       "    <tr style=\"text-align: right;\">\n",
       "      <th></th>\n",
       "      <th>0</th>\n",
       "      <th>1</th>\n",
       "      <th>2</th>\n",
       "      <th>3</th>\n",
       "      <th>4</th>\n",
       "      <th>5</th>\n",
       "      <th>6</th>\n",
       "      <th>7</th>\n",
       "      <th>8</th>\n",
       "      <th>9</th>\n",
       "      <th>...</th>\n",
       "      <th>54</th>\n",
       "      <th>55</th>\n",
       "      <th>56</th>\n",
       "      <th>57</th>\n",
       "      <th>58</th>\n",
       "      <th>59</th>\n",
       "      <th>60</th>\n",
       "      <th>61</th>\n",
       "      <th>62</th>\n",
       "      <th>63</th>\n",
       "    </tr>\n",
       "  </thead>\n",
       "  <tbody>\n",
       "    <tr>\n",
       "      <th>0</th>\n",
       "      <td>0.045441</td>\n",
       "      <td>0.059819</td>\n",
       "      <td>0.129809</td>\n",
       "      <td>-0.108830</td>\n",
       "      <td>-0.082256</td>\n",
       "      <td>-0.084359</td>\n",
       "      <td>-0.002202</td>\n",
       "      <td>0.119140</td>\n",
       "      <td>0.130306</td>\n",
       "      <td>-0.020843</td>\n",
       "      <td>...</td>\n",
       "      <td>0.137708</td>\n",
       "      <td>0.153404</td>\n",
       "      <td>0.070102</td>\n",
       "      <td>0.032150</td>\n",
       "      <td>-0.020099</td>\n",
       "      <td>0.059464</td>\n",
       "      <td>-0.155438</td>\n",
       "      <td>0.052263</td>\n",
       "      <td>-0.249170</td>\n",
       "      <td>0.128384</td>\n",
       "    </tr>\n",
       "    <tr>\n",
       "      <th>1</th>\n",
       "      <td>-0.062309</td>\n",
       "      <td>-0.175517</td>\n",
       "      <td>-0.118690</td>\n",
       "      <td>-0.251775</td>\n",
       "      <td>-0.009162</td>\n",
       "      <td>0.116605</td>\n",
       "      <td>-0.162520</td>\n",
       "      <td>0.042893</td>\n",
       "      <td>0.110591</td>\n",
       "      <td>0.105749</td>\n",
       "      <td>...</td>\n",
       "      <td>-0.134853</td>\n",
       "      <td>0.039249</td>\n",
       "      <td>-0.058282</td>\n",
       "      <td>-0.070432</td>\n",
       "      <td>0.029771</td>\n",
       "      <td>0.018966</td>\n",
       "      <td>-0.180021</td>\n",
       "      <td>0.113205</td>\n",
       "      <td>-0.029373</td>\n",
       "      <td>0.245459</td>\n",
       "    </tr>\n",
       "    <tr>\n",
       "      <th>2</th>\n",
       "      <td>0.054750</td>\n",
       "      <td>-0.138316</td>\n",
       "      <td>0.152897</td>\n",
       "      <td>0.015473</td>\n",
       "      <td>-0.073939</td>\n",
       "      <td>-0.012988</td>\n",
       "      <td>-0.059543</td>\n",
       "      <td>0.132076</td>\n",
       "      <td>0.021028</td>\n",
       "      <td>0.045453</td>\n",
       "      <td>...</td>\n",
       "      <td>0.012525</td>\n",
       "      <td>-0.043029</td>\n",
       "      <td>0.075899</td>\n",
       "      <td>0.020771</td>\n",
       "      <td>0.127448</td>\n",
       "      <td>0.031545</td>\n",
       "      <td>-0.030108</td>\n",
       "      <td>-0.019186</td>\n",
       "      <td>-0.153289</td>\n",
       "      <td>0.185170</td>\n",
       "    </tr>\n",
       "    <tr>\n",
       "      <th>3</th>\n",
       "      <td>-0.052466</td>\n",
       "      <td>-0.033155</td>\n",
       "      <td>0.109827</td>\n",
       "      <td>-0.064776</td>\n",
       "      <td>0.064255</td>\n",
       "      <td>0.123888</td>\n",
       "      <td>-0.098999</td>\n",
       "      <td>0.118428</td>\n",
       "      <td>-0.066744</td>\n",
       "      <td>0.043861</td>\n",
       "      <td>...</td>\n",
       "      <td>0.077336</td>\n",
       "      <td>-0.061820</td>\n",
       "      <td>0.053175</td>\n",
       "      <td>-0.014500</td>\n",
       "      <td>0.048533</td>\n",
       "      <td>0.173381</td>\n",
       "      <td>0.027293</td>\n",
       "      <td>-0.044810</td>\n",
       "      <td>0.018886</td>\n",
       "      <td>0.145906</td>\n",
       "    </tr>\n",
       "    <tr>\n",
       "      <th>4</th>\n",
       "      <td>-0.104201</td>\n",
       "      <td>-0.153385</td>\n",
       "      <td>0.098410</td>\n",
       "      <td>-0.190748</td>\n",
       "      <td>-0.135593</td>\n",
       "      <td>0.215999</td>\n",
       "      <td>-0.100042</td>\n",
       "      <td>-0.025396</td>\n",
       "      <td>-0.043621</td>\n",
       "      <td>-0.036547</td>\n",
       "      <td>...</td>\n",
       "      <td>0.182969</td>\n",
       "      <td>-0.001762</td>\n",
       "      <td>0.004312</td>\n",
       "      <td>-0.048311</td>\n",
       "      <td>-0.001306</td>\n",
       "      <td>-0.010827</td>\n",
       "      <td>0.019868</td>\n",
       "      <td>0.079796</td>\n",
       "      <td>-0.360648</td>\n",
       "      <td>0.206935</td>\n",
       "    </tr>\n",
       "  </tbody>\n",
       "</table>\n",
       "<p>5 rows × 64 columns</p>\n",
       "</div>"
      ],
      "text/plain": [
       "          0         1         2         3         4         5         6  \\\n",
       "0  0.045441  0.059819  0.129809 -0.108830 -0.082256 -0.084359 -0.002202   \n",
       "1 -0.062309 -0.175517 -0.118690 -0.251775 -0.009162  0.116605 -0.162520   \n",
       "2  0.054750 -0.138316  0.152897  0.015473 -0.073939 -0.012988 -0.059543   \n",
       "3 -0.052466 -0.033155  0.109827 -0.064776  0.064255  0.123888 -0.098999   \n",
       "4 -0.104201 -0.153385  0.098410 -0.190748 -0.135593  0.215999 -0.100042   \n",
       "\n",
       "          7         8         9  ...        54        55        56        57  \\\n",
       "0  0.119140  0.130306 -0.020843  ...  0.137708  0.153404  0.070102  0.032150   \n",
       "1  0.042893  0.110591  0.105749  ... -0.134853  0.039249 -0.058282 -0.070432   \n",
       "2  0.132076  0.021028  0.045453  ...  0.012525 -0.043029  0.075899  0.020771   \n",
       "3  0.118428 -0.066744  0.043861  ...  0.077336 -0.061820  0.053175 -0.014500   \n",
       "4 -0.025396 -0.043621 -0.036547  ...  0.182969 -0.001762  0.004312 -0.048311   \n",
       "\n",
       "         58        59        60        61        62        63  \n",
       "0 -0.020099  0.059464 -0.155438  0.052263 -0.249170  0.128384  \n",
       "1  0.029771  0.018966 -0.180021  0.113205 -0.029373  0.245459  \n",
       "2  0.127448  0.031545 -0.030108 -0.019186 -0.153289  0.185170  \n",
       "3  0.048533  0.173381  0.027293 -0.044810  0.018886  0.145906  \n",
       "4 -0.001306 -0.010827  0.019868  0.079796 -0.360648  0.206935  \n",
       "\n",
       "[5 rows x 64 columns]"
      ]
     },
     "execution_count": 27,
     "metadata": {},
     "output_type": "execute_result"
    }
   ],
   "source": [
    "item_embeddings.head()"
   ]
  },
  {
   "cell_type": "code",
   "execution_count": 28,
   "id": "35a0e590",
   "metadata": {},
   "outputs": [
    {
     "data": {
      "text/plain": [
       "(3078306, 64)"
      ]
     },
     "execution_count": 28,
     "metadata": {},
     "output_type": "execute_result"
    }
   ],
   "source": [
    "item_embeddings.shape"
   ]
  },
  {
   "cell_type": "code",
   "execution_count": 25,
   "id": "30c9b67a",
   "metadata": {},
   "outputs": [],
   "source": [
    "#item_embeddings.to_parquet('item_embeddings')"
   ]
  }
 ],
 "metadata": {
  "kernelspec": {
   "display_name": "Python 3 (ipykernel)",
   "language": "python",
   "name": "python3"
  },
  "language_info": {
   "codemirror_mode": {
    "name": "ipython",
    "version": 3
   },
   "file_extension": ".py",
   "mimetype": "text/x-python",
   "name": "python",
   "nbconvert_exporter": "python",
   "pygments_lexer": "ipython3",
   "version": "3.8.10"
  }
 },
 "nbformat": 4,
 "nbformat_minor": 5
}

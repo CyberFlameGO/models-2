{
 "cells": [
  {
   "cell_type": "code",
   "execution_count": 1,
   "id": "1e48f121",
   "metadata": {},
   "outputs": [],
   "source": [
    "# Copyright 2021 NVIDIA Corporation. All Rights Reserved.\n",
    "#\n",
    "# Licensed under the Apache License, Version 2.0 (the \"License\");\n",
    "# you may not use this file except in compliance with the License.\n",
    "# You may obtain a copy of the License at\n",
    "#\n",
    "#     http://www.apache.org/licenses/LICENSE-2.0\n",
    "#\n",
    "# Unless required by applicable law or agreed to in writing, software\n",
    "# distributed under the License is distributed on an \"AS IS\" BASIS,\n",
    "# WITHOUT WARRANTIES OR CONDITIONS OF ANY KIND, either express or implied.\n",
    "# See the License for the specific language governing permissions and\n",
    "# limitations under the License.\n",
    "# ================================"
   ]
  },
  {
   "cell_type": "markdown",
   "id": "221da8b3",
   "metadata": {},
   "source": [
    "## Building Retrieval Models easily with Merlin Models\n",
    "\n",
    "In large scale recommender systems pipelines, the size of the item catalog (number of unique items) might be in the order of millions. At such scale, a typical setup is having two-stage pipeline, where a faster candidate retrieval model quickly extracts thousands of relevant items and a then a more powerful ranking model (i.e. with more features and more powerful architecture) ranks the top-k items that are going to be displayed to the user. For ML-based candidate retrieval model, as it needs to quickly score millions of items for a given user, a popular choices are models that can produce recommendation scores by just computing the dot product the user embeddings and item embeddings. Popular choices of such models are **Matrix Factorization**, which learns low-rank user and item embeddings, and the **Two-Tower architecture**, which is a neural network with two MLP towers where both user and item features are fed to generate user and item embeddings in the output. Such models can be efficiently served by indexing the trained item embeddings into an **Approximate Nearest Neighbors (ANN)** engine and during inference scoring user embeddings over all indexed item embeddings within the engine.In this notebook we will build a Two-Tower architecture for item retrieval.\n"
   ]
  },
  {
   "cell_type": "markdown",
   "id": "a080483f",
   "metadata": {},
   "source": [
    "\n",
    "### Dataset\n",
    "\n",
    "In this notebook, we are building a Two-Tower model for Item Retrieval task using the Ali-CCP: Alibaba Click and Conversion Prediction dataset. To download the training and test datasets visit Ali-CCP: Alibaba Click and Conversion Prediction at [tianchi.aliyun.com](https://tianchi.aliyun.com/dataset/dataDetail?dataId=408#1). We have curated the raw dataset via using this [script]() and generated the parquet files that we will use for this example.\n",
    "\n",
    "### Learning objectives\n",
    "- Preparing the data with NVTabular\n",
    "- Training and evaluating Two-Tower model with Merlin Models\n",
    "- Perform prediction for a given user query"
   ]
  },
  {
   "cell_type": "markdown",
   "id": "302e1a2e",
   "metadata": {},
   "source": [
    "### Feature Engineering with NVTabular"
   ]
  },
  {
   "cell_type": "code",
   "execution_count": 12,
   "id": "e907e391",
   "metadata": {},
   "outputs": [
    {
     "name": "stderr",
     "output_type": "stream",
     "text": [
      "2022-03-22 22:10:59.564492: I tensorflow/core/platform/cpu_feature_guard.cc:151] This TensorFlow binary is optimized with oneAPI Deep Neural Network Library (oneDNN) to use the following CPU instructions in performance-critical operations:  AVX2 AVX512F FMA\n",
      "To enable them in other operations, rebuild TensorFlow with the appropriate compiler flags.\n",
      "2022-03-22 22:11:00.695919: I tensorflow/core/common_runtime/gpu/gpu_process_state.cc:214] Using CUDA malloc Async allocator for GPU: 0\n",
      "2022-03-22 22:11:00.696053: I tensorflow/core/common_runtime/gpu/gpu_device.cc:1525] Created device /job:localhost/replica:0/task:0/device:GPU:0 with 16254 MB memory:  -> device: 0, name: Quadro GV100, pci bus id: 0000:15:00.0, compute capability: 7.0\n"
     ]
    }
   ],
   "source": [
    "import os\n",
    "os.environ[\"TF_GPU_ALLOCATOR\"]=\"cuda_malloc_async\"\n",
    "import cudf\n",
    "import glob\n",
    "import gc\n",
    "\n",
    "import nvtabular as nvt\n",
    "from nvtabular.ops import *\n",
    "from example_utils import workflow_fit_transform\n",
    "\n",
    "from merlin.schema.tags import Tags\n",
    "from merlin.schema import Schema\n",
    "\n",
    "import merlin.models.tf as mm\n",
    "import merlin.models.tf.dataset as tf_dataloader\n",
    "\n",
    "from merlin.io.dataset import Dataset\n",
    "from merlin.schema.io.tensorflow_metadata import TensorflowMetadata\n",
    "from merlin.models.tf.blocks.core.aggregation import CosineSimilarity\n",
    "\n",
    "import tensorflow as tf"
   ]
  },
  {
   "cell_type": "markdown",
   "id": "11170ea0",
   "metadata": {},
   "source": [
    "First, we define our input and output paths."
   ]
  },
  {
   "cell_type": "code",
   "execution_count": 13,
   "id": "b708a5d7",
   "metadata": {},
   "outputs": [],
   "source": [
    "train_path = '/workspace/data/train/*.parquet'\n",
    "test_path = '/workspace/data/test/*.parquet'\n",
    "output_path = '/workspace/retrieval/processed/'"
   ]
  },
  {
   "cell_type": "markdown",
   "id": "9f08cabf",
   "metadata": {},
   "source": [
    "ETL Workflow"
   ]
  },
  {
   "cell_type": "markdown",
   "id": "28f80b56",
   "metadata": {},
   "source": [
    "We select only positive interaction rows where `click==1` from the dataset with `Filter()` op."
   ]
  },
  {
   "cell_type": "code",
   "execution_count": 14,
   "id": "ef913b4a",
   "metadata": {},
   "outputs": [
    {
     "name": "stderr",
     "output_type": "stream",
     "text": [
      "/usr/local/lib/python3.8/dist-packages/cudf/core/dataframe.py:1253: UserWarning: The deep parameter is ignored and is only included for pandas compatibility.\n",
      "  warnings.warn(\n"
     ]
    }
   ],
   "source": [
    "user_id = [\"user_id\"] >> Categorify() >> AddMetadata(tags=[Tags.USER_ID, Tags.USER])\n",
    "item_id = [\"item_id\"] >> Categorify() >> AddMetadata(tags=[Tags.ITEM_ID, Tags.ITEM]) \n",
    "\n",
    "item_features = [\"item_category\", \"item_shop\", \"item_brand\"] \\\n",
    "     >> AddMetadata(tags=[Tags.ITEM]) >> nvt.ops.Categorify()\n",
    "\n",
    "user_features = ['user_shops', 'user_profile', 'user_group', \n",
    "       'user_gender', 'user_age', 'user_consumption_2', 'user_is_occupied',\n",
    "       'user_geography', 'user_intentions', 'user_brands', 'user_categories'] \\\n",
    "    >> AddMetadata(tags=[Tags.USER]) >> nvt.ops.Categorify()\n",
    "\n",
    "inputs = user_id + item_id + item_features + user_features + ['click'] \n",
    "\n",
    "outputs = inputs >> Filter(f=lambda df: df[\"click\"] == 1)\n",
    "\n",
    "workflow_fit_transform(outputs, train_path, test_path, output_path)"
   ]
  },
  {
   "cell_type": "markdown",
   "id": "60fb35ca",
   "metadata": {
    "tags": []
   },
   "source": [
    "## Building Two-Tower Model"
   ]
  },
  {
   "cell_type": "markdown",
   "id": "05596b6b",
   "metadata": {},
   "source": [
    "We will use Two-Tower Model for Item retrieval task. Real-world large scale recommender systems have hundreds of millions of items (products) and users. It is Thus, these systems are often composed of two stages: candidate generation (retrieval) and ranking (scoring the retrieved items). You can read more about two stage Recommender Systems [here](https://static.googleusercontent.com/media/research.google.com/en//pubs/archive/45530.pdf). In this example, we're going to focus on the retrieval stage.\n",
    "\n",
    "A Two-Tower Model consists of item (candidate) and user (query) encoder towers. With two towers, the model can learn representations (embeddings) for queries and candidates separately. \n",
    "\n",
    "<img src=\"./images/TwoTower.png\"  width=\"30%\">\n",
    "\n",
    "Image Adapted from: [Off-policy Learning in Two-stage Recommender Systems](https://dl.acm.org/doi/abs/10.1145/3366423.3380130)"
   ]
  },
  {
   "cell_type": "markdown",
   "id": "5da1c67d",
   "metadata": {},
   "source": [
    "We use the `schema` object to define our model."
   ]
  },
  {
   "cell_type": "code",
   "execution_count": 5,
   "id": "320fef13",
   "metadata": {},
   "outputs": [],
   "source": [
    "schema = TensorflowMetadata.from_proto_text_file('/workspace/retrieval/processed/train/').to_merlin_schema()"
   ]
  },
  {
   "cell_type": "code",
   "execution_count": 6,
   "id": "4f859885",
   "metadata": {},
   "outputs": [],
   "source": [
    "schema = schema.select_by_tag([Tags.ITEM_ID, Tags.USER_ID, Tags.ITEM, Tags.USER])"
   ]
  },
  {
   "cell_type": "markdown",
   "id": "1747defe",
   "metadata": {},
   "source": [
    "We expect the label names to be empty."
   ]
  },
  {
   "cell_type": "code",
   "execution_count": 7,
   "id": "6ced9265",
   "metadata": {},
   "outputs": [
    {
     "data": {
      "text/plain": [
       "[]"
      ]
     },
     "execution_count": 7,
     "metadata": {},
     "output_type": "execute_result"
    }
   ],
   "source": [
    "label_names = schema.select_by_tag(Tags.TARGET).column_names\n",
    "label_names"
   ]
  },
  {
   "cell_type": "markdown",
   "id": "496ec908",
   "metadata": {},
   "source": [
    "### Negative sampling\n",
    "Many datasets for recommender systems contains implicit feedback, with logs of user interactions like clicks, add-to-cart, purchases, music listening events, rather than explicit ratings that reflects user preferences over items. To be able to learn from implicit feedback, we use the general (and naive) assumption that the interacted items are more relevant for the user than the non-interacted ones.\n",
    "In Merlin Models we provide some scalable negative sampling algorithms for the Item Retrieval Task. In particular, we use in this example the in-batch sampling algorithm which uses the items interacted by other users as negatives within the same mini-batch."
   ]
  },
  {
   "cell_type": "markdown",
   "id": "02d646d7",
   "metadata": {},
   "source": [
    "### Building the Model"
   ]
  },
  {
   "cell_type": "markdown",
   "id": "73ec5f4f",
   "metadata": {},
   "source": [
    "Now, let's build our Two-Tower model. In a nutshell, we aggregate all user features to feed in user tower and feed the item features to the item tower. Then we compute the positive score by multiplying the user embedding with the item embedding and sample negative items (read more about negative sampling [here](https://openreview.net/pdf?id=824xC-SgWgU) and [here](https://medium.com/mlearning-ai/overview-negative-sampling-on-recommendation-systems-230a051c6cd7)), whose item embeddings are also multiplied by the user embedding. Then we apply the loss function on top of the positive and negative scores."
   ]
  },
  {
   "cell_type": "code",
   "execution_count": 8,
   "id": "b2a7dfef",
   "metadata": {},
   "outputs": [],
   "source": [
    "model = mm.TwoTowerModel(\n",
    "    schema,\n",
    "    query_tower=mm.MLPBlock([128, 64], no_activation_last_layer=True),        \n",
    "    loss=\"categorical_crossentropy\",  \n",
    "    samplers=[mm.InBatchSampler()],\n",
    "    embedding_options = mm.EmbeddingOptions(infer_embedding_sizes=True),\n",
    "    metrics=[mm.RecallAt(10), mm.NDCGAt(10)]\n",
    ")"
   ]
  },
  {
   "cell_type": "markdown",
   "id": "17ee98b3",
   "metadata": {},
   "source": [
    "Let's explain the parameters in the TwoTowerModel():\n",
    "- no_activation_last_layer: when set True, no activation is used for top hidden layer. Learn more [here](https://storage.googleapis.com/pub-tools-public-publication-data/pdf/b9f4e78a8830fe5afcf2f0452862fb3c0d6584ea.pdf).\n",
    "- infer_embedding_sizes: when set True, automatically defines the embedding dimension from the feature cardinality in the schema\n",
    "\n",
    "**Metrics:**\n",
    "\n",
    "The following information retrieval metrics are used to compute the Top-10 accuracy of recommendation lists containing all items:\n",
    "\n",
    "- **Normalized Discounted Cumulative Gain (NDCG@10)**: NDCG accounts for rank of the relevant item in the recommendation list and is a more fine-grained metric than HR, which only verifies whether the relevant item is among the top-k items.\n",
    "\n",
    "- **Recall@10**: Also known as HitRate@n when there is only one relevant item in the recommendation list. Recall just verifies whether the relevant item is among the top-n items."
   ]
  },
  {
   "cell_type": "markdown",
   "id": "2c55733d",
   "metadata": {},
   "source": [
    "We need to initialize the dataloaders."
   ]
  },
  {
   "cell_type": "code",
   "execution_count": 9,
   "id": "9a121fcb",
   "metadata": {},
   "outputs": [],
   "source": [
    "batch_size = 4096\n",
    "\n",
    "train = Dataset(os.path.join(output_path + '/train/*.parquet'), part_size=\"500MB\")\n",
    "valid = Dataset(os.path.join(output_path + '/test/*.parquet'), part_size=\"500MB\")"
   ]
  },
  {
   "cell_type": "code",
   "execution_count": 10,
   "id": "12524040",
   "metadata": {},
   "outputs": [
    {
     "name": "stderr",
     "output_type": "stream",
     "text": [
      "2022-03-22 21:41:38.726291: W tensorflow/python/util/util.cc:368] Sets are not currently considered sequences, but this may change in the future, so consider avoiding using them.\n"
     ]
    },
    {
     "name": "stdout",
     "output_type": "stream",
     "text": [
      "Epoch 1/3\n",
      "WARNING:tensorflow:AutoGraph could not transform <bound method Socket.send of <zmq.Socket(zmq.PUSH) at 0x7f42ac5e26a0>> and will run it as-is.\n",
      "Please report this to the TensorFlow team. When filing the bug, set the verbosity to 10 (on Linux, `export AUTOGRAPH_VERBOSITY=10`) and attach the full output.\n",
      "Cause: module, class, method, function, traceback, frame, or code object was expected, got cython_function_or_method\n",
      "To silence this warning, decorate the function with @tf.autograph.experimental.do_not_convert\n",
      "WARNING: AutoGraph could not transform <bound method Socket.send of <zmq.Socket(zmq.PUSH) at 0x7f42ac5e26a0>> and will run it as-is.\n",
      "Please report this to the TensorFlow team. When filing the bug, set the verbosity to 10 (on Linux, `export AUTOGRAPH_VERBOSITY=10`) and attach the full output.\n",
      "Cause: module, class, method, function, traceback, frame, or code object was expected, got cython_function_or_method\n",
      "To silence this warning, decorate the function with @tf.autograph.experimental.do_not_convert\n"
     ]
    },
    {
     "name": "stderr",
     "output_type": "stream",
     "text": [
      "The sampler InBatchSampler returned no samples for this batch.\n"
     ]
    },
    {
     "name": "stdout",
     "output_type": "stream",
     "text": [
      "382/384 [============================>.] - ETA: 0s - recall_at_10: 0.0024 - ndcg_10: 0.0011 - loss: 8.3220 - regularization_loss: 0.0000e+00 - total_loss: 8.3220"
     ]
    },
    {
     "name": "stderr",
     "output_type": "stream",
     "text": [
      "WARNING:absl:Found untraced functions such as block_context_layer_call_fn, block_context_layer_call_and_return_conditional_losses, sequential_block_6_layer_call_fn, sequential_block_6_layer_call_and_return_conditional_losses, l2_norm_layer_call_fn while saving (showing 5 of 26). These functions will not be directly callable after loading.\n",
      "2022-03-22 21:41:59.919108: W tensorflow/core/framework/cpu_allocator_impl.cc:82] Allocation of 1034311152 exceeds 10% of free system memory.\n"
     ]
    },
    {
     "name": "stdout",
     "output_type": "stream",
     "text": [
      "INFO:tensorflow:Assets written to: /tmp/tmpa1a1bacd/assets\n"
     ]
    },
    {
     "name": "stderr",
     "output_type": "stream",
     "text": [
      "INFO:tensorflow:Assets written to: /tmp/tmpa1a1bacd/assets\n",
      "2022-03-22 21:42:03.674997: W tensorflow/core/framework/cpu_allocator_impl.cc:82] Allocation of 1034311152 exceeds 10% of free system memory.\n"
     ]
    },
    {
     "name": "stdout",
     "output_type": "stream",
     "text": [
      "WARNING:tensorflow:No training configuration found in save file, so the model was *not* compiled. Compile it manually.\n"
     ]
    },
    {
     "name": "stderr",
     "output_type": "stream",
     "text": [
      "WARNING:tensorflow:No training configuration found in save file, so the model was *not* compiled. Compile it manually.\n",
      "2022-03-22 21:42:13.170412: W tensorflow/core/grappler/optimizers/loop_optimizer.cc:907] Skipping loop optimization for Merge node with control input: cond/then/_0/cond/cond/branch_executed/_184\n"
     ]
    },
    {
     "name": "stdout",
     "output_type": "stream",
     "text": [
      "384/384 [==============================] - 40s 80ms/step - recall_at_10: 0.0024 - ndcg_10: 0.0011 - loss: 8.3190 - regularization_loss: 0.0000e+00 - total_loss: 8.3190 - val_recall_at_10: 0.0024 - val_ndcg_10: 0.0011 - val_loss: 7.4214 - val_regularization_loss: 0.0000e+00 - val_total_loss: 7.4214\n",
      "Epoch 2/3\n",
      "384/384 [==============================] - ETA: 0s - recall_at_10: 0.0024 - ndcg_10: 0.0011 - loss: 8.3198 - regularization_loss: 0.0000e+00 - total_loss: 8.3198"
     ]
    },
    {
     "name": "stderr",
     "output_type": "stream",
     "text": [
      "WARNING:absl:Found untraced functions such as block_context_layer_call_fn, block_context_layer_call_and_return_conditional_losses, sequential_block_6_layer_call_fn, sequential_block_6_layer_call_and_return_conditional_losses, l2_norm_layer_call_fn while saving (showing 5 of 26). These functions will not be directly callable after loading.\n",
      "2022-03-22 21:42:30.096757: W tensorflow/core/framework/cpu_allocator_impl.cc:82] Allocation of 1034311152 exceeds 10% of free system memory.\n"
     ]
    },
    {
     "name": "stdout",
     "output_type": "stream",
     "text": [
      "INFO:tensorflow:Assets written to: /tmp/tmpmfw38y92/assets\n"
     ]
    },
    {
     "name": "stderr",
     "output_type": "stream",
     "text": [
      "INFO:tensorflow:Assets written to: /tmp/tmpmfw38y92/assets\n",
      "2022-03-22 21:42:33.609860: W tensorflow/core/framework/cpu_allocator_impl.cc:82] Allocation of 1034311152 exceeds 10% of free system memory.\n"
     ]
    },
    {
     "name": "stdout",
     "output_type": "stream",
     "text": [
      "WARNING:tensorflow:No training configuration found in save file, so the model was *not* compiled. Compile it manually.\n"
     ]
    },
    {
     "name": "stderr",
     "output_type": "stream",
     "text": [
      "WARNING:tensorflow:No training configuration found in save file, so the model was *not* compiled. Compile it manually.\n"
     ]
    },
    {
     "name": "stdout",
     "output_type": "stream",
     "text": [
      "384/384 [==============================] - 28s 73ms/step - recall_at_10: 0.0024 - ndcg_10: 0.0011 - loss: 8.3183 - regularization_loss: 0.0000e+00 - total_loss: 8.3183 - val_recall_at_10: 0.0024 - val_ndcg_10: 0.0011 - val_loss: 7.4207 - val_regularization_loss: 0.0000e+00 - val_total_loss: 7.4207\n",
      "Epoch 3/3\n",
      "382/384 [============================>.] - ETA: 0s - recall_at_10: 0.0025 - ndcg_10: 0.0011 - loss: 8.3207 - regularization_loss: 0.0000e+00 - total_loss: 8.3207"
     ]
    },
    {
     "name": "stderr",
     "output_type": "stream",
     "text": [
      "WARNING:absl:Found untraced functions such as block_context_layer_call_fn, block_context_layer_call_and_return_conditional_losses, sequential_block_6_layer_call_fn, sequential_block_6_layer_call_and_return_conditional_losses, l2_norm_layer_call_fn while saving (showing 5 of 26). These functions will not be directly callable after loading.\n",
      "2022-03-22 21:42:58.220055: W tensorflow/core/framework/cpu_allocator_impl.cc:82] Allocation of 1034311152 exceeds 10% of free system memory.\n"
     ]
    },
    {
     "name": "stdout",
     "output_type": "stream",
     "text": [
      "INFO:tensorflow:Assets written to: /tmp/tmpzlyjm7dk/assets\n"
     ]
    },
    {
     "name": "stderr",
     "output_type": "stream",
     "text": [
      "INFO:tensorflow:Assets written to: /tmp/tmpzlyjm7dk/assets\n"
     ]
    },
    {
     "name": "stdout",
     "output_type": "stream",
     "text": [
      "WARNING:tensorflow:No training configuration found in save file, so the model was *not* compiled. Compile it manually.\n"
     ]
    },
    {
     "name": "stderr",
     "output_type": "stream",
     "text": [
      "WARNING:tensorflow:No training configuration found in save file, so the model was *not* compiled. Compile it manually.\n"
     ]
    },
    {
     "name": "stdout",
     "output_type": "stream",
     "text": [
      "384/384 [==============================] - 28s 73ms/step - recall_at_10: 0.0025 - ndcg_10: 0.0011 - loss: 8.3177 - regularization_loss: 0.0000e+00 - total_loss: 8.3177 - val_recall_at_10: 0.0024 - val_ndcg_10: 0.0011 - val_loss: 7.4201 - val_regularization_loss: 0.0000e+00 - val_total_loss: 7.4201\n"
     ]
    },
    {
     "data": {
      "text/plain": [
       "<keras.callbacks.History at 0x7f413c4cb820>"
      ]
     },
     "execution_count": 10,
     "metadata": {},
     "output_type": "execute_result"
    }
   ],
   "source": [
    "model.set_retrieval_candidates_for_evaluation(train)\n",
    "\n",
    "opt = tf.keras.optimizers.Adagrad(learning_rate=0.003)\n",
    "model.compile(optimizer=opt, run_eagerly=False)\n",
    "model.fit(train, validation_data=valid, batch_size=batch_size, epochs=3)"
   ]
  },
  {
   "cell_type": "markdown",
   "id": "ee21c178",
   "metadata": {},
   "source": [
    "In batch sampling is prone to popularity-bias. since different users might have interacted same items. # in the fit method we are only using the negative sampling in each batch and the final score is avg over all the batches. \n",
    "for each batch we aer comparing only the items in the given batch. in the `.evaluate()` we are considering entire item catalog for each positive item. generate the scores for all items and check the position of the positive item in the list of scores."
   ]
  },
  {
   "cell_type": "code",
   "execution_count": 11,
   "id": "4c1115db",
   "metadata": {},
   "outputs": [],
   "source": [
    "#model.evaluate(valid, return_dict=True, batch_size=1024)"
   ]
  },
  {
   "cell_type": "markdown",
   "id": "fdc89593",
   "metadata": {},
   "source": [
    "## Exporting Retrieval Models"
   ]
  },
  {
   "cell_type": "markdown",
   "id": "6f6b3310",
   "metadata": {},
   "source": [
    "#### Save user (query) tower"
   ]
  },
  {
   "cell_type": "code",
   "execution_count": 12,
   "id": "6102f342",
   "metadata": {},
   "outputs": [
    {
     "name": "stderr",
     "output_type": "stream",
     "text": [
      "WARNING:absl:Found untraced functions such as block_context_layer_call_fn, block_context_layer_call_and_return_conditional_losses, sequential_block_9_layer_call_fn, sequential_block_9_layer_call_and_return_conditional_losses, l2_norm_1_layer_call_fn while saving (showing 5 of 26). These functions will not be directly callable after loading.\n"
     ]
    },
    {
     "name": "stdout",
     "output_type": "stream",
     "text": [
      "INFO:tensorflow:Assets written to: query_tower/assets\n"
     ]
    },
    {
     "name": "stderr",
     "output_type": "stream",
     "text": [
      "INFO:tensorflow:Assets written to: query_tower/assets\n"
     ]
    }
   ],
   "source": [
    "query_tower = model.retrieval_block.query_block()\n",
    "query_tower.save('query_tower')"
   ]
  },
  {
   "cell_type": "markdown",
   "id": "d63287ae",
   "metadata": {},
   "source": [
    "#### Extract and save user features"
   ]
  },
  {
   "cell_type": "code",
   "execution_count": 13,
   "id": "28875af9",
   "metadata": {},
   "outputs": [
    {
     "name": "stderr",
     "output_type": "stream",
     "text": [
      "/usr/local/lib/python3.8/dist-packages/cudf/core/dataframe.py:1253: UserWarning: The deep parameter is ignored and is only included for pandas compatibility.\n",
      "  warnings.warn(\n"
     ]
    }
   ],
   "source": [
    "from merlin.models.utils.dataset import unique_rows_by_features\n",
    "user_features = unique_rows_by_features(Dataset('/workspace/retrieval/processed/train/*.parquet'), Tags.USER, Tags.USER_ID).compute().reset_index(drop=True)"
   ]
  },
  {
   "cell_type": "code",
   "execution_count": 14,
   "id": "c22e76cc",
   "metadata": {},
   "outputs": [
    {
     "data": {
      "text/html": [
       "<div>\n",
       "<style scoped>\n",
       "    .dataframe tbody tr th:only-of-type {\n",
       "        vertical-align: middle;\n",
       "    }\n",
       "\n",
       "    .dataframe tbody tr th {\n",
       "        vertical-align: top;\n",
       "    }\n",
       "\n",
       "    .dataframe thead th {\n",
       "        text-align: right;\n",
       "    }\n",
       "</style>\n",
       "<table border=\"1\" class=\"dataframe\">\n",
       "  <thead>\n",
       "    <tr style=\"text-align: right;\">\n",
       "      <th></th>\n",
       "      <th>user_id</th>\n",
       "      <th>user_shops</th>\n",
       "      <th>user_profile</th>\n",
       "      <th>user_group</th>\n",
       "      <th>user_gender</th>\n",
       "      <th>user_age</th>\n",
       "      <th>user_consumption_2</th>\n",
       "      <th>user_is_occupied</th>\n",
       "      <th>user_geography</th>\n",
       "      <th>user_intentions</th>\n",
       "      <th>user_brands</th>\n",
       "      <th>user_categories</th>\n",
       "    </tr>\n",
       "  </thead>\n",
       "  <tbody>\n",
       "    <tr>\n",
       "      <th>0</th>\n",
       "      <td>0</td>\n",
       "      <td>0</td>\n",
       "      <td>1</td>\n",
       "      <td>4</td>\n",
       "      <td>1</td>\n",
       "      <td>3</td>\n",
       "      <td>2</td>\n",
       "      <td>1</td>\n",
       "      <td>0</td>\n",
       "      <td>0</td>\n",
       "      <td>0</td>\n",
       "      <td>0</td>\n",
       "    </tr>\n",
       "    <tr>\n",
       "      <th>1</th>\n",
       "      <td>1</td>\n",
       "      <td>109</td>\n",
       "      <td>0</td>\n",
       "      <td>0</td>\n",
       "      <td>0</td>\n",
       "      <td>0</td>\n",
       "      <td>0</td>\n",
       "      <td>0</td>\n",
       "      <td>0</td>\n",
       "      <td>69</td>\n",
       "      <td>131</td>\n",
       "      <td>9</td>\n",
       "    </tr>\n",
       "    <tr>\n",
       "      <th>2</th>\n",
       "      <td>2</td>\n",
       "      <td>301</td>\n",
       "      <td>1</td>\n",
       "      <td>1</td>\n",
       "      <td>1</td>\n",
       "      <td>1</td>\n",
       "      <td>1</td>\n",
       "      <td>1</td>\n",
       "      <td>2</td>\n",
       "      <td>57</td>\n",
       "      <td>4709</td>\n",
       "      <td>57</td>\n",
       "    </tr>\n",
       "    <tr>\n",
       "      <th>3</th>\n",
       "      <td>3</td>\n",
       "      <td>1876</td>\n",
       "      <td>23</td>\n",
       "      <td>7</td>\n",
       "      <td>2</td>\n",
       "      <td>3</td>\n",
       "      <td>1</td>\n",
       "      <td>1</td>\n",
       "      <td>1</td>\n",
       "      <td>5</td>\n",
       "      <td>63</td>\n",
       "      <td>3</td>\n",
       "    </tr>\n",
       "    <tr>\n",
       "      <th>4</th>\n",
       "      <td>4</td>\n",
       "      <td>534</td>\n",
       "      <td>1</td>\n",
       "      <td>2</td>\n",
       "      <td>1</td>\n",
       "      <td>2</td>\n",
       "      <td>1</td>\n",
       "      <td>1</td>\n",
       "      <td>0</td>\n",
       "      <td>40</td>\n",
       "      <td>22</td>\n",
       "      <td>108</td>\n",
       "    </tr>\n",
       "  </tbody>\n",
       "</table>\n",
       "</div>"
      ],
      "text/plain": [
       "   user_id  user_shops  user_profile  user_group  user_gender  user_age  \\\n",
       "0        0           0             1           4            1         3   \n",
       "1        1         109             0           0            0         0   \n",
       "2        2         301             1           1            1         1   \n",
       "3        3        1876            23           7            2         3   \n",
       "4        4         534             1           2            1         2   \n",
       "\n",
       "   user_consumption_2  user_is_occupied  user_geography  user_intentions  \\\n",
       "0                   2                 1               0                0   \n",
       "1                   0                 0               0               69   \n",
       "2                   1                 1               2               57   \n",
       "3                   1                 1               1                5   \n",
       "4                   1                 1               0               40   \n",
       "\n",
       "   user_brands  user_categories  \n",
       "0            0                0  \n",
       "1          131                9  \n",
       "2         4709               57  \n",
       "3           63                3  \n",
       "4           22              108  "
      ]
     },
     "execution_count": 14,
     "metadata": {},
     "output_type": "execute_result"
    }
   ],
   "source": [
    "user_features.head()"
   ]
  },
  {
   "cell_type": "code",
   "execution_count": 15,
   "id": "2ea4193a",
   "metadata": {},
   "outputs": [
    {
     "data": {
      "text/plain": [
       "(214994, 12)"
      ]
     },
     "execution_count": 15,
     "metadata": {},
     "output_type": "execute_result"
    }
   ],
   "source": [
    "user_features.shape"
   ]
  },
  {
   "cell_type": "code",
   "execution_count": 16,
   "id": "d3d05455",
   "metadata": {},
   "outputs": [],
   "source": [
    "user_features.to_parquet('user_features.parquet')"
   ]
  },
  {
   "cell_type": "markdown",
   "id": "49c76b19",
   "metadata": {},
   "source": [
    "#### Extract and save item features"
   ]
  },
  {
   "cell_type": "code",
   "execution_count": 17,
   "id": "8c2d3baf",
   "metadata": {},
   "outputs": [
    {
     "name": "stderr",
     "output_type": "stream",
     "text": [
      "/usr/local/lib/python3.8/dist-packages/cudf/core/dataframe.py:1253: UserWarning: The deep parameter is ignored and is only included for pandas compatibility.\n",
      "  warnings.warn(\n"
     ]
    }
   ],
   "source": [
    "# train path should be the path for the processed parquet files.\n",
    "item_features = unique_rows_by_features(Dataset('/workspace/retrieval/processed/train/*.parquet'), Tags.ITEM, Tags.ITEM_ID).compute().reset_index(drop=True)"
   ]
  },
  {
   "cell_type": "code",
   "execution_count": 18,
   "id": "4bee75c0",
   "metadata": {},
   "outputs": [
    {
     "data": {
      "text/html": [
       "<div>\n",
       "<style scoped>\n",
       "    .dataframe tbody tr th:only-of-type {\n",
       "        vertical-align: middle;\n",
       "    }\n",
       "\n",
       "    .dataframe tbody tr th {\n",
       "        vertical-align: top;\n",
       "    }\n",
       "\n",
       "    .dataframe thead th {\n",
       "        text-align: right;\n",
       "    }\n",
       "</style>\n",
       "<table border=\"1\" class=\"dataframe\">\n",
       "  <thead>\n",
       "    <tr style=\"text-align: right;\">\n",
       "      <th></th>\n",
       "      <th>item_id</th>\n",
       "      <th>item_category</th>\n",
       "      <th>item_shop</th>\n",
       "      <th>item_brand</th>\n",
       "    </tr>\n",
       "  </thead>\n",
       "  <tbody>\n",
       "    <tr>\n",
       "      <th>0</th>\n",
       "      <td>0</td>\n",
       "      <td>0</td>\n",
       "      <td>0</td>\n",
       "      <td>0</td>\n",
       "    </tr>\n",
       "    <tr>\n",
       "      <th>1</th>\n",
       "      <td>1</td>\n",
       "      <td>441</td>\n",
       "      <td>432</td>\n",
       "      <td>474</td>\n",
       "    </tr>\n",
       "    <tr>\n",
       "      <th>2</th>\n",
       "      <td>2</td>\n",
       "      <td>193</td>\n",
       "      <td>1159</td>\n",
       "      <td>125</td>\n",
       "    </tr>\n",
       "    <tr>\n",
       "      <th>3</th>\n",
       "      <td>3</td>\n",
       "      <td>3</td>\n",
       "      <td>1463</td>\n",
       "      <td>872</td>\n",
       "    </tr>\n",
       "    <tr>\n",
       "      <th>4</th>\n",
       "      <td>4</td>\n",
       "      <td>282</td>\n",
       "      <td>2479</td>\n",
       "      <td>555</td>\n",
       "    </tr>\n",
       "  </tbody>\n",
       "</table>\n",
       "</div>"
      ],
      "text/plain": [
       "   item_id  item_category  item_shop  item_brand\n",
       "0        0              0          0           0\n",
       "1        1            441        432         474\n",
       "2        2            193       1159         125\n",
       "3        3              3       1463         872\n",
       "4        4            282       2479         555"
      ]
     },
     "execution_count": 18,
     "metadata": {},
     "output_type": "execute_result"
    }
   ],
   "source": [
    "item_features.head()"
   ]
  },
  {
   "cell_type": "code",
   "execution_count": 19,
   "id": "3b26ef0c",
   "metadata": {},
   "outputs": [],
   "source": [
    "item_features.to_parquet('item_features.parquet')"
   ]
  },
  {
   "cell_type": "markdown",
   "id": "5fbc2fe6",
   "metadata": {},
   "source": [
    "#### Extract and save item embeddings"
   ]
  },
  {
   "cell_type": "code",
   "execution_count": 20,
   "id": "9de5b5e5",
   "metadata": {},
   "outputs": [
    {
     "name": "stderr",
     "output_type": "stream",
     "text": [
      "WARNING:absl:Found untraced functions such as block_context_layer_call_fn, block_context_layer_call_and_return_conditional_losses, sequential_block_6_layer_call_fn, sequential_block_6_layer_call_and_return_conditional_losses, l2_norm_layer_call_fn while saving (showing 5 of 26). These functions will not be directly callable after loading.\n"
     ]
    },
    {
     "name": "stdout",
     "output_type": "stream",
     "text": [
      "INFO:tensorflow:Assets written to: /tmp/tmprh8074_m/assets\n"
     ]
    },
    {
     "name": "stderr",
     "output_type": "stream",
     "text": [
      "INFO:tensorflow:Assets written to: /tmp/tmprh8074_m/assets\n"
     ]
    },
    {
     "name": "stdout",
     "output_type": "stream",
     "text": [
      "WARNING:tensorflow:No training configuration found in save file, so the model was *not* compiled. Compile it manually.\n"
     ]
    },
    {
     "name": "stderr",
     "output_type": "stream",
     "text": [
      "WARNING:tensorflow:No training configuration found in save file, so the model was *not* compiled. Compile it manually.\n"
     ]
    }
   ],
   "source": [
    "item_embs = model.item_embeddings(Dataset(item_features, schema=schema), batch_size=1024)\n",
    "item_embs_df = item_embs.compute(scheduler=\"synchronous\")"
   ]
  },
  {
   "cell_type": "code",
   "execution_count": 21,
   "id": "cf96219b",
   "metadata": {},
   "outputs": [
    {
     "data": {
      "text/html": [
       "<div>\n",
       "<style scoped>\n",
       "    .dataframe tbody tr th:only-of-type {\n",
       "        vertical-align: middle;\n",
       "    }\n",
       "\n",
       "    .dataframe tbody tr th {\n",
       "        vertical-align: top;\n",
       "    }\n",
       "\n",
       "    .dataframe thead th {\n",
       "        text-align: right;\n",
       "    }\n",
       "</style>\n",
       "<table border=\"1\" class=\"dataframe\">\n",
       "  <thead>\n",
       "    <tr style=\"text-align: right;\">\n",
       "      <th></th>\n",
       "      <th>item_id</th>\n",
       "      <th>item_category</th>\n",
       "      <th>item_shop</th>\n",
       "      <th>item_brand</th>\n",
       "      <th>0</th>\n",
       "      <th>1</th>\n",
       "      <th>2</th>\n",
       "      <th>3</th>\n",
       "      <th>4</th>\n",
       "      <th>5</th>\n",
       "      <th>...</th>\n",
       "      <th>54</th>\n",
       "      <th>55</th>\n",
       "      <th>56</th>\n",
       "      <th>57</th>\n",
       "      <th>58</th>\n",
       "      <th>59</th>\n",
       "      <th>60</th>\n",
       "      <th>61</th>\n",
       "      <th>62</th>\n",
       "      <th>63</th>\n",
       "    </tr>\n",
       "  </thead>\n",
       "  <tbody>\n",
       "    <tr>\n",
       "      <th>0</th>\n",
       "      <td>0</td>\n",
       "      <td>0</td>\n",
       "      <td>0</td>\n",
       "      <td>0</td>\n",
       "      <td>0.077548</td>\n",
       "      <td>-0.163916</td>\n",
       "      <td>0.062707</td>\n",
       "      <td>0.145624</td>\n",
       "      <td>-0.033684</td>\n",
       "      <td>-0.151762</td>\n",
       "      <td>...</td>\n",
       "      <td>0.130485</td>\n",
       "      <td>-0.127044</td>\n",
       "      <td>-0.219997</td>\n",
       "      <td>0.066048</td>\n",
       "      <td>-0.143901</td>\n",
       "      <td>0.165059</td>\n",
       "      <td>-0.031064</td>\n",
       "      <td>0.001979</td>\n",
       "      <td>0.079951</td>\n",
       "      <td>-0.269703</td>\n",
       "    </tr>\n",
       "    <tr>\n",
       "      <th>1</th>\n",
       "      <td>1</td>\n",
       "      <td>441</td>\n",
       "      <td>432</td>\n",
       "      <td>474</td>\n",
       "      <td>0.026989</td>\n",
       "      <td>-0.001228</td>\n",
       "      <td>0.251484</td>\n",
       "      <td>0.004666</td>\n",
       "      <td>-0.178276</td>\n",
       "      <td>-0.056491</td>\n",
       "      <td>...</td>\n",
       "      <td>-0.165452</td>\n",
       "      <td>0.042577</td>\n",
       "      <td>0.076168</td>\n",
       "      <td>0.043248</td>\n",
       "      <td>-0.046577</td>\n",
       "      <td>0.077427</td>\n",
       "      <td>-0.172864</td>\n",
       "      <td>0.090112</td>\n",
       "      <td>0.086928</td>\n",
       "      <td>-0.187773</td>\n",
       "    </tr>\n",
       "    <tr>\n",
       "      <th>2</th>\n",
       "      <td>2</td>\n",
       "      <td>193</td>\n",
       "      <td>1159</td>\n",
       "      <td>125</td>\n",
       "      <td>-0.085535</td>\n",
       "      <td>0.202703</td>\n",
       "      <td>0.152450</td>\n",
       "      <td>0.119700</td>\n",
       "      <td>-0.100729</td>\n",
       "      <td>-0.097800</td>\n",
       "      <td>...</td>\n",
       "      <td>-0.010392</td>\n",
       "      <td>0.190749</td>\n",
       "      <td>-0.049466</td>\n",
       "      <td>0.247747</td>\n",
       "      <td>-0.060253</td>\n",
       "      <td>0.231411</td>\n",
       "      <td>-0.096899</td>\n",
       "      <td>0.082744</td>\n",
       "      <td>-0.045622</td>\n",
       "      <td>-0.065368</td>\n",
       "    </tr>\n",
       "    <tr>\n",
       "      <th>3</th>\n",
       "      <td>3</td>\n",
       "      <td>3</td>\n",
       "      <td>1463</td>\n",
       "      <td>872</td>\n",
       "      <td>0.021597</td>\n",
       "      <td>-0.042350</td>\n",
       "      <td>0.151263</td>\n",
       "      <td>0.186874</td>\n",
       "      <td>-0.141412</td>\n",
       "      <td>0.014164</td>\n",
       "      <td>...</td>\n",
       "      <td>0.121136</td>\n",
       "      <td>-0.070175</td>\n",
       "      <td>0.089314</td>\n",
       "      <td>0.236508</td>\n",
       "      <td>-0.263751</td>\n",
       "      <td>0.190519</td>\n",
       "      <td>-0.021059</td>\n",
       "      <td>0.205537</td>\n",
       "      <td>-0.036761</td>\n",
       "      <td>-0.241071</td>\n",
       "    </tr>\n",
       "    <tr>\n",
       "      <th>4</th>\n",
       "      <td>4</td>\n",
       "      <td>282</td>\n",
       "      <td>2479</td>\n",
       "      <td>555</td>\n",
       "      <td>-0.112511</td>\n",
       "      <td>-0.152873</td>\n",
       "      <td>0.080364</td>\n",
       "      <td>0.155278</td>\n",
       "      <td>-0.035988</td>\n",
       "      <td>0.103379</td>\n",
       "      <td>...</td>\n",
       "      <td>-0.176815</td>\n",
       "      <td>-0.046868</td>\n",
       "      <td>-0.094745</td>\n",
       "      <td>0.207850</td>\n",
       "      <td>0.050684</td>\n",
       "      <td>0.109785</td>\n",
       "      <td>-0.227710</td>\n",
       "      <td>-0.032801</td>\n",
       "      <td>0.077911</td>\n",
       "      <td>0.113340</td>\n",
       "    </tr>\n",
       "    <tr>\n",
       "      <th>...</th>\n",
       "      <td>...</td>\n",
       "      <td>...</td>\n",
       "      <td>...</td>\n",
       "      <td>...</td>\n",
       "      <td>...</td>\n",
       "      <td>...</td>\n",
       "      <td>...</td>\n",
       "      <td>...</td>\n",
       "      <td>...</td>\n",
       "      <td>...</td>\n",
       "      <td>...</td>\n",
       "      <td>...</td>\n",
       "      <td>...</td>\n",
       "      <td>...</td>\n",
       "      <td>...</td>\n",
       "      <td>...</td>\n",
       "      <td>...</td>\n",
       "      <td>...</td>\n",
       "      <td>...</td>\n",
       "      <td>...</td>\n",
       "      <td>...</td>\n",
       "    </tr>\n",
       "    <tr>\n",
       "      <th>568842</th>\n",
       "      <td>3078159</td>\n",
       "      <td>1764</td>\n",
       "      <td>365864</td>\n",
       "      <td>121053</td>\n",
       "      <td>0.205734</td>\n",
       "      <td>0.006296</td>\n",
       "      <td>0.152621</td>\n",
       "      <td>0.123247</td>\n",
       "      <td>-0.031887</td>\n",
       "      <td>-0.131998</td>\n",
       "      <td>...</td>\n",
       "      <td>-0.168921</td>\n",
       "      <td>0.109488</td>\n",
       "      <td>-0.103554</td>\n",
       "      <td>0.186951</td>\n",
       "      <td>-0.094818</td>\n",
       "      <td>0.184309</td>\n",
       "      <td>-0.105248</td>\n",
       "      <td>0.063734</td>\n",
       "      <td>-0.004842</td>\n",
       "      <td>-0.095577</td>\n",
       "    </tr>\n",
       "    <tr>\n",
       "      <th>568843</th>\n",
       "      <td>3078210</td>\n",
       "      <td>377</td>\n",
       "      <td>97495</td>\n",
       "      <td>116656</td>\n",
       "      <td>0.004852</td>\n",
       "      <td>-0.187302</td>\n",
       "      <td>0.147719</td>\n",
       "      <td>0.206664</td>\n",
       "      <td>-0.008873</td>\n",
       "      <td>0.051659</td>\n",
       "      <td>...</td>\n",
       "      <td>0.027250</td>\n",
       "      <td>0.041539</td>\n",
       "      <td>-0.050605</td>\n",
       "      <td>0.148319</td>\n",
       "      <td>-0.190860</td>\n",
       "      <td>-0.105288</td>\n",
       "      <td>-0.135447</td>\n",
       "      <td>-0.035621</td>\n",
       "      <td>0.134681</td>\n",
       "      <td>0.055756</td>\n",
       "    </tr>\n",
       "    <tr>\n",
       "      <th>568844</th>\n",
       "      <td>3078270</td>\n",
       "      <td>3817</td>\n",
       "      <td>577371</td>\n",
       "      <td>80796</td>\n",
       "      <td>-0.087821</td>\n",
       "      <td>0.018948</td>\n",
       "      <td>0.136071</td>\n",
       "      <td>0.136849</td>\n",
       "      <td>-0.115802</td>\n",
       "      <td>0.042283</td>\n",
       "      <td>...</td>\n",
       "      <td>-0.175624</td>\n",
       "      <td>0.014569</td>\n",
       "      <td>-0.013917</td>\n",
       "      <td>0.213448</td>\n",
       "      <td>-0.085530</td>\n",
       "      <td>0.041547</td>\n",
       "      <td>-0.174109</td>\n",
       "      <td>0.098717</td>\n",
       "      <td>0.149980</td>\n",
       "      <td>-0.173722</td>\n",
       "    </tr>\n",
       "    <tr>\n",
       "      <th>568845</th>\n",
       "      <td>3078283</td>\n",
       "      <td>551</td>\n",
       "      <td>201089</td>\n",
       "      <td>85172</td>\n",
       "      <td>0.042491</td>\n",
       "      <td>-0.032788</td>\n",
       "      <td>0.073193</td>\n",
       "      <td>0.185784</td>\n",
       "      <td>-0.072671</td>\n",
       "      <td>0.189408</td>\n",
       "      <td>...</td>\n",
       "      <td>-0.070402</td>\n",
       "      <td>-0.040568</td>\n",
       "      <td>0.127943</td>\n",
       "      <td>0.014509</td>\n",
       "      <td>-0.168617</td>\n",
       "      <td>0.217725</td>\n",
       "      <td>0.054450</td>\n",
       "      <td>0.151972</td>\n",
       "      <td>0.049194</td>\n",
       "      <td>-0.092851</td>\n",
       "    </tr>\n",
       "    <tr>\n",
       "      <th>568846</th>\n",
       "      <td>3078304</td>\n",
       "      <td>475</td>\n",
       "      <td>255840</td>\n",
       "      <td>335</td>\n",
       "      <td>-0.026673</td>\n",
       "      <td>0.002882</td>\n",
       "      <td>0.143651</td>\n",
       "      <td>0.241325</td>\n",
       "      <td>0.037404</td>\n",
       "      <td>-0.058072</td>\n",
       "      <td>...</td>\n",
       "      <td>-0.101322</td>\n",
       "      <td>0.045309</td>\n",
       "      <td>-0.056844</td>\n",
       "      <td>0.125282</td>\n",
       "      <td>-0.120679</td>\n",
       "      <td>0.204740</td>\n",
       "      <td>-0.088718</td>\n",
       "      <td>0.067139</td>\n",
       "      <td>-0.002323</td>\n",
       "      <td>0.017508</td>\n",
       "    </tr>\n",
       "  </tbody>\n",
       "</table>\n",
       "<p>568847 rows × 68 columns</p>\n",
       "</div>"
      ],
      "text/plain": [
       "        item_id  item_category  item_shop  item_brand         0         1  \\\n",
       "0             0              0          0           0  0.077548 -0.163916   \n",
       "1             1            441        432         474  0.026989 -0.001228   \n",
       "2             2            193       1159         125 -0.085535  0.202703   \n",
       "3             3              3       1463         872  0.021597 -0.042350   \n",
       "4             4            282       2479         555 -0.112511 -0.152873   \n",
       "...         ...            ...        ...         ...       ...       ...   \n",
       "568842  3078159           1764     365864      121053  0.205734  0.006296   \n",
       "568843  3078210            377      97495      116656  0.004852 -0.187302   \n",
       "568844  3078270           3817     577371       80796 -0.087821  0.018948   \n",
       "568845  3078283            551     201089       85172  0.042491 -0.032788   \n",
       "568846  3078304            475     255840         335 -0.026673  0.002882   \n",
       "\n",
       "               2         3         4         5  ...        54        55  \\\n",
       "0       0.062707  0.145624 -0.033684 -0.151762  ...  0.130485 -0.127044   \n",
       "1       0.251484  0.004666 -0.178276 -0.056491  ... -0.165452  0.042577   \n",
       "2       0.152450  0.119700 -0.100729 -0.097800  ... -0.010392  0.190749   \n",
       "3       0.151263  0.186874 -0.141412  0.014164  ...  0.121136 -0.070175   \n",
       "4       0.080364  0.155278 -0.035988  0.103379  ... -0.176815 -0.046868   \n",
       "...          ...       ...       ...       ...  ...       ...       ...   \n",
       "568842  0.152621  0.123247 -0.031887 -0.131998  ... -0.168921  0.109488   \n",
       "568843  0.147719  0.206664 -0.008873  0.051659  ...  0.027250  0.041539   \n",
       "568844  0.136071  0.136849 -0.115802  0.042283  ... -0.175624  0.014569   \n",
       "568845  0.073193  0.185784 -0.072671  0.189408  ... -0.070402 -0.040568   \n",
       "568846  0.143651  0.241325  0.037404 -0.058072  ... -0.101322  0.045309   \n",
       "\n",
       "              56        57        58        59        60        61        62  \\\n",
       "0      -0.219997  0.066048 -0.143901  0.165059 -0.031064  0.001979  0.079951   \n",
       "1       0.076168  0.043248 -0.046577  0.077427 -0.172864  0.090112  0.086928   \n",
       "2      -0.049466  0.247747 -0.060253  0.231411 -0.096899  0.082744 -0.045622   \n",
       "3       0.089314  0.236508 -0.263751  0.190519 -0.021059  0.205537 -0.036761   \n",
       "4      -0.094745  0.207850  0.050684  0.109785 -0.227710 -0.032801  0.077911   \n",
       "...          ...       ...       ...       ...       ...       ...       ...   \n",
       "568842 -0.103554  0.186951 -0.094818  0.184309 -0.105248  0.063734 -0.004842   \n",
       "568843 -0.050605  0.148319 -0.190860 -0.105288 -0.135447 -0.035621  0.134681   \n",
       "568844 -0.013917  0.213448 -0.085530  0.041547 -0.174109  0.098717  0.149980   \n",
       "568845  0.127943  0.014509 -0.168617  0.217725  0.054450  0.151972  0.049194   \n",
       "568846 -0.056844  0.125282 -0.120679  0.204740 -0.088718  0.067139 -0.002323   \n",
       "\n",
       "              63  \n",
       "0      -0.269703  \n",
       "1      -0.187773  \n",
       "2      -0.065368  \n",
       "3      -0.241071  \n",
       "4       0.113340  \n",
       "...          ...  \n",
       "568842 -0.095577  \n",
       "568843  0.055756  \n",
       "568844 -0.173722  \n",
       "568845 -0.092851  \n",
       "568846  0.017508  \n",
       "\n",
       "[568847 rows x 68 columns]"
      ]
     },
     "execution_count": 21,
     "metadata": {},
     "output_type": "execute_result"
    }
   ],
   "source": [
    "item_embs_df"
   ]
  },
  {
   "cell_type": "code",
   "execution_count": 22,
   "id": "2e78348b",
   "metadata": {},
   "outputs": [],
   "source": [
    "# extract only embedding columns\n",
    "item_embeddings = item_embs_df.iloc[:, 4:]"
   ]
  },
  {
   "cell_type": "code",
   "execution_count": 23,
   "id": "eb21a472",
   "metadata": {},
   "outputs": [
    {
     "data": {
      "text/html": [
       "<div>\n",
       "<style scoped>\n",
       "    .dataframe tbody tr th:only-of-type {\n",
       "        vertical-align: middle;\n",
       "    }\n",
       "\n",
       "    .dataframe tbody tr th {\n",
       "        vertical-align: top;\n",
       "    }\n",
       "\n",
       "    .dataframe thead th {\n",
       "        text-align: right;\n",
       "    }\n",
       "</style>\n",
       "<table border=\"1\" class=\"dataframe\">\n",
       "  <thead>\n",
       "    <tr style=\"text-align: right;\">\n",
       "      <th></th>\n",
       "      <th>0</th>\n",
       "      <th>1</th>\n",
       "      <th>2</th>\n",
       "      <th>3</th>\n",
       "      <th>4</th>\n",
       "      <th>5</th>\n",
       "      <th>6</th>\n",
       "      <th>7</th>\n",
       "      <th>8</th>\n",
       "      <th>9</th>\n",
       "      <th>...</th>\n",
       "      <th>54</th>\n",
       "      <th>55</th>\n",
       "      <th>56</th>\n",
       "      <th>57</th>\n",
       "      <th>58</th>\n",
       "      <th>59</th>\n",
       "      <th>60</th>\n",
       "      <th>61</th>\n",
       "      <th>62</th>\n",
       "      <th>63</th>\n",
       "    </tr>\n",
       "  </thead>\n",
       "  <tbody>\n",
       "    <tr>\n",
       "      <th>0</th>\n",
       "      <td>0.077548</td>\n",
       "      <td>-0.163916</td>\n",
       "      <td>0.062707</td>\n",
       "      <td>0.145624</td>\n",
       "      <td>-0.033684</td>\n",
       "      <td>-0.151762</td>\n",
       "      <td>-0.245548</td>\n",
       "      <td>0.056556</td>\n",
       "      <td>0.144074</td>\n",
       "      <td>0.019507</td>\n",
       "      <td>...</td>\n",
       "      <td>0.130485</td>\n",
       "      <td>-0.127044</td>\n",
       "      <td>-0.219997</td>\n",
       "      <td>0.066048</td>\n",
       "      <td>-0.143901</td>\n",
       "      <td>0.165059</td>\n",
       "      <td>-0.031064</td>\n",
       "      <td>0.001979</td>\n",
       "      <td>0.079951</td>\n",
       "      <td>-0.269703</td>\n",
       "    </tr>\n",
       "    <tr>\n",
       "      <th>1</th>\n",
       "      <td>0.026989</td>\n",
       "      <td>-0.001228</td>\n",
       "      <td>0.251484</td>\n",
       "      <td>0.004666</td>\n",
       "      <td>-0.178276</td>\n",
       "      <td>-0.056491</td>\n",
       "      <td>0.183419</td>\n",
       "      <td>0.066827</td>\n",
       "      <td>0.249364</td>\n",
       "      <td>-0.063380</td>\n",
       "      <td>...</td>\n",
       "      <td>-0.165452</td>\n",
       "      <td>0.042577</td>\n",
       "      <td>0.076168</td>\n",
       "      <td>0.043248</td>\n",
       "      <td>-0.046577</td>\n",
       "      <td>0.077427</td>\n",
       "      <td>-0.172864</td>\n",
       "      <td>0.090112</td>\n",
       "      <td>0.086928</td>\n",
       "      <td>-0.187773</td>\n",
       "    </tr>\n",
       "    <tr>\n",
       "      <th>2</th>\n",
       "      <td>-0.085535</td>\n",
       "      <td>0.202703</td>\n",
       "      <td>0.152450</td>\n",
       "      <td>0.119700</td>\n",
       "      <td>-0.100729</td>\n",
       "      <td>-0.097800</td>\n",
       "      <td>-0.163123</td>\n",
       "      <td>-0.126596</td>\n",
       "      <td>0.140755</td>\n",
       "      <td>-0.154041</td>\n",
       "      <td>...</td>\n",
       "      <td>-0.010392</td>\n",
       "      <td>0.190749</td>\n",
       "      <td>-0.049466</td>\n",
       "      <td>0.247747</td>\n",
       "      <td>-0.060253</td>\n",
       "      <td>0.231411</td>\n",
       "      <td>-0.096899</td>\n",
       "      <td>0.082744</td>\n",
       "      <td>-0.045622</td>\n",
       "      <td>-0.065368</td>\n",
       "    </tr>\n",
       "    <tr>\n",
       "      <th>3</th>\n",
       "      <td>0.021597</td>\n",
       "      <td>-0.042350</td>\n",
       "      <td>0.151263</td>\n",
       "      <td>0.186874</td>\n",
       "      <td>-0.141412</td>\n",
       "      <td>0.014164</td>\n",
       "      <td>-0.032892</td>\n",
       "      <td>-0.215597</td>\n",
       "      <td>0.255728</td>\n",
       "      <td>0.021648</td>\n",
       "      <td>...</td>\n",
       "      <td>0.121136</td>\n",
       "      <td>-0.070175</td>\n",
       "      <td>0.089314</td>\n",
       "      <td>0.236508</td>\n",
       "      <td>-0.263751</td>\n",
       "      <td>0.190519</td>\n",
       "      <td>-0.021059</td>\n",
       "      <td>0.205537</td>\n",
       "      <td>-0.036761</td>\n",
       "      <td>-0.241071</td>\n",
       "    </tr>\n",
       "    <tr>\n",
       "      <th>4</th>\n",
       "      <td>-0.112511</td>\n",
       "      <td>-0.152873</td>\n",
       "      <td>0.080364</td>\n",
       "      <td>0.155278</td>\n",
       "      <td>-0.035988</td>\n",
       "      <td>0.103379</td>\n",
       "      <td>0.018039</td>\n",
       "      <td>0.096056</td>\n",
       "      <td>0.050665</td>\n",
       "      <td>-0.105511</td>\n",
       "      <td>...</td>\n",
       "      <td>-0.176815</td>\n",
       "      <td>-0.046868</td>\n",
       "      <td>-0.094745</td>\n",
       "      <td>0.207850</td>\n",
       "      <td>0.050684</td>\n",
       "      <td>0.109785</td>\n",
       "      <td>-0.227710</td>\n",
       "      <td>-0.032801</td>\n",
       "      <td>0.077911</td>\n",
       "      <td>0.113340</td>\n",
       "    </tr>\n",
       "  </tbody>\n",
       "</table>\n",
       "<p>5 rows × 64 columns</p>\n",
       "</div>"
      ],
      "text/plain": [
       "          0         1         2         3         4         5         6  \\\n",
       "0  0.077548 -0.163916  0.062707  0.145624 -0.033684 -0.151762 -0.245548   \n",
       "1  0.026989 -0.001228  0.251484  0.004666 -0.178276 -0.056491  0.183419   \n",
       "2 -0.085535  0.202703  0.152450  0.119700 -0.100729 -0.097800 -0.163123   \n",
       "3  0.021597 -0.042350  0.151263  0.186874 -0.141412  0.014164 -0.032892   \n",
       "4 -0.112511 -0.152873  0.080364  0.155278 -0.035988  0.103379  0.018039   \n",
       "\n",
       "          7         8         9  ...        54        55        56        57  \\\n",
       "0  0.056556  0.144074  0.019507  ...  0.130485 -0.127044 -0.219997  0.066048   \n",
       "1  0.066827  0.249364 -0.063380  ... -0.165452  0.042577  0.076168  0.043248   \n",
       "2 -0.126596  0.140755 -0.154041  ... -0.010392  0.190749 -0.049466  0.247747   \n",
       "3 -0.215597  0.255728  0.021648  ...  0.121136 -0.070175  0.089314  0.236508   \n",
       "4  0.096056  0.050665 -0.105511  ... -0.176815 -0.046868 -0.094745  0.207850   \n",
       "\n",
       "         58        59        60        61        62        63  \n",
       "0 -0.143901  0.165059 -0.031064  0.001979  0.079951 -0.269703  \n",
       "1 -0.046577  0.077427 -0.172864  0.090112  0.086928 -0.187773  \n",
       "2 -0.060253  0.231411 -0.096899  0.082744 -0.045622 -0.065368  \n",
       "3 -0.263751  0.190519 -0.021059  0.205537 -0.036761 -0.241071  \n",
       "4  0.050684  0.109785 -0.227710 -0.032801  0.077911  0.113340  \n",
       "\n",
       "[5 rows x 64 columns]"
      ]
     },
     "execution_count": 23,
     "metadata": {},
     "output_type": "execute_result"
    }
   ],
   "source": [
    "item_embeddings.head()"
   ]
  },
  {
   "cell_type": "code",
   "execution_count": 24,
   "id": "9e2f9187",
   "metadata": {},
   "outputs": [],
   "source": [
    "item_embeddings.to_parquet('item_embeddings')"
   ]
  }
 ],
 "metadata": {
  "kernelspec": {
   "display_name": "Python 3 (ipykernel)",
   "language": "python",
   "name": "python3"
  },
  "language_info": {
   "codemirror_mode": {
    "name": "ipython",
    "version": 3
   },
   "file_extension": ".py",
   "mimetype": "text/x-python",
   "name": "python",
   "nbconvert_exporter": "python",
   "pygments_lexer": "ipython3",
   "version": "3.8.10"
  }
 },
 "nbformat": 4,
 "nbformat_minor": 5
}

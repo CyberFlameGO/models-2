{
 "cells": [
  {
   "cell_type": "code",
   "execution_count": 1,
   "id": "8c3403a6",
   "metadata": {},
   "outputs": [],
   "source": [
    "# Copyright 2021 NVIDIA Corporation. All Rights Reserved.\n",
    "#\n",
    "# Licensed under the Apache License, Version 2.0 (the \"License\");\n",
    "# you may not use this file except in compliance with the License.\n",
    "# You may obtain a copy of the License at\n",
    "#\n",
    "#     http://www.apache.org/licenses/LICENSE-2.0\n",
    "#\n",
    "# Unless required by applicable law or agreed to in writing, software\n",
    "# distributed under the License is distributed on an \"AS IS\" BASIS,\n",
    "# WITHOUT WARRANTIES OR CONDITIONS OF ANY KIND, either express or implied.\n",
    "# See the License for the specific language governing permissions and\n",
    "# limitations under the License.\n",
    "# ================================"
   ]
  },
  {
   "cell_type": "markdown",
   "id": "27220153",
   "metadata": {},
   "source": [
    "## Building Recommender Systems Easily with Merlin Models\n",
    "\n",
    "In this example notebook, we use the [Ali-CCP: Alibaba Click and Conversion Prediction](https://tianchi.aliyun.com/dataset/dataDetail?dataId=408#1) dataset to build our recommender system models. We define different deep learning-based model architectures, and then train and evaluate the models only in couple lines of code.\n",
    "\n",
    "### Learning objectives\n",
    "- Preparing the data with NVTabular\n",
    "- Training different recommender system models with Merlin Models"
   ]
  },
  {
   "cell_type": "markdown",
   "id": "46b7f3bd",
   "metadata": {},
   "source": [
    "## Feature Engineering with NVTabular"
   ]
  },
  {
   "cell_type": "markdown",
   "id": "2e240fdd",
   "metadata": {},
   "source": [
    "When we work on a new recommender systems, we explore the dataset, first."
   ]
  },
  {
   "cell_type": "code",
   "execution_count": 2,
   "id": "08cdbfcc",
   "metadata": {},
   "outputs": [
    {
     "name": "stderr",
     "output_type": "stream",
     "text": [
      "2022-03-22 21:44:21.999477: I tensorflow/core/platform/cpu_feature_guard.cc:151] This TensorFlow binary is optimized with oneAPI Deep Neural Network Library (oneDNN) to use the following CPU instructions in performance-critical operations:  AVX2 AVX512F FMA\n",
      "To enable them in other operations, rebuild TensorFlow with the appropriate compiler flags.\n",
      "2022-03-22 21:44:23.143720: I tensorflow/core/common_runtime/gpu/gpu_process_state.cc:214] Using CUDA malloc Async allocator for GPU: 0\n",
      "2022-03-22 21:44:23.143859: I tensorflow/core/common_runtime/gpu/gpu_device.cc:1525] Created device /job:localhost/replica:0/task:0/device:GPU:0 with 16254 MB memory:  -> device: 0, name: Quadro GV100, pci bus id: 0000:15:00.0, compute capability: 7.0\n"
     ]
    }
   ],
   "source": [
    "import os\n",
    "os.environ[\"TF_GPU_ALLOCATOR\"]=\"cuda_malloc_async\"\n",
    "import cudf\n",
    "import glob\n",
    "import gc\n",
    "\n",
    "import nvtabular as nvt\n",
    "from nvtabular.ops import *\n",
    "from example_utils import workflow_fit_transform\n",
    "\n",
    "from merlin.schema.tags import Tags\n",
    "from merlin.schema import Schema\n",
    "\n",
    "import merlin.models.tf as mm\n",
    "import merlin.models.tf.dataset as tf_dataloader\n",
    "\n",
    "from merlin.io.dataset import Dataset\n",
    "from merlin.schema.io.tensorflow_metadata import TensorflowMetadata\n",
    "from merlin.models.tf.blocks.core.aggregation import CosineSimilarity\n",
    "\n",
    "import tensorflow as tf"
   ]
  },
  {
   "cell_type": "markdown",
   "id": "baad8ae3",
   "metadata": {},
   "source": [
    "First, we define our input and output paths."
   ]
  },
  {
   "cell_type": "code",
   "execution_count": 3,
   "id": "81ddb370",
   "metadata": {},
   "outputs": [],
   "source": [
    "train_path = '/workspace/data/train/*.parquet'\n",
    "test_path = '/workspace/data/test/*.parquet'\n",
    "output_path = '/workspace/ranking/processed/'"
   ]
  },
  {
   "cell_type": "markdown",
   "id": "06592024",
   "metadata": {},
   "source": [
    "<a id=\"etl\"></a>\n",
    "ETL Workflow:"
   ]
  },
  {
   "cell_type": "code",
   "execution_count": 4,
   "id": "550d45c9",
   "metadata": {},
   "outputs": [
    {
     "name": "stderr",
     "output_type": "stream",
     "text": [
      "/usr/local/lib/python3.8/dist-packages/cudf/core/dataframe.py:1253: UserWarning: The deep parameter is ignored and is only included for pandas compatibility.\n",
      "  warnings.warn(\n"
     ]
    },
    {
     "name": "stdout",
     "output_type": "stream",
     "text": [
      "CPU times: user 17.7 s, sys: 21.8 s, total: 39.6 s\n",
      "Wall time: 44.4 s\n"
     ]
    }
   ],
   "source": [
    "%%time\n",
    "\n",
    "user_id = [\"user_id\"] >> AddMetadata(tags=[Tags.USER_ID, Tags.USER]) >> Categorify()\n",
    "item_id = [\"item_id\"] >> AddMetadata(tags=[Tags.ITEM_ID, Tags.ITEM]) >> Categorify()\n",
    "\n",
    "item_features = [\"item_category\", \"item_shop\", \"item_brand\"] >> AddMetadata(tags=[Tags.ITEM]) >> nvt.ops.Categorify()\n",
    "\n",
    "user_features = ['user_shops', 'user_profile', 'user_group', \n",
    "       'user_gender', 'user_age', 'user_consumption_2', 'user_is_occupied',\n",
    "       'user_geography', 'user_intentions', 'user_brands', 'user_categories'] \\\n",
    "    >> AddMetadata(tags=[Tags.USER]) >> nvt.ops.Categorify()\n",
    "\n",
    "targets = [\"click\"] >> AddMetadata(tags=[str(Tags.BINARY_CLASSIFICATION), \"target\"])\n",
    "\n",
    "outputs = user_id+item_id+item_features+user_features+targets\n",
    "\n",
    "workflow_fit_transform(outputs, train_path, test_path, output_path)"
   ]
  },
  {
   "cell_type": "markdown",
   "id": "160a0766",
   "metadata": {},
   "source": [
    "We will also use a util function to wrap up the workflow transform to a one line of code."
   ]
  },
  {
   "cell_type": "markdown",
   "id": "e16401d4",
   "metadata": {
    "tags": []
   },
   "source": [
    "## Building Recommender Systems"
   ]
  },
  {
   "cell_type": "markdown",
   "id": "c4f2b234",
   "metadata": {},
   "source": [
    "NVTabular exported the schema file of our processed dataset. Merlin Models library relies on a schema object that takes the input features as input and automatically builds all necessary layers to represent, normalize and aggregate input features. `schema.pbtxt` is a protobuf text file contains features metadata, including statistics about features such as cardinality, min and max values and also tags based on their characteristics and dtypes (e.g., categorical, continuous, list, item_id). The metadata information loaded from Schema and their tags are used to automatically set the parameters of Merlin models.\n",
    "\n",
    "We use the `schema` object to define our model."
   ]
  },
  {
   "cell_type": "code",
   "execution_count": 5,
   "id": "83f90a87",
   "metadata": {},
   "outputs": [],
   "source": [
    "schema = TensorflowMetadata.from_proto_text_file(output_path + '/train/').to_merlin_schema()"
   ]
  },
  {
   "cell_type": "code",
   "execution_count": 6,
   "id": "30e4ebc2",
   "metadata": {},
   "outputs": [],
   "source": [
    "target_column = schema.select_by_tag(Tags.TARGET).column_names[0]"
   ]
  },
  {
   "cell_type": "code",
   "execution_count": 7,
   "id": "20f32d40",
   "metadata": {},
   "outputs": [
    {
     "data": {
      "text/plain": [
       "['user_id',\n",
       " 'item_id',\n",
       " 'item_category',\n",
       " 'item_shop',\n",
       " 'item_brand',\n",
       " 'user_shops',\n",
       " 'user_profile',\n",
       " 'user_group',\n",
       " 'user_gender',\n",
       " 'user_age',\n",
       " 'user_consumption_2',\n",
       " 'user_is_occupied',\n",
       " 'user_geography',\n",
       " 'user_intentions',\n",
       " 'user_brands',\n",
       " 'user_categories',\n",
       " 'click']"
      ]
     },
     "execution_count": 7,
     "metadata": {},
     "output_type": "execute_result"
    }
   ],
   "source": [
    "schema.column_names"
   ]
  },
  {
   "cell_type": "markdown",
   "id": "73bc0be1",
   "metadata": {},
   "source": [
    "### Initialize Dataloaders"
   ]
  },
  {
   "cell_type": "markdown",
   "id": "97c41e4a",
   "metadata": {},
   "source": [
    "We're ready to start training, for that, we need to initialize the dataloaders. We'll use Merlin `BatchedDataset` class for reading chunks of parquet files. `BatchedDataset` asynchronously iterate through CSV or Parquet dataframes on GPU by leveraging an NVTabular `Dataset`. To read more about Merlin optimized dataloaders visit [here](https://github.com/NVIDIA-Merlin/models/blob/main/merlin/models/tf/dataset.py#L141)."
   ]
  },
  {
   "cell_type": "code",
   "execution_count": 8,
   "id": "a21b4704",
   "metadata": {},
   "outputs": [],
   "source": [
    "batch_size = 16*1024\n",
    "train = Dataset(os.path.join(output_path + '/train/*.parquet'), part_size=\"500MB\")\n",
    "valid = Dataset(os.path.join(output_path + '/test/*.parquet'), part_size=\"500MB\")"
   ]
  },
  {
   "cell_type": "markdown",
   "id": "c97f52de",
   "metadata": {},
   "source": [
    "### DLRM Model"
   ]
  },
  {
   "cell_type": "markdown",
   "id": "8f68e26b",
   "metadata": {},
   "source": [
    "Deep Learning Recommendation Model [(DLRM)](https://arxiv.org/abs/1906.00091) architecture is a popular neural network model originally proposed by Facebook in 2019. The model was introduced as a personalization deep learning model that uses embeddings to process sparse features that represent categorical data and a multilayer perceptron (MLP) to process dense features, then interacts these features explicitly using the statistical techniques proposed in [here](https://ieeexplore.ieee.org/stamp/stamp.jsp?tp=&arnumber=5694074).\n",
    "\n",
    "![DLRM](./images/DLRM.png)\n",
    "\n",
    "\n",
    "DLRM accepts two types of features: categorical and numerical. \n",
    "- For each categorical feature, an embedding table is used to provide dense representation to each unique value. \n",
    "- For numerical features, they are fed to model as dense features, and then transformed by a simple neural network referred to as \"bottom MLP\". This part of the network consists of a series of linear layers with ReLU activations. \n",
    "- The output of the bottom MLP and the embedding vectors are then fed into the dot product interaction operation (see Pairwise interaction step). The output of \"dot interaction\" is then concatenated with the features resulting from the bottom MLP (we apply a skip-connection there) and fed into the \"top MLP\" which is also a series of dense layers with activations ((a fully connected NN). \n",
    "- The model outputs a single number (here we use sigmoid function to generate probabilities) which can be interpreted as a likelihood of a certain user clicking on an ad, watching a movie, or viewing a news page.\n",
    "\n",
    "\n",
    "Steps:<br>\n",
    "* Change the model to `DLRMModel`\n",
    "* Rerun the pipeline from there from model.fit"
   ]
  },
  {
   "cell_type": "code",
   "execution_count": 9,
   "id": "e4325080",
   "metadata": {},
   "outputs": [],
   "source": [
    "model = mm.DLRMModel(\n",
    "    schema,\n",
    "    embedding_dim=64,\n",
    "    bottom_block=mm.MLPBlock([128, 64]),\n",
    "    top_block=mm.MLPBlock([128, 64, 32]),\n",
    "    prediction_tasks=mm.BinaryClassificationTask(target_column, metrics=[tf.keras.metrics.AUC()])\n",
    ")"
   ]
  },
  {
   "cell_type": "code",
   "execution_count": 12,
   "id": "bfe2aa9e",
   "metadata": {},
   "outputs": [
    {
     "name": "stdout",
     "output_type": "stream",
     "text": [
      "2442/2442 [==============================] - ETA: 0s - auc: 0.6501 - loss: 0.1600 - regularization_loss: 0.0000e+00 - total_loss: 0.1600"
     ]
    },
    {
     "name": "stderr",
     "output_type": "stream",
     "text": [
      "2022-03-22 21:52:27.852502: W tensorflow/core/grappler/optimizers/loop_optimizer.cc:907] Skipping loop optimization for Merge node with control input: cond/then/_0/cond/cond/branch_executed/_161\n"
     ]
    },
    {
     "name": "stdout",
     "output_type": "stream",
     "text": [
      "2442/2442 [==============================] - 296s 117ms/step - auc: 0.6501 - loss: 0.1599 - regularization_loss: 0.0000e+00 - total_loss: 0.1599 - val_auc: 0.6048 - val_loss: 0.1207 - val_regularization_loss: 0.0000e+00 - val_total_loss: 0.1207\n",
      "CPU times: user 7min 54s, sys: 1min 32s, total: 9min 27s\n",
      "Wall time: 4min 57s\n"
     ]
    },
    {
     "data": {
      "text/plain": [
       "<keras.callbacks.History at 0x7fe33fa33700>"
      ]
     },
     "execution_count": 12,
     "metadata": {},
     "output_type": "execute_result"
    }
   ],
   "source": [
    "%%time\n",
    "model.compile('adam', run_eagerly=False)\n",
    "model.fit(train, validation_data=valid, batch_size=batch_size, epochs=1)"
   ]
  },
  {
   "cell_type": "markdown",
   "id": "5b06d60d",
   "metadata": {},
   "source": [
    "Save the model"
   ]
  },
  {
   "cell_type": "code",
   "execution_count": 11,
   "id": "dd78a82e",
   "metadata": {},
   "outputs": [
    {
     "name": "stderr",
     "output_type": "stream",
     "text": [
      "WARNING:absl:Found untraced functions such as sequential_block_8_layer_call_fn, sequential_block_8_layer_call_and_return_conditional_losses, binary_classification_task_layer_call_fn, binary_classification_task_layer_call_and_return_conditional_losses, click/binary_classification_task/output_layer_layer_call_fn while saving (showing 5 of 48). These functions will not be directly callable after loading.\n"
     ]
    },
    {
     "name": "stdout",
     "output_type": "stream",
     "text": [
      "INFO:tensorflow:Assets written to: dlrm/assets\n"
     ]
    },
    {
     "name": "stderr",
     "output_type": "stream",
     "text": [
      "INFO:tensorflow:Assets written to: dlrm/assets\n"
     ]
    }
   ],
   "source": [
    "model.save('dlrm')"
   ]
  }
 ],
 "metadata": {
  "kernelspec": {
   "display_name": "Python 3 (ipykernel)",
   "language": "python",
   "name": "python3"
  },
  "language_info": {
   "codemirror_mode": {
    "name": "ipython",
    "version": 3
   },
   "file_extension": ".py",
   "mimetype": "text/x-python",
   "name": "python",
   "nbconvert_exporter": "python",
   "pygments_lexer": "ipython3",
   "version": "3.8.10"
  }
 },
 "nbformat": 4,
 "nbformat_minor": 5
}

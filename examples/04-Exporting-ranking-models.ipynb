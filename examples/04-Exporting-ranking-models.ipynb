{
 "cells": [
  {
   "cell_type": "code",
   "execution_count": 1,
   "id": "8edc2717",
   "metadata": {},
   "outputs": [],
   "source": [
    "# Copyright 2021 NVIDIA Corporation. All Rights Reserved.\n",
    "#\n",
    "# Licensed under the Apache License, Version 2.0 (the \"License\");\n",
    "# you may not use this file except in compliance with the License.\n",
    "# You may obtain a copy of the License at\n",
    "#\n",
    "#     http://www.apache.org/licenses/LICENSE-2.0\n",
    "#\n",
    "# Unless required by applicable law or agreed to in writing, software\n",
    "# distributed under the License is distributed on an \"AS IS\" BASIS,\n",
    "# WITHOUT WARRANTIES OR CONDITIONS OF ANY KIND, either express or implied.\n",
    "# See the License for the specific language governing permissions and\n",
    "# limitations under the License.\n",
    "# ================================"
   ]
  },
  {
   "cell_type": "markdown",
   "id": "391aaf7f",
   "metadata": {},
   "source": [
    "<img src=\"http://developer.download.nvidia.com/compute/machine-learning/frameworks/nvidia_logo.png\" style=\"width: 90px; float: right;\">\n",
    "\n",
    "## Exporting Ranking Models\n",
    "\n",
    "In this example notebook we demonstrate how to export (save) NVTabular `workflow` and a `ranking model` for model deployment with [Merlin Systems](https://github.com/NVIDIA-Merlin/systems) library. \n",
    "\n",
    "Learning Objectives:\n",
    "\n",
    "- Export NVTabular workflow for model deployment\n",
    "- Export TensorFlow DLRM model for model deployment\n",
    "\n",
    "We will follow the steps below:\n",
    "- Prepare the data with NVTabular and export NVTabular workflow\n",
    "- Train a DLRM model with Merlin Models and export the trained model"
   ]
  },
  {
   "cell_type": "markdown",
   "id": "bd17368d",
   "metadata": {},
   "source": [
    "## Importing Libraries"
   ]
  },
  {
   "cell_type": "markdown",
   "id": "5808a69b",
   "metadata": {},
   "source": [
    "Let's start with importing the libraries that we'll use in this notebook."
   ]
  },
  {
   "cell_type": "code",
   "execution_count": 2,
   "id": "6a3fb719",
   "metadata": {},
   "outputs": [
    {
     "name": "stderr",
     "output_type": "stream",
     "text": [
      "2022-03-31 21:30:55.776306: I tensorflow/core/platform/cpu_feature_guard.cc:151] This TensorFlow binary is optimized with oneAPI Deep Neural Network Library (oneDNN) to use the following CPU instructions in performance-critical operations:  AVX2 AVX512F FMA\n",
      "To enable them in other operations, rebuild TensorFlow with the appropriate compiler flags.\n",
      "2022-03-31 21:30:56.890583: I tensorflow/core/common_runtime/gpu/gpu_process_state.cc:214] Using CUDA malloc Async allocator for GPU: 0\n",
      "2022-03-31 21:30:56.890735: I tensorflow/core/common_runtime/gpu/gpu_device.cc:1525] Created device /job:localhost/replica:0/task:0/device:GPU:0 with 16254 MB memory:  -> device: 0, name: Quadro GV100, pci bus id: 0000:15:00.0, compute capability: 7.0\n"
     ]
    }
   ],
   "source": [
    "import os\n",
    "os.environ[\"TF_GPU_ALLOCATOR\"]=\"cuda_malloc_async\"\n",
    "\n",
    "import nvtabular as nvt\n",
    "from nvtabular.ops import *\n",
    "\n",
    "from merlin.models.utils.example_utils import workflow_fit_transform\n",
    "\n",
    "from merlin.schema.tags import Tags\n",
    "from merlin.schema import Schema\n",
    "\n",
    "import merlin.models.tf as mm\n",
    "from merlin.io.dataset import Dataset\n",
    "import tensorflow as tf"
   ]
  },
  {
   "cell_type": "markdown",
   "id": "f94e91ef",
   "metadata": {},
   "source": [
    "## Feature Engineering with NVTabular"
   ]
  },
  {
   "cell_type": "markdown",
   "id": "cd06c248",
   "metadata": {},
   "source": [
    "We use the Ali-CCP: Alibaba Click and Conversion Prediction dataset to build our recommender system models. To download the training and test datasets visit Ali-CCP: Alibaba Click and Conversion Prediction at [tianchi.aliyun.com](https://tianchi.aliyun.com/dataset/dataDetail?dataId=408#1). We have curated the raw dataset via this [script]() and generated the parquet files that we will use in this example.\n",
    "\n",
    "We define our input and output paths."
   ]
  },
  {
   "cell_type": "code",
   "execution_count": 3,
   "id": "14a9bb5b",
   "metadata": {},
   "outputs": [],
   "source": [
    "DATA_FOLDER = os.environ.get(\"DATA_FOLDER\", \"/workspace/data/\")\n",
    "train_path = os.path.join(DATA_FOLDER, 'train/' '*.parquet')\n",
    "valid_path = os.path.join(DATA_FOLDER, 'test/', '*.parquet')\n",
    "output_path = os.path.join(DATA_FOLDER, 'processed/')"
   ]
  },
  {
   "cell_type": "markdown",
   "id": "fe5ff337",
   "metadata": {},
   "source": [
    "After we execute `fit()` and `transform()` functions on the raw dataset applying the operators defined in the NVTabular workflow pipeline below, the processed parquet files are saved to `output_path`."
   ]
  },
  {
   "cell_type": "code",
   "execution_count": 4,
   "id": "f565849f",
   "metadata": {},
   "outputs": [
    {
     "name": "stderr",
     "output_type": "stream",
     "text": [
      "/usr/local/lib/python3.8/dist-packages/cudf/core/dataframe.py:1253: UserWarning: The deep parameter is ignored and is only included for pandas compatibility.\n",
      "  warnings.warn(\n"
     ]
    },
    {
     "name": "stdout",
     "output_type": "stream",
     "text": [
      "CPU times: user 17.3 s, sys: 20.3 s, total: 37.6 s\n",
      "Wall time: 39.9 s\n"
     ]
    }
   ],
   "source": [
    "%%time\n",
    "user_id = [\"user_id\"] >> Categorify() >> TagAsUserID()\n",
    "item_id = [\"item_id\"] >> Categorify() >> TagAsItemID()\n",
    "targets = [\"click\"] >> AddMetadata(tags=[str(Tags.BINARY_CLASSIFICATION), \"target\"])\n",
    "\n",
    "item_features = [\"item_category\", \"item_shop\", \"item_brand\"] >> Categorify() >> TagAsItemFeatures()\n",
    "\n",
    "user_features = ['user_shops', 'user_profile', 'user_group', \n",
    "       'user_gender', 'user_age', 'user_consumption_2', 'user_is_occupied',\n",
    "       'user_geography', 'user_intentions', 'user_brands', 'user_categories'] \\\n",
    "        >> Categorify() >> TagAsUserFeatures()\n",
    "\n",
    "outputs = user_id + item_id + item_features + user_features + targets\n",
    "\n",
    "workflow = nvt.Workflow(outputs)\n",
    "\n",
    "train_dataset = nvt.Dataset(train_path)\n",
    "valid_dataset = nvt.Dataset(valid_path)\n",
    "\n",
    "workflow.fit(train_dataset)\n",
    "workflow.transform(train_dataset).to_parquet(output_path=output_path + \"/train/\")\n",
    "workflow.transform(valid_dataset).to_parquet(output_path=output_path + \"/valid/\")"
   ]
  },
  {
   "cell_type": "markdown",
   "id": "eb5a0d63",
   "metadata": {},
   "source": [
    "We save NVTabular `workflow` model in the current working directory."
   ]
  },
  {
   "cell_type": "code",
   "execution_count": 5,
   "id": "db96d7a5",
   "metadata": {},
   "outputs": [],
   "source": [
    "workflow.save('workflow')"
   ]
  },
  {
   "cell_type": "markdown",
   "id": "04e9eb45",
   "metadata": {},
   "source": [
    "Let's check out our saved workflow model folder."
   ]
  },
  {
   "cell_type": "code",
   "execution_count": null,
   "id": "ed49725b",
   "metadata": {},
   "outputs": [],
   "source": [
    "!apt-get install tree"
   ]
  },
  {
   "cell_type": "code",
   "execution_count": 7,
   "id": "db74a6c7",
   "metadata": {},
   "outputs": [
    {
     "name": "stdout",
     "output_type": "stream",
     "text": [
      "\u001b[01;34m./workflow\u001b[00m\n",
      "├── \u001b[01;34mcategories\u001b[00m\n",
      "│   ├── cat_stats.item_brand.parquet\n",
      "│   ├── cat_stats.item_category.parquet\n",
      "│   ├── cat_stats.item_id.parquet\n",
      "│   ├── cat_stats.item_shop.parquet\n",
      "│   ├── cat_stats.user_id.parquet\n",
      "│   ├── cat_stats.user_item_brands.parquet\n",
      "│   ├── cat_stats.user_item_categories.parquet\n",
      "│   ├── cat_stats.user_item_intentions.parquet\n",
      "│   ├── cat_stats.user_item_shops.parquet\n",
      "│   ├── unique.item_brand.parquet\n",
      "│   ├── unique.item_category.parquet\n",
      "│   ├── unique.item_id.parquet\n",
      "│   ├── unique.item_shop.parquet\n",
      "│   ├── unique.user_age.parquet\n",
      "│   ├── unique.user_brands.parquet\n",
      "│   ├── unique.user_categories.parquet\n",
      "│   ├── unique.user_consumption_2.parquet\n",
      "│   ├── unique.user_gender.parquet\n",
      "│   ├── unique.user_geography.parquet\n",
      "│   ├── unique.user_group.parquet\n",
      "│   ├── unique.user_id.parquet\n",
      "│   ├── unique.user_intentions.parquet\n",
      "│   ├── unique.user_is_occupied.parquet\n",
      "│   ├── unique.user_item_brands.parquet\n",
      "│   ├── unique.user_item_categories.parquet\n",
      "│   ├── unique.user_item_intentions.parquet\n",
      "│   ├── unique.user_item_shops.parquet\n",
      "│   ├── unique.user_profile.parquet\n",
      "│   └── unique.user_shops.parquet\n",
      "├── metadata.json\n",
      "└── workflow.pkl\n",
      "\n",
      "1 directory, 31 files\n"
     ]
    }
   ],
   "source": [
    "!tree ./workflow"
   ]
  },
  {
   "cell_type": "markdown",
   "id": "6f3deeda",
   "metadata": {
    "tags": []
   },
   "source": [
    "## Build and Train a DLRM model"
   ]
  },
  {
   "cell_type": "markdown",
   "id": "b96fb0c2",
   "metadata": {},
   "source": [
    "In this example, we build, train, and export a Deep Learning Recommendation Model [(DLRM)](https://arxiv.org/abs/1906.00091) architecture. To learn more about how to train different deep learning models, how easily transition from one model to another and the seamless integration between data preparation and model training visit [03-Exploring-different-models.ipynb](https://github.com/NVIDIA-Merlin/models/blob/main/examples/03-Exploring-different-models.ipynb) notebook."
   ]
  },
  {
   "cell_type": "markdown",
   "id": "a01b3588",
   "metadata": {},
   "source": [
    "NVTabular workflow above exports a schema file, schema.pbtxt, of our processed dataset. To learn more about the schema object, schema file  and `tags`, you can explore [02-Merlin-Models-and-NVTabular-applying-to-your-own-dataset](https://github.com/NVIDIA-Merlin/models/blob/main/examples/02-Merlin-Models-and-NVTabular-applying-to-your-own-dataset.ipynb) notebook."
   ]
  },
  {
   "cell_type": "code",
   "execution_count": 8,
   "id": "94e9127e",
   "metadata": {},
   "outputs": [],
   "source": [
    "# define train and valid dataset objects\n",
    "train = Dataset(os.path.join(output_path, 'train', '*.parquet'), part_size=\"500MB\")\n",
    "valid = Dataset(os.path.join(output_path, 'valid', '*.parquet'), part_size=\"500MB\")\n",
    "\n",
    "# define schema object\n",
    "schema = train.schema"
   ]
  },
  {
   "cell_type": "code",
   "execution_count": 9,
   "id": "ff4aa656",
   "metadata": {},
   "outputs": [
    {
     "data": {
      "text/plain": [
       "'click'"
      ]
     },
     "execution_count": 9,
     "metadata": {},
     "output_type": "execute_result"
    }
   ],
   "source": [
    "target_column = schema.select_by_tag(Tags.TARGET).column_names[0]\n",
    "target_column"
   ]
  },
  {
   "cell_type": "code",
   "execution_count": 10,
   "id": "54c9ad76",
   "metadata": {},
   "outputs": [],
   "source": [
    "model = mm.DLRMModel(\n",
    "    schema,\n",
    "    embedding_dim=64,\n",
    "    bottom_block=mm.MLPBlock([128, 64]),\n",
    "    top_block=mm.MLPBlock([128, 64, 32]),\n",
    "    prediction_tasks=mm.BinaryClassificationTask(target_column, metrics=[tf.keras.metrics.AUC()])\n",
    ")"
   ]
  },
  {
   "cell_type": "code",
   "execution_count": 11,
   "id": "32e3075d",
   "metadata": {},
   "outputs": [
    {
     "name": "stderr",
     "output_type": "stream",
     "text": [
      "2022-03-31 21:31:41.471629: W tensorflow/python/util/util.cc:368] Sets are not currently considered sequences, but this may change in the future, so consider avoiding using them.\n"
     ]
    },
    {
     "name": "stdout",
     "output_type": "stream",
     "text": [
      "2442/2442 [==============================] - ETA: 0s - auc: 0.6470 - loss: 0.1610 - regularization_loss: 0.0000e+00 - total_loss: 0.1610"
     ]
    },
    {
     "name": "stderr",
     "output_type": "stream",
     "text": [
      "2022-03-31 21:35:58.098395: W tensorflow/core/grappler/optimizers/loop_optimizer.cc:907] Skipping loop optimization for Merge node with control input: cond/else/_1/cond/cond/branch_executed/_175\n"
     ]
    },
    {
     "name": "stdout",
     "output_type": "stream",
     "text": [
      "2442/2442 [==============================] - 307s 114ms/step - auc: 0.6470 - loss: 0.1610 - regularization_loss: 0.0000e+00 - total_loss: 0.1610 - val_auc: 0.6057 - val_loss: 0.1208 - val_regularization_loss: 0.0000e+00 - val_total_loss: 0.1208\n",
      "CPU times: user 8min 7s, sys: 1min 32s, total: 9min 39s\n",
      "Wall time: 5min 9s\n"
     ]
    },
    {
     "data": {
      "text/plain": [
       "<keras.callbacks.History at 0x7ffb1d4985e0>"
      ]
     },
     "execution_count": 11,
     "metadata": {},
     "output_type": "execute_result"
    }
   ],
   "source": [
    "%%time\n",
    "\n",
    "model.compile('adam', run_eagerly=False)\n",
    "model.fit(train, validation_data=valid, batch_size=16*1024)"
   ]
  },
  {
   "cell_type": "markdown",
   "id": "8b943193",
   "metadata": {},
   "source": [
    "### Save model"
   ]
  },
  {
   "cell_type": "markdown",
   "id": "d8310fc4",
   "metadata": {},
   "source": [
    "The last step of machine learning (ML)/deep learning (DL) pipeline is to deploy the ETL workflow and saved model to production. In the production setting, we want to transform the input data as done during training (ETL). We need to apply the same mean/std for continuous features and use the same categorical mapping to convert the categories to continuous integer before we use the DL model for a prediction. Therefore, we deploy the NVTabular workflow with the Tensorflow model as an ensemble model to Triton Inference using [Merlin Systems](https://github.com/NVIDIA-Merlin/systems) library very easily. The ensemble model guarantees that the same transformation is applied to the raw inputs.\n",
    "\n",
    "Let's save our DLRM model."
   ]
  },
  {
   "cell_type": "code",
   "execution_count": 12,
   "id": "6f9166b8",
   "metadata": {},
   "outputs": [
    {
     "name": "stderr",
     "output_type": "stream",
     "text": [
      "WARNING:absl:Found untraced functions such as sequential_block_8_layer_call_fn, sequential_block_8_layer_call_and_return_conditional_losses, binary_classification_task_layer_call_fn, binary_classification_task_layer_call_and_return_conditional_losses, click/binary_classification_task/output_layer_layer_call_fn while saving (showing 5 of 48). These functions will not be directly callable after loading.\n"
     ]
    },
    {
     "name": "stdout",
     "output_type": "stream",
     "text": [
      "INFO:tensorflow:Assets written to: dlrm/assets\n"
     ]
    },
    {
     "name": "stderr",
     "output_type": "stream",
     "text": [
      "INFO:tensorflow:Assets written to: dlrm/assets\n"
     ]
    }
   ],
   "source": [
    "model.save('dlrm')"
   ]
  },
  {
   "cell_type": "markdown",
   "id": "579af2b0",
   "metadata": {},
   "source": [
    "We have NVTabular wokflow  and DLRM model exported, now it is time to move on to the next step: model deployment with [Merlin Systems](https://github.com/NVIDIA-Merlin/systems)."
   ]
  },
  {
   "cell_type": "markdown",
   "id": "53fef5a4",
   "metadata": {},
   "source": [
    "### Deploying the model with Merlin Systems"
   ]
  },
  {
   "cell_type": "markdown",
   "id": "31b44972",
   "metadata": {},
   "source": [
    "We trained and exported our ranking model and NVTabular workflow. In the next step, we will learn how to deploy our trained DLRM model into [Triton Inference Server](https://github.com/triton-inference-server/server) with [Merlin Sytems](https://github.com/NVIDIA-Merlin/systems) library. NVIDIA Triton Inference Server (TIS) simplifies the deployment of AI models at scale in production. TIS provides a cloud and edge inferencing solution optimized for both CPUs and GPUs. It supports a number of different machine learning frameworks such as TensorFlow and PyTorch.\n",
    "\n",
    "For the next step, visit [Merlin Systems](https://github.com/NVIDIA-Merlin/systems) library and execute `Serving-Ranking-Models-With-Merlin-Systems` notebook to deploy our saved DLRM and NVTabular workflow models as an ensemble to TIS and obtain prediction results for a qiven request. In doing so, you need to mount the saved DLRM and NVTabular workflow to the inference container following the instructions in the [README.md](https://github.com/NVIDIA-Merlin/systems/blob/main/examples/Getting_Started/README.md)."
   ]
  }
 ],
 "metadata": {
  "kernelspec": {
   "display_name": "Python 3 (ipykernel)",
   "language": "python",
   "name": "python3"
  },
  "language_info": {
   "codemirror_mode": {
    "name": "ipython",
    "version": 3
   },
   "file_extension": ".py",
   "mimetype": "text/x-python",
   "name": "python",
   "nbconvert_exporter": "python",
   "pygments_lexer": "ipython3",
   "version": "3.8.10"
  }
 },
 "nbformat": 4,
 "nbformat_minor": 5
}
